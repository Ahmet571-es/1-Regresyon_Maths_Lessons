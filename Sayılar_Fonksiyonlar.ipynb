{
 "cells": [
  {
   "cell_type": "code",
   "execution_count": 1,
   "metadata": {},
   "outputs": [],
   "source": [
    "# amstrong sayı bulma:\n",
    "def amstrong_number():\n",
    "    for i in range(0,1):\n",
    "        sayi=int(input(\"Lütfen bir sayı giriniz : \"))\n",
    "        if sayi<=0:\n",
    "            print(\"pozitif bir sayı giriniz.\")\n",
    "            break\n",
    "        elif sayi>0:\n",
    "            basamak=len(str(sayi))\n",
    "            if basamak==1:\n",
    "                print(\"Tek basamklı sayı giremessiniz.\")\n",
    "                break\n",
    "            elif basamak>1:\n",
    "                toplam=0\n",
    "                for i in str(sayi):\n",
    "                    toplam=toplam+(int(i)**basamak)\n",
    "                print(f\"sayıların rakamlara ayırıp basamak sayısı kadar üssünü alıp toplayınca çıkan sonuç = {toplam}\")\n",
    "                if toplam==sayi:\n",
    "                    print(f\"Girilen sayi = {sayi} bir amstrong sayısıdır.\")\n",
    "                elif toplam!=sayi:\n",
    "                    print(f\"Girilen sayi = {sayi} bir amstrong sayısı değildir.\")"
   ]
  },
  {
   "cell_type": "code",
   "execution_count": 19,
   "metadata": {},
   "outputs": [],
   "source": [
    "# asal sayı bulma:\n",
    "# girilen sayılar arasındaki asal sayıları bulma:\n",
    "def asal_sayi():\n",
    "    kac_adet=int(input(\"kaç adet sayı girmek istersiniz : \"))\n",
    "    numbers=[]\n",
    "    for i in range(0,kac_adet):\n",
    "        sayi=int(input( \"sayıyı giriniz.\"))\n",
    "        numbers.append(sayi)\n",
    "        a=min(numbers)\n",
    "        b=max(numbers)\n",
    "    for x in range(a,b + 1):\n",
    "        if x > 1:\n",
    "            for i in range(2,x):\n",
    "                if (x % i) == 0:\n",
    "                    break\n",
    "            else:\n",
    "                print(x)"
   ]
  },
  {
   "cell_type": "code",
   "execution_count": 21,
   "metadata": {},
   "outputs": [],
   "source": [
    "# girilen sayıların toplamını bulma:\n",
    "def toplam_bulma():\n",
    "    kac_adet=int(input(\"kaç adet sayı girmek istersiniz : \"))\n",
    "    toplam=[]\n",
    "    for i in range(0,kac_adet):\n",
    "        sayi=int(input( \"sayıyı giriniz.\"))\n",
    "        toplam.append(sayi)\n",
    "    a=sum(toplam)\n",
    "    print(f\"Girilen sayıların toplamı = {a}\")"
   ]
  },
  {
   "cell_type": "code",
   "execution_count": 25,
   "metadata": {},
   "outputs": [],
   "source": [
    "# girilen sayıların birbirleri ile çarpılması:\n",
    "def carpma():\n",
    "    carp=1\n",
    "    kac_adet=int(input(\"kaç adet sayı girmek istersiniz : \"))\n",
    "    numbers=[]\n",
    "    for i in range(0,kac_adet):\n",
    "        sayi=int(input( \"sayıyı giriniz.\"))\n",
    "        numbers.append(sayi)\n",
    "    for j in numbers:\n",
    "        carp=carp*j\n",
    "    print(f\"sayıların çarpımları = {carp}\")"
   ]
  },
  {
   "cell_type": "code",
   "execution_count": 33,
   "metadata": {},
   "outputs": [],
   "source": [
    "# faktoriyel hesaplama:\n",
    "def faktoriyel():\n",
    "    sayi1=int(input(\"ilk sayıyı giriniz : \"))\n",
    "    sayi2=int(input(\"ikinci sayıyı giriniz : \"))\n",
    "    fak=1\n",
    "    for i in range(sayi1,sayi2+1):\n",
    "        fak=fak*i\n",
    "        print(\"sayı={} ve faktoriyeli ={}\".format(i,fak))"
   ]
  },
  {
   "cell_type": "code",
   "execution_count": 41,
   "metadata": {},
   "outputs": [],
   "source": [
    "# maaş hesaplama:\n",
    "def maas_hesapla2():\n",
    "    hafta_ucret=200 # haftalık ücreti 200 dolar\n",
    "    hafta_saat=int(input(\"Mary hanım bu hafta kaç saat çalıştı= \")) # Mary hanım bu hafta kaç saat çalıştı giriniz.\n",
    "    saat_bası_ucret= -150\n",
    "    print(\"Firmamızdaki 40 saat harici saat başı ücret=15 dolar\")\n",
    "    \n",
    "    if hafta_saat==0:\n",
    "        print(\"Bu hafta ödeme alamayacaksınız...\")\n",
    "        \n",
    "    if hafta_saat<40:\n",
    "        for i in range(1,hafta_saat+1):\n",
    "            saat_bası_ucret+=3\n",
    "        print(f\"Toplam başı kesilecek ücreti={saat_bası_ucret}\")\n",
    "        deger=hafta_ucret+saat_bası_ucret\n",
    "        print(\"bu hafta alacağı={}\".format(deger))\n",
    "         \n",
    "    elif hafta_saat == 40: # eğer bu hafta 40 saat çalıştıysa normal haftalık ücreti alır.\n",
    "        print(hafta_ucret)\n",
    "        \n",
    "    elif hafta_saat > 40:  # eğer 40 saatten fazla çalıştıysa, çalıştığı 40 saat sonrası için saat başı 15 dolar fazla alır. \n",
    "        for i in range(41,hafta_saat+1):\n",
    "            i+=15\n",
    "        print(i+hafta_ucret)\n",
    "    elif hafta_saat>=100:\n",
    "        print(\"İşletmeniz su işlemektedir. Bir çalışan bu kadar çalıştırılamaz\")"
   ]
  },
  {
   "cell_type": "code",
   "execution_count": 51,
   "metadata": {},
   "outputs": [],
   "source": [
    "# fonksiyon içine argüman alma:\n",
    "def us_al(sayi1,sayi2):\n",
    "    us=int(input(\"Üs miktarını yazınız : \"))\n",
    "    for i in range(0,1):\n",
    "        if us<0:\n",
    "            print(\"üs değeri pozitif olmalı\")\n",
    "            break\n",
    "        elif us>0 and us<10:\n",
    "            x=sayi1**us\n",
    "            y=sayi2**us\n",
    "            print(f\"{sayi1} sayının üs = {x}  , {sayi2} sayının üs değeri = {y}\")"
   ]
  },
  {
   "cell_type": "code",
   "execution_count": 53,
   "metadata": {},
   "outputs": [],
   "source": [
    "# en büyük sayıyı bulma:\n",
    "def enbuyuk(*args):\n",
    "    x=max(args)\n",
    "    y=min(args)\n",
    "    print(f\"En büyük sayı = {x} , en küçük sayı = {y}\")"
   ]
  },
  {
   "cell_type": "code",
   "execution_count": 55,
   "metadata": {},
   "outputs": [
    {
     "name": "stdout",
     "output_type": "stream",
     "text": [
      "En büyük sayı = 12 , en küçük sayı = 4\n"
     ]
    }
   ],
   "source": [
    "enbuyuk(12,5,4,7,8)"
   ]
  },
  {
   "cell_type": "code",
   "execution_count": 56,
   "metadata": {},
   "outputs": [],
   "source": [
    "# girilen tüm sayıların toplamını bulma:\n",
    "def sum_off(*args):\n",
    "    toplam=0\n",
    "    for i in args:\n",
    "        toplam=toplam+i\n",
    "    print(f\"Girilen tüm sayıların toplamı={toplam}\")    "
   ]
  },
  {
   "cell_type": "code",
   "execution_count": 57,
   "metadata": {},
   "outputs": [
    {
     "name": "stdout",
     "output_type": "stream",
     "text": [
      "Girilen tüm sayıların toplamı=24\n"
     ]
    }
   ],
   "source": [
    "sum_off(5,4,8,7)"
   ]
  },
  {
   "cell_type": "code",
   "execution_count": 58,
   "metadata": {},
   "outputs": [],
   "source": [
    "# girilen tüm sayıların faktoriyelini alma:\n",
    "def faktoriyel(*args):\n",
    "    fak=1\n",
    "    for i in args:\n",
    "        fak=fak*i\n",
    "        print(f\"{i} sayısının faktoriyeli = {fak}\")"
   ]
  },
  {
   "cell_type": "code",
   "execution_count": 59,
   "metadata": {},
   "outputs": [
    {
     "name": "stdout",
     "output_type": "stream",
     "text": [
      "2 sayısının faktoriyeli = 2\n",
      "4 sayısının faktoriyeli = 8\n",
      "6 sayısının faktoriyeli = 48\n",
      "8 sayısının faktoriyeli = 384\n",
      "10 sayısının faktoriyeli = 3840\n"
     ]
    }
   ],
   "source": [
    "faktoriyel(2,4,6,8,10)"
   ]
  },
  {
   "cell_type": "code",
   "execution_count": 60,
   "metadata": {},
   "outputs": [],
   "source": [
    "# girilen sayıların tek mi çift mi olduğuna bakma:\n",
    "def sayı_kontrol(*args):\n",
    "    for i in args:\n",
    "        if i%2==0:\n",
    "            print(f\"{i} sayısı çift bir sayıdır.\")\n",
    "        elif i%2==1:\n",
    "            print(f\"{i} sayısı tek bir sayıdır.\")"
   ]
  },
  {
   "cell_type": "code",
   "execution_count": 61,
   "metadata": {},
   "outputs": [
    {
     "name": "stdout",
     "output_type": "stream",
     "text": [
      "56 sayısı çift bir sayıdır.\n",
      "4 sayısı çift bir sayıdır.\n",
      "6 sayısı çift bir sayıdır.\n",
      "3 sayısı tek bir sayıdır.\n",
      "11 sayısı tek bir sayıdır.\n",
      "31 sayısı tek bir sayıdır.\n",
      "14 sayısı çift bir sayıdır.\n"
     ]
    }
   ],
   "source": [
    "sayı_kontrol(56,4,6,3,11,31,14)"
   ]
  },
  {
   "cell_type": "code",
   "execution_count": 70,
   "metadata": {},
   "outputs": [],
   "source": [
    "# girilen sayı tek mi çift mi asalmı kontrol:\n",
    "def sayı_kontrol2(*args):\n",
    "    for i in args:\n",
    "        if i%2==0:\n",
    "            print(f\"{i} sayısı çift bir sayıdır.\")\n",
    "        elif i%2!=0:\n",
    "            print(f\"{i} sayısı tek bir sayıdır.\")\n",
    "            \n",
    "    for j in range(3,max(args)):\n",
    "            bolundu = False\n",
    "            for x in range(2,j):\n",
    "                if j % x == 0:\n",
    "                    bolundu=True\n",
    "            if bolundu == False:\n",
    "                print(f\"{j} Sayısı asal bir sayıdır\")"
   ]
  },
  {
   "cell_type": "code",
   "execution_count": 71,
   "metadata": {},
   "outputs": [
    {
     "name": "stdout",
     "output_type": "stream",
     "text": [
      "12 sayısı çift bir sayıdır.\n",
      "3 sayısı tek bir sayıdır.\n",
      "13 sayısı tek bir sayıdır.\n",
      "11 sayısı tek bir sayıdır.\n",
      "15 sayısı tek bir sayıdır.\n",
      "17 sayısı tek bir sayıdır.\n",
      "23 sayısı tek bir sayıdır.\n",
      "22 sayısı çift bir sayıdır.\n",
      "24 sayısı çift bir sayıdır.\n",
      "3 Sayısı asal bir sayıdır\n",
      "5 Sayısı asal bir sayıdır\n",
      "7 Sayısı asal bir sayıdır\n",
      "11 Sayısı asal bir sayıdır\n",
      "13 Sayısı asal bir sayıdır\n",
      "17 Sayısı asal bir sayıdır\n",
      "19 Sayısı asal bir sayıdır\n",
      "23 Sayısı asal bir sayıdır\n"
     ]
    }
   ],
   "source": [
    "sayı_kontrol2(12,3,13,11,15,17,23,22,24)"
   ]
  },
  {
   "cell_type": "code",
   "execution_count": null,
   "metadata": {},
   "outputs": [],
   "source": []
  }
 ],
 "metadata": {
  "kernelspec": {
   "display_name": "Python 3",
   "language": "python",
   "name": "python3"
  },
  "language_info": {
   "codemirror_mode": {
    "name": "ipython",
    "version": 3
   },
   "file_extension": ".py",
   "mimetype": "text/x-python",
   "name": "python",
   "nbconvert_exporter": "python",
   "pygments_lexer": "ipython3",
   "version": "3.8.5"
  }
 },
 "nbformat": 4,
 "nbformat_minor": 4
}
