{
 "cells": [
  {
   "cell_type": "markdown",
   "metadata": {},
   "source": [
    "Makine öğrenmesi sonucunda elde ettiğimiz tahmin yani çıktı kategorik ise classification denir.\n",
    "Eğer elde ettiğimiz çıktı numeric ise regresyon denir.\n",
    "Benzer gözlemleri aynı kümeye atamaya ise Clustering denir."
   ]
  },
  {
   "cell_type": "markdown",
   "metadata": {},
   "source": [
    "### Regresyon : "
   ]
  },
  {
   "cell_type": "markdown",
   "metadata": {},
   "source": [
    "İki veya daha fazla değişken arasında ki ilişkiyi inceler. Korelasyon katsayısı gibi inceler. "
   ]
  },
  {
   "cell_type": "markdown",
   "metadata": {},
   "source": [
    "Linear Regresyon ise 1 tane bağımsız 1 tane de bağımlı değişken arasında ki ilişkiyi inceler. Tek değerli bağımsız değişken olmak zorundadır."
   ]
  },
  {
   "cell_type": "markdown",
   "metadata": {},
   "source": [
    "Örneğin : Evin metrekaresi arttıkça evin fiyatınında artması. arasında doğrusal bir ilişki vardır. Kuvvetli bir korelasyon ilişkisi vardır. Doğrusal olmasının sebebi istikrarlı bir şekilde biri artınca diğerininde artması."
   ]
  },
  {
   "cell_type": "markdown",
   "metadata": {},
   "source": [
    "Y = ax + b şeklinde normal denklem ile çözülür.\n",
    "MSE = ((Y - Yİ)**2)n\n",
    "hata payı = MSE ** 0.5"
   ]
  },
  {
   "cell_type": "markdown",
   "metadata": {},
   "source": [
    "### TEORİ OLARAK LİNEAR REGRESYON ÇÖZÜMÜ : "
   ]
  },
  {
   "cell_type": "code",
   "execution_count": 1,
   "metadata": {},
   "outputs": [],
   "source": [
    "import numpy as np\n",
    "import pandas as pd\n",
    "import matplotlib.pyplot as plt"
   ]
  },
  {
   "cell_type": "code",
   "execution_count": 2,
   "metadata": {},
   "outputs": [
    {
     "data": {
      "text/html": [
       "<div>\n",
       "<style scoped>\n",
       "    .dataframe tbody tr th:only-of-type {\n",
       "        vertical-align: middle;\n",
       "    }\n",
       "\n",
       "    .dataframe tbody tr th {\n",
       "        vertical-align: top;\n",
       "    }\n",
       "\n",
       "    .dataframe thead th {\n",
       "        text-align: right;\n",
       "    }\n",
       "</style>\n",
       "<table border=\"1\" class=\"dataframe\">\n",
       "  <thead>\n",
       "    <tr style=\"text-align: right;\">\n",
       "      <th></th>\n",
       "      <th>alan</th>\n",
       "      <th>fiyat</th>\n",
       "    </tr>\n",
       "  </thead>\n",
       "  <tbody>\n",
       "    <tr>\n",
       "      <th>0</th>\n",
       "      <td>120</td>\n",
       "      <td>870000</td>\n",
       "    </tr>\n",
       "    <tr>\n",
       "      <th>1</th>\n",
       "      <td>140</td>\n",
       "      <td>890000</td>\n",
       "    </tr>\n",
       "    <tr>\n",
       "      <th>2</th>\n",
       "      <td>185</td>\n",
       "      <td>1000000</td>\n",
       "    </tr>\n",
       "    <tr>\n",
       "      <th>3</th>\n",
       "      <td>210</td>\n",
       "      <td>1200000</td>\n",
       "    </tr>\n",
       "    <tr>\n",
       "      <th>4</th>\n",
       "      <td>235</td>\n",
       "      <td>1225000</td>\n",
       "    </tr>\n",
       "    <tr>\n",
       "      <th>5</th>\n",
       "      <td>245</td>\n",
       "      <td>1500000</td>\n",
       "    </tr>\n",
       "    <tr>\n",
       "      <th>6</th>\n",
       "      <td>100</td>\n",
       "      <td>680000</td>\n",
       "    </tr>\n",
       "    <tr>\n",
       "      <th>7</th>\n",
       "      <td>110</td>\n",
       "      <td>725000</td>\n",
       "    </tr>\n",
       "  </tbody>\n",
       "</table>\n",
       "</div>"
      ],
      "text/plain": [
       "   alan    fiyat\n",
       "0   120   870000\n",
       "1   140   890000\n",
       "2   185  1000000\n",
       "3   210  1200000\n",
       "4   235  1225000\n",
       "5   245  1500000\n",
       "6   100   680000\n",
       "7   110   725000"
      ]
     },
     "execution_count": 2,
     "metadata": {},
     "output_type": "execute_result"
    }
   ],
   "source": [
    "df = pd.read_csv(\"linearregression.csv\", sep=\";\")\n",
    "df"
   ]
  },
  {
   "cell_type": "markdown",
   "metadata": {},
   "source": [
    " Burda 2 tane değişken var. biri alan tablosu, biri fiyatlar. fiyatlar burda bağımlı değişkendir. çünkü alan miktarı arttıkça veya azaldıkça fiyatlarda da azalış veya artış olmaktadır. Alan ise bağımsız bir değişkendir. Burda 1 tane bağımsız değikenimiz var. Ve aralarında pozitif yönlü doğrusal bir ilişki var. Grafiğe bakarak gözlemleyelim."
   ]
  },
  {
   "cell_type": "code",
   "execution_count": 18,
   "metadata": {},
   "outputs": [
    {
     "data": {
      "image/png": "[encoded data removed]",
      "text/plain": [
       "<Figure size 432x288 with 1 Axes>"
      ]
     },
     "metadata": {
      "needs_background": "light"
     },
     "output_type": "display_data"
    }
   ],
   "source": [
    "plt.xlabel(\"Alan\")\n",
    "plt.ylabel(\"fiyat\")\n",
    "plt.scatter(\"alan\", \"fiyat\", data=df, marker=\"o\")\n",
    "plt.show()"
   ]
  },
  {
   "cell_type": "markdown",
   "metadata": {},
   "source": [
    "Grafikte de görüldüğü üzere aralarında pozitif yönlü doğrusal bir ilişki var."
   ]
  },
  {
   "cell_type": "markdown",
   "metadata": {},
   "source": [
    "Teori de linear regresyonda ilk önce bağımlı ve bağımsız değikenleri normal denklemine çevirmemiz gerekir."
   ]
  },
  {
   "cell_type": "markdown",
   "metadata": {},
   "source": [
    " df dataframemiz de ki alan ve fiyat arasında ki regresyon katsayılarını denklemini hata karelerini bulalım : "
   ]
  },
  {
   "cell_type": "code",
   "execution_count": 23,
   "metadata": {},
   "outputs": [
    {
     "name": "stdout",
     "output_type": "stream",
     "text": [
      "Alan değişken değerlerinin toplamı =  1345\n",
      "Fiyat değişken değerlerinin toplamı =  8090000\n",
      "Alan ve Fiyat değişken değerlerinin çarpımlarının toplamı =  1469125000\n",
      "Alan değişken  karelerinin toplamı =  249675\n"
     ]
    }
   ],
   "source": [
    "# ilk önce alan tablosun da ki tüm değerlerin toplamını buluruz.\n",
    "alan_toplam = df[\"alan\"].sum()\n",
    "# sonra bağımsız değişkenimiz olan fiyat tablosun da ki tüm değerlerin toplamını buluruz.\n",
    "fiyat_toplam = df[\"fiyat\"].sum()\n",
    "# sonra alan ve fiyat tablosun daki her değeri kendi eşleniği ile çarpıp çıkan sonuçları toplarız.\n",
    "alan_fiyat_carpım = (df[\"alan\"]*df[\"fiyat\"]).sum()\n",
    "# sonra bağımsız değişken olan alan tablosunun her bir değerinin karelri alınıp tüm değerler toplanır.\n",
    "alan_kare_toplam = (df[\"alan\"]**2).sum()\n",
    "print(\"Alan değişken değerlerinin toplamı = \", int(alan_toplam))\n",
    "print(\"Fiyat değişken değerlerinin toplamı = \", int(fiyat_toplam))\n",
    "print(\"Alan ve Fiyat değişken değerlerinin çarpımlarının toplamı = \", int(alan_fiyat_carpım))\n",
    "print(\"Alan değişken  karelerinin toplamı = \", int(alan_kare_toplam))"
   ]
  },
  {
   "cell_type": "markdown",
   "metadata": {},
   "source": [
    "sonra normal denklemi kurarız : \n",
    "\n",
    "ilk olarak bağımsız değişkenin eleman sayılarını buluruz.\n",
    "\n",
    "n = len(df[\"alan\"])\n",
    "\n",
    "fiyat_toplam = a*n + b*alan_toplam\n",
    "\n",
    "alan_fiyat_carpım = a*alan_toplam + b *alan_kare_toplam\n",
    "\n",
    "yaptığımız işlem sonucunda : \n",
    "\n",
    "8090000 = 8a + 1345b\n",
    "\n",
    "1469125000 = 1345a + 249675b \n",
    "\n",
    "şeklinde 2 bilinmeyenli bir denklem elde ederiz. burda normal 2 bilinmeyenli denklem çözümü uygulanır ve a,b değerleri bulunur."
   ]
  },
  {
   "cell_type": "code",
   "execution_count": 33,
   "metadata": {},
   "outputs": [
    {
     "name": "stdout",
     "output_type": "stream",
     "text": [
      "normal denklemin a değeri =  233033 b değeri =  4629\n"
     ]
    }
   ],
   "source": [
    "x = np.array([[8,1345],[1345,249675]])\n",
    "y = np.array([8090000,1469125000])\n",
    "a , b = np.linalg.solve(x,y)\n",
    "a = int(a)\n",
    "b = int(b)+1\n",
    "print(\"normal denklemin a değeri = \", a ,\"b değeri = \", b)"
   ]
  },
  {
   "cell_type": "markdown",
   "metadata": {},
   "source": [
    "Y = 233033+4629X \n",
    "\n",
    "denklemini elde ettik. Şimdi X yerine alan değişkenin de bulunan her bir değeri sırayla vereceğiz. bakalım tahmini değerlerimiz nasıl çıkacak."
   ]
  },
  {
   "cell_type": "code",
   "execution_count": 34,
   "metadata": {},
   "outputs": [
    {
     "data": {
      "text/html": [
       "<div>\n",
       "<style scoped>\n",
       "    .dataframe tbody tr th:only-of-type {\n",
       "        vertical-align: middle;\n",
       "    }\n",
       "\n",
       "    .dataframe tbody tr th {\n",
       "        vertical-align: top;\n",
       "    }\n",
       "\n",
       "    .dataframe thead th {\n",
       "        text-align: right;\n",
       "    }\n",
       "</style>\n",
       "<table border=\"1\" class=\"dataframe\">\n",
       "  <thead>\n",
       "    <tr style=\"text-align: right;\">\n",
       "      <th></th>\n",
       "      <th>alan</th>\n",
       "      <th>fiyat</th>\n",
       "      <th>fiyat_tahmin</th>\n",
       "    </tr>\n",
       "  </thead>\n",
       "  <tbody>\n",
       "    <tr>\n",
       "      <th>0</th>\n",
       "      <td>120</td>\n",
       "      <td>870000</td>\n",
       "      <td>788513</td>\n",
       "    </tr>\n",
       "    <tr>\n",
       "      <th>1</th>\n",
       "      <td>140</td>\n",
       "      <td>890000</td>\n",
       "      <td>881093</td>\n",
       "    </tr>\n",
       "    <tr>\n",
       "      <th>2</th>\n",
       "      <td>185</td>\n",
       "      <td>1000000</td>\n",
       "      <td>1089398</td>\n",
       "    </tr>\n",
       "    <tr>\n",
       "      <th>3</th>\n",
       "      <td>210</td>\n",
       "      <td>1200000</td>\n",
       "      <td>1205123</td>\n",
       "    </tr>\n",
       "    <tr>\n",
       "      <th>4</th>\n",
       "      <td>235</td>\n",
       "      <td>1225000</td>\n",
       "      <td>1320848</td>\n",
       "    </tr>\n",
       "    <tr>\n",
       "      <th>5</th>\n",
       "      <td>245</td>\n",
       "      <td>1500000</td>\n",
       "      <td>1367138</td>\n",
       "    </tr>\n",
       "    <tr>\n",
       "      <th>6</th>\n",
       "      <td>100</td>\n",
       "      <td>680000</td>\n",
       "      <td>695933</td>\n",
       "    </tr>\n",
       "    <tr>\n",
       "      <th>7</th>\n",
       "      <td>110</td>\n",
       "      <td>725000</td>\n",
       "      <td>742223</td>\n",
       "    </tr>\n",
       "  </tbody>\n",
       "</table>\n",
       "</div>"
      ],
      "text/plain": [
       "   alan    fiyat  fiyat_tahmin\n",
       "0   120   870000        788513\n",
       "1   140   890000        881093\n",
       "2   185  1000000       1089398\n",
       "3   210  1200000       1205123\n",
       "4   235  1225000       1320848\n",
       "5   245  1500000       1367138\n",
       "6   100   680000        695933\n",
       "7   110   725000        742223"
      ]
     },
     "execution_count": 34,
     "metadata": {},
     "output_type": "execute_result"
    }
   ],
   "source": [
    "df[\"fiyat_tahmin\"] = 233033 + (4629 * df[\"alan\"])\n",
    "df"
   ]
  },
  {
   "cell_type": "markdown",
   "metadata": {},
   "source": [
    " görüldüğü üzere tahmin değerlerimiz yukarıda geldi. şimdi yaptığımız işlemin hata payını bulalım..."
   ]
  },
  {
   "cell_type": "code",
   "execution_count": 37,
   "metadata": {},
   "outputs": [
    {
     "data": {
      "text/plain": [
       "42127355717"
      ]
     },
     "execution_count": 37,
     "metadata": {},
     "output_type": "execute_result"
    }
   ],
   "source": [
    "# fiyat değerlerinden tahmin değerlerinin her bir değerini çıkarıp sonuçların karelerini alıp toplarız.\n",
    "((df[\"fiyat\"]-df[\"fiyat_tahmin\"])**2).sum()"
   ]
  },
  {
   "cell_type": "code",
   "execution_count": 39,
   "metadata": {},
   "outputs": [
    {
     "data": {
      "text/plain": [
       "83793"
      ]
     },
     "execution_count": 39,
     "metadata": {},
     "output_type": "execute_result"
    }
   ],
   "source": [
    "# sonrasında yukarıda bulduğumuz değeri alan değişkeninin eleman sayısına böleriz ve sonucun karekökünü alırız.\n",
    "# eğer n < 30 ise n-2 değerine böleriz .\n",
    "MSE = (42127355717/(8-2)) ** 0.5\n",
    "MSE = round(MSE)\n",
    "MSE \n",
    "# bulduğumuz hata 83 bin tl dir."
   ]
  },
  {
   "cell_type": "markdown",
   "metadata": {},
   "source": [
    "### PYTHON İLE YAPALIM : "
   ]
  },
  {
   "cell_type": "code",
   "execution_count": 41,
   "metadata": {},
   "outputs": [],
   "source": [
    "from sklearn import linear_model\n",
    "# sklearn kütüphanesinden linear model fonksiyonunu import ettik."
   ]
  },
  {
   "cell_type": "code",
   "execution_count": 43,
   "metadata": {},
   "outputs": [],
   "source": [
    "reg = linear_model.LinearRegression()\n",
    "# sonrasında reg adlı bir değişken tanımlayıp modeli Liner_Regresyon fonksiyon özelliklerini atadım."
   ]
  },
  {
   "cell_type": "code",
   "execution_count": 44,
   "metadata": {},
   "outputs": [
    {
     "data": {
      "text/plain": [
       "LinearRegression()"
      ]
     },
     "execution_count": 44,
     "metadata": {},
     "output_type": "execute_result"
    }
   ],
   "source": [
    "reg.fit(df[[\"alan\"]], df[\"fiyat\"])\n",
    "# fit ederek maiknaya dataframe de ki değişkenler arasında ki ilişkiyi öğrettim."
   ]
  },
  {
   "cell_type": "code",
   "execution_count": 45,
   "metadata": {},
   "outputs": [
    {
     "data": {
      "text/plain": [
       "array([ 788489.05109489,  881065.02986065, 1089360.98208361,\n",
       "       1205080.95554081, 1320800.92899801, 1367088.91838089,\n",
       "        695913.07232913,  742201.06171201])"
      ]
     },
     "execution_count": 45,
     "metadata": {},
     "output_type": "execute_result"
    }
   ],
   "source": [
    "reg.predict(df[[\"alan\"]])\n",
    "# predict yaparak alan değişkenlerini vererek fiyat tahminleri yaptırdım. ama burda array olarak vermiş bunu df e atalım."
   ]
  },
  {
   "cell_type": "code",
   "execution_count": 56,
   "metadata": {},
   "outputs": [
    {
     "data": {
      "text/plain": [
       "[788489, 881065, 1089360, 1205080, 1320800, 1367088, 695913, 742201]"
      ]
     },
     "execution_count": 56,
     "metadata": {},
     "output_type": "execute_result"
    }
   ],
   "source": [
    "fiyat_tahmin = list (reg.predict(df[[\"alan\"]]))\n",
    "fiyat_tahmin_2 = []\n",
    "for i in fiyat_tahmin : \n",
    "    fiyat_tahmin_2.append(int(i))\n",
    "fiyat_tahmin_2\n",
    "# bunu bu şekilde yapmamızın sebebi numpy arrayi int yapamıyoruz. e li değerler çıkıyor. daha iyi analiz etmek için listeye \n",
    "# int yaptık."
   ]
  },
  {
   "cell_type": "code",
   "execution_count": 57,
   "metadata": {},
   "outputs": [
    {
     "data": {
      "text/html": [
       "<div>\n",
       "<style scoped>\n",
       "    .dataframe tbody tr th:only-of-type {\n",
       "        vertical-align: middle;\n",
       "    }\n",
       "\n",
       "    .dataframe tbody tr th {\n",
       "        vertical-align: top;\n",
       "    }\n",
       "\n",
       "    .dataframe thead th {\n",
       "        text-align: right;\n",
       "    }\n",
       "</style>\n",
       "<table border=\"1\" class=\"dataframe\">\n",
       "  <thead>\n",
       "    <tr style=\"text-align: right;\">\n",
       "      <th></th>\n",
       "      <th>alan</th>\n",
       "      <th>fiyat</th>\n",
       "      <th>fiyat_tahmin</th>\n",
       "    </tr>\n",
       "  </thead>\n",
       "  <tbody>\n",
       "    <tr>\n",
       "      <th>0</th>\n",
       "      <td>120</td>\n",
       "      <td>870000</td>\n",
       "      <td>788489</td>\n",
       "    </tr>\n",
       "    <tr>\n",
       "      <th>1</th>\n",
       "      <td>140</td>\n",
       "      <td>890000</td>\n",
       "      <td>881065</td>\n",
       "    </tr>\n",
       "    <tr>\n",
       "      <th>2</th>\n",
       "      <td>185</td>\n",
       "      <td>1000000</td>\n",
       "      <td>1089360</td>\n",
       "    </tr>\n",
       "    <tr>\n",
       "      <th>3</th>\n",
       "      <td>210</td>\n",
       "      <td>1200000</td>\n",
       "      <td>1205080</td>\n",
       "    </tr>\n",
       "    <tr>\n",
       "      <th>4</th>\n",
       "      <td>235</td>\n",
       "      <td>1225000</td>\n",
       "      <td>1320800</td>\n",
       "    </tr>\n",
       "    <tr>\n",
       "      <th>5</th>\n",
       "      <td>245</td>\n",
       "      <td>1500000</td>\n",
       "      <td>1367088</td>\n",
       "    </tr>\n",
       "    <tr>\n",
       "      <th>6</th>\n",
       "      <td>100</td>\n",
       "      <td>680000</td>\n",
       "      <td>695913</td>\n",
       "    </tr>\n",
       "    <tr>\n",
       "      <th>7</th>\n",
       "      <td>110</td>\n",
       "      <td>725000</td>\n",
       "      <td>742201</td>\n",
       "    </tr>\n",
       "  </tbody>\n",
       "</table>\n",
       "</div>"
      ],
      "text/plain": [
       "   alan    fiyat  fiyat_tahmin\n",
       "0   120   870000        788489\n",
       "1   140   890000        881065\n",
       "2   185  1000000       1089360\n",
       "3   210  1200000       1205080\n",
       "4   235  1225000       1320800\n",
       "5   245  1500000       1367088\n",
       "6   100   680000        695913\n",
       "7   110   725000        742201"
      ]
     },
     "execution_count": 57,
     "metadata": {},
     "output_type": "execute_result"
    }
   ],
   "source": [
    "df[\"fiyat_tahmin\"] = fiyat_tahmin_2\n",
    "df"
   ]
  },
  {
   "cell_type": "code",
   "execution_count": 60,
   "metadata": {},
   "outputs": [
    {
     "data": {
      "text/plain": [
       "83792"
      ]
     },
     "execution_count": 60,
     "metadata": {},
     "output_type": "execute_result"
    }
   ],
   "source": [
    "# bunun da MSE DEĞERİNİ bulalım.\n",
    "MSE = ((df[\"fiyat\"] - df[\"fiyat_tahmin\"])**2).sum() / (8-2)\n",
    "MSE = MSE **0.5\n",
    "MSE = int(MSE)\n",
    "MSE \n",
    "# 83 binlik bir hatamız çıktı. yukarı da aynı sonucu bulmuştuk."
   ]
  },
  {
   "cell_type": "code",
   "execution_count": 62,
   "metadata": {},
   "outputs": [
    {
     "data": {
      "text/plain": [
       "4628"
      ]
     },
     "execution_count": 62,
     "metadata": {},
     "output_type": "execute_result"
    }
   ],
   "source": [
    "b = reg.coef_\n",
    "b = int(b)\n",
    "b\n",
    "# coef katsayıdır. yani b katsayısı."
   ]
  },
  {
   "cell_type": "code",
   "execution_count": 63,
   "metadata": {},
   "outputs": [
    {
     "data": {
      "text/plain": [
       "233033"
      ]
     },
     "execution_count": 63,
     "metadata": {},
     "output_type": "execute_result"
    }
   ],
   "source": [
    "a = reg.intercept_\n",
    "a = int(a)\n",
    "a\n",
    "# a değeri de normal denklemdeki toplama sayısıdır."
   ]
  },
  {
   "cell_type": "code",
   "execution_count": 65,
   "metadata": {},
   "outputs": [
    {
     "data": {
      "text/plain": [
       "array([742201.06171201])"
      ]
     },
     "execution_count": 65,
     "metadata": {},
     "output_type": "execute_result"
    }
   ],
   "source": [
    "# 110 metrekare için tahmin de bulunalım.\n",
    "reg.predict([[110]])"
   ]
  },
  {
   "cell_type": "code",
   "execution_count": 66,
   "metadata": {},
   "outputs": [
    {
     "data": {
      "text/plain": [
       "array([1251368.94492369])"
      ]
     },
     "execution_count": 66,
     "metadata": {},
     "output_type": "execute_result"
    }
   ],
   "source": [
    "# 220 metrekare için tahminde bulunalım .\n",
    "reg.predict([[220]])"
   ]
  },
  {
   "cell_type": "code",
   "execution_count": 67,
   "metadata": {},
   "outputs": [
    {
     "data": {
      "image/png": "[encoded data removed]",
      "text/plain": [
       "<Figure size 432x288 with 1 Axes>"
      ]
     },
     "metadata": {
      "needs_background": "light"
     },
     "output_type": "display_data"
    }
   ],
   "source": [
    "plt.xlabel(\"alan\")\n",
    "plt.ylabel(\"fiyat\")\n",
    "plt.scatter(df.alan, df.fiyat, marker=\"o\", color=\"blue\")\n",
    "plt.plot(df.alan, reg.predict(df[[\"alan\"]]), color=\"red\")\n",
    "plt.show()\n",
    "# tahmin ile gerçek değer arasında ki farkı görmek istersek grafik üzerinde.\n",
    "# modelimiz kırmızı gerçek değerimiz mavi."
   ]
  },
  {
   "cell_type": "code",
   "execution_count": null,
   "metadata": {},
   "outputs": [],
   "source": []
  }
 ],
 "metadata": {
  "kernelspec": {
   "display_name": "Python 3",
   "language": "python",
   "name": "python3"
  },
  "language_info": {
   "codemirror_mode": {
    "name": "ipython",
    "version": 3
   },
   "file_extension": ".py",
   "mimetype": "text/x-python",
   "name": "python",
   "nbconvert_exporter": "python",
   "pygments_lexer": "ipython3",
   "version": "3.8.5"
  }
 },
 "nbformat": 4,
 "nbformat_minor": 4
}
