{
 "cells": [
  {
   "cell_type": "markdown",
   "metadata": {},
   "source": [
    "## ÇOKLU_LİNEAR REGRESYON : "
   ]
  },
  {
   "cell_type": "markdown",
   "metadata": {},
   "source": [
    "Birden fazla bağımsız değişkenin olduğu olduğu regresyon modelidir. Her bağımsız değişkenin bağımlı değişken arasında ki ilişkiyi korelasyonunu modeller."
   ]
  },
  {
   "cell_type": "markdown",
   "metadata": {},
   "source": [
    "Gerçek hayattan bir örnek ile yapalım."
   ]
  },
  {
   "cell_type": "code",
   "execution_count": 50,
   "metadata": {},
   "outputs": [],
   "source": [
    "import numpy as np\n",
    "import pandas as pd\n",
    "import matplotlib.pyplot as plt"
   ]
  },
  {
   "cell_type": "code",
   "execution_count": 51,
   "metadata": {},
   "outputs": [],
   "source": [
    "df = pd.read_csv(\"tutun_multilineargression.csv\", sep=\";\")"
   ]
  },
  {
   "cell_type": "markdown",
   "metadata": {},
   "source": [
    " elimizde tütün fiyatları ile ilgili gerçek hayattan alınmış ilk 11 tanesi üzerinde çalışma yapacağımız bir veri seti var."
   ]
  },
  {
   "cell_type": "markdown",
   "metadata": {},
   "source": [
    "### TEORİ : "
   ]
  },
  {
   "cell_type": "code",
   "execution_count": 52,
   "metadata": {},
   "outputs": [
    {
     "data": {
      "text/html": [
       "<div>\n",
       "<style scoped>\n",
       "    .dataframe tbody tr th:only-of-type {\n",
       "        vertical-align: middle;\n",
       "    }\n",
       "\n",
       "    .dataframe tbody tr th {\n",
       "        vertical-align: top;\n",
       "    }\n",
       "\n",
       "    .dataframe thead th {\n",
       "        text-align: right;\n",
       "    }\n",
       "</style>\n",
       "<table border=\"1\" class=\"dataframe\">\n",
       "  <thead>\n",
       "    <tr style=\"text-align: right;\">\n",
       "      <th></th>\n",
       "      <th>tutun_miktar</th>\n",
       "      <th>gubre_kg</th>\n",
       "      <th>fiyat</th>\n",
       "    </tr>\n",
       "  </thead>\n",
       "  <tbody>\n",
       "    <tr>\n",
       "      <th>0</th>\n",
       "      <td>59.2</td>\n",
       "      <td>76.2</td>\n",
       "      <td>23.50</td>\n",
       "    </tr>\n",
       "    <tr>\n",
       "      <th>1</th>\n",
       "      <td>65.4</td>\n",
       "      <td>91.7</td>\n",
       "      <td>24.50</td>\n",
       "    </tr>\n",
       "    <tr>\n",
       "      <th>2</th>\n",
       "      <td>62.3</td>\n",
       "      <td>106.7</td>\n",
       "      <td>32.10</td>\n",
       "    </tr>\n",
       "    <tr>\n",
       "      <th>3</th>\n",
       "      <td>64.7</td>\n",
       "      <td>111.6</td>\n",
       "      <td>32.40</td>\n",
       "    </tr>\n",
       "    <tr>\n",
       "      <th>4</th>\n",
       "      <td>67.4</td>\n",
       "      <td>119.0</td>\n",
       "      <td>31.11</td>\n",
       "    </tr>\n",
       "    <tr>\n",
       "      <th>5</th>\n",
       "      <td>64.4</td>\n",
       "      <td>129.2</td>\n",
       "      <td>34.10</td>\n",
       "    </tr>\n",
       "    <tr>\n",
       "      <th>6</th>\n",
       "      <td>68.0</td>\n",
       "      <td>143.4</td>\n",
       "      <td>35.30</td>\n",
       "    </tr>\n",
       "    <tr>\n",
       "      <th>7</th>\n",
       "      <td>73.4</td>\n",
       "      <td>159.6</td>\n",
       "      <td>38.70</td>\n",
       "    </tr>\n",
       "    <tr>\n",
       "      <th>8</th>\n",
       "      <td>75.7</td>\n",
       "      <td>180.0</td>\n",
       "      <td>39.60</td>\n",
       "    </tr>\n",
       "    <tr>\n",
       "      <th>9</th>\n",
       "      <td>70.7</td>\n",
       "      <td>193.0</td>\n",
       "      <td>46.70</td>\n",
       "    </tr>\n",
       "  </tbody>\n",
       "</table>\n",
       "</div>"
      ],
      "text/plain": [
       "   tutun_miktar  gubre_kg  fiyat\n",
       "0          59.2      76.2  23.50\n",
       "1          65.4      91.7  24.50\n",
       "2          62.3     106.7  32.10\n",
       "3          64.7     111.6  32.40\n",
       "4          67.4     119.0  31.11\n",
       "5          64.4     129.2  34.10\n",
       "6          68.0     143.4  35.30\n",
       "7          73.4     159.6  38.70\n",
       "8          75.7     180.0  39.60\n",
       "9          70.7     193.0  46.70"
      ]
     },
     "execution_count": 52,
     "metadata": {},
     "output_type": "execute_result"
    }
   ],
   "source": [
    "df"
   ]
  },
  {
   "cell_type": "code",
   "execution_count": 53,
   "metadata": {},
   "outputs": [
    {
     "name": "stdout",
     "output_type": "stream",
     "text": [
      "671   1310   338\n"
     ]
    }
   ],
   "source": [
    "# 1. adım : değişkenlerin toplamlarını bulalım.\n",
    "x1_sum = int(df[\"tutun_miktar\"].sum())\n",
    "x2_sum = int(df[\"gubre_kg\"].sum())\n",
    "y_sum = int(df[\"fiyat\"].sum())\n",
    "print(x1_sum , \" \", x2_sum ,\" \", y_sum)"
   ]
  },
  {
   "cell_type": "code",
   "execution_count": 54,
   "metadata": {},
   "outputs": [
    {
     "name": "stdout",
     "output_type": "stream",
     "text": [
      "22922   46565\n"
     ]
    }
   ],
   "source": [
    "# 2. adım her bağımsız değişkeni bağımlı değişken ile çarpıp toplamlarını bulalım.\n",
    "yx1 = int((df[\"tutun_miktar\"] * df[\"fiyat\"]).sum())\n",
    "yx2 = int((df[\"gubre_kg\"] * df[\"fiyat\"]).sum())\n",
    "print(yx1, \" \",yx2)"
   ]
  },
  {
   "cell_type": "code",
   "execution_count": 56,
   "metadata": {},
   "outputs": [
    {
     "name": "stdout",
     "output_type": "stream",
     "text": [
      "45279   184593\n"
     ]
    }
   ],
   "source": [
    "# 3. adım bağımsız değişkenlerin karelerinin toplamları : \n",
    "x1_kare = int((df[\"tutun_miktar\"]**2).sum())\n",
    "x2_kare = int((df[\"gubre_kg\"]**2).sum())\n",
    "print(x1_kare, \" \",x2_kare)"
   ]
  },
  {
   "cell_type": "code",
   "execution_count": 57,
   "metadata": {},
   "outputs": [
    {
     "name": "stdout",
     "output_type": "stream",
     "text": [
      "89454\n"
     ]
    }
   ],
   "source": [
    "# 4. adım : bağımsız değişkenlerin kendi aralarında çarpımlarının toplamları : \n",
    "x1x2 = int((df[\"tutun_miktar\"] * df[\"gubre_kg\"]).sum())\n",
    "print(x1x2)"
   ]
  },
  {
   "cell_type": "code",
   "execution_count": 58,
   "metadata": {},
   "outputs": [
    {
     "data": {
      "text/plain": [
       "10"
      ]
     },
     "execution_count": 58,
     "metadata": {},
     "output_type": "execute_result"
    }
   ],
   "source": [
    "n = len(df[\"fiyat\"])\n",
    "n"
   ]
  },
  {
   "cell_type": "markdown",
   "metadata": {},
   "source": [
    " 5. adım denklemi yazalım .\n",
    " \n",
    "y_sum = n*b1 + x1_sum*b2 + x2_sum*b3\n",
    "\n",
    "yx1 = b1*x1_sum + b2*x1_kare + b3*x1x2\n",
    "\n",
    "yx2 = b1*x2_sum + b2*x1x2 + b3*x2_kare"
   ]
  },
  {
   "cell_type": "code",
   "execution_count": null,
   "metadata": {},
   "outputs": [],
   "source": [
    "338 = b1*10+ b2*671 + b3*1310\n",
    "22922 = b1*671 + b2*45279 + b3*89454\n",
    "46565 = b1*1310 + b2*89454 + b3*184593"
   ]
  },
  {
   "cell_type": "code",
   "execution_count": 59,
   "metadata": {},
   "outputs": [
    {
     "name": "stdout",
     "output_type": "stream",
     "text": [
      "sabit intercept değeri =  34.1\n",
      "katsayı b1 değeri =  -0.45\n",
      "katsayı b2 değeri =  0.23\n"
     ]
    }
   ],
   "source": [
    "a,b1,b2 = np.linalg.solve(np.array([[10,671,1310],[671,45279,89454],[1310,89454,184593]]),np.array([338,22922,46565]))\n",
    "a = round(a,1)\n",
    "b1 = round(b1,2)\n",
    "b2 = round(b2,2)\n",
    "print(\"sabit intercept değeri = \", a)\n",
    "print(\"katsayı b1 değeri = \", b1)\n",
    "print(\"katsayı b2 değeri = \", b2)"
   ]
  },
  {
   "cell_type": "markdown",
   "metadata": {},
   "source": [
    "Y = 34.1 + b1*X1 + b2*X2"
   ]
  },
  {
   "cell_type": "code",
   "execution_count": 60,
   "metadata": {},
   "outputs": [
    {
     "data": {
      "text/html": [
       "<div>\n",
       "<style scoped>\n",
       "    .dataframe tbody tr th:only-of-type {\n",
       "        vertical-align: middle;\n",
       "    }\n",
       "\n",
       "    .dataframe tbody tr th {\n",
       "        vertical-align: top;\n",
       "    }\n",
       "\n",
       "    .dataframe thead th {\n",
       "        text-align: right;\n",
       "    }\n",
       "</style>\n",
       "<table border=\"1\" class=\"dataframe\">\n",
       "  <thead>\n",
       "    <tr style=\"text-align: right;\">\n",
       "      <th></th>\n",
       "      <th>tutun_miktar</th>\n",
       "      <th>gubre_kg</th>\n",
       "      <th>fiyat</th>\n",
       "      <th>tahmin_one</th>\n",
       "    </tr>\n",
       "  </thead>\n",
       "  <tbody>\n",
       "    <tr>\n",
       "      <th>0</th>\n",
       "      <td>59.2</td>\n",
       "      <td>76.2</td>\n",
       "      <td>23.50</td>\n",
       "      <td>24.986</td>\n",
       "    </tr>\n",
       "    <tr>\n",
       "      <th>1</th>\n",
       "      <td>65.4</td>\n",
       "      <td>91.7</td>\n",
       "      <td>24.50</td>\n",
       "      <td>25.761</td>\n",
       "    </tr>\n",
       "    <tr>\n",
       "      <th>2</th>\n",
       "      <td>62.3</td>\n",
       "      <td>106.7</td>\n",
       "      <td>32.10</td>\n",
       "      <td>30.606</td>\n",
       "    </tr>\n",
       "    <tr>\n",
       "      <th>3</th>\n",
       "      <td>64.7</td>\n",
       "      <td>111.6</td>\n",
       "      <td>32.40</td>\n",
       "      <td>30.653</td>\n",
       "    </tr>\n",
       "    <tr>\n",
       "      <th>4</th>\n",
       "      <td>67.4</td>\n",
       "      <td>119.0</td>\n",
       "      <td>31.11</td>\n",
       "      <td>31.140</td>\n",
       "    </tr>\n",
       "    <tr>\n",
       "      <th>5</th>\n",
       "      <td>64.4</td>\n",
       "      <td>129.2</td>\n",
       "      <td>34.10</td>\n",
       "      <td>34.836</td>\n",
       "    </tr>\n",
       "    <tr>\n",
       "      <th>6</th>\n",
       "      <td>68.0</td>\n",
       "      <td>143.4</td>\n",
       "      <td>35.30</td>\n",
       "      <td>36.482</td>\n",
       "    </tr>\n",
       "    <tr>\n",
       "      <th>7</th>\n",
       "      <td>73.4</td>\n",
       "      <td>159.6</td>\n",
       "      <td>38.70</td>\n",
       "      <td>37.778</td>\n",
       "    </tr>\n",
       "    <tr>\n",
       "      <th>8</th>\n",
       "      <td>75.7</td>\n",
       "      <td>180.0</td>\n",
       "      <td>39.60</td>\n",
       "      <td>41.435</td>\n",
       "    </tr>\n",
       "    <tr>\n",
       "      <th>9</th>\n",
       "      <td>70.7</td>\n",
       "      <td>193.0</td>\n",
       "      <td>46.70</td>\n",
       "      <td>46.675</td>\n",
       "    </tr>\n",
       "  </tbody>\n",
       "</table>\n",
       "</div>"
      ],
      "text/plain": [
       "   tutun_miktar  gubre_kg  fiyat  tahmin_one\n",
       "0          59.2      76.2  23.50      24.986\n",
       "1          65.4      91.7  24.50      25.761\n",
       "2          62.3     106.7  32.10      30.606\n",
       "3          64.7     111.6  32.40      30.653\n",
       "4          67.4     119.0  31.11      31.140\n",
       "5          64.4     129.2  34.10      34.836\n",
       "6          68.0     143.4  35.30      36.482\n",
       "7          73.4     159.6  38.70      37.778\n",
       "8          75.7     180.0  39.60      41.435\n",
       "9          70.7     193.0  46.70      46.675"
      ]
     },
     "execution_count": 60,
     "metadata": {},
     "output_type": "execute_result"
    }
   ],
   "source": [
    "df[\"tahmin_one\"] = a + b1*df[\"tutun_miktar\"] + b2*df[\"gubre_kg\"]\n",
    "df"
   ]
  },
  {
   "cell_type": "code",
   "execution_count": 62,
   "metadata": {},
   "outputs": [
    {
     "data": {
      "image/png": "[encoded data removed]",
      "text/plain": [
       "<Figure size 576x360 with 2 Axes>"
      ]
     },
     "metadata": {
      "needs_background": "light"
     },
     "output_type": "display_data"
    }
   ],
   "source": [
    "fig,((ax1, ax2)) = plt.subplots(nrows=1, ncols=2, figsize=(8,5))\n",
    "ax1.scatter(df.tutun_miktar, df.fiyat, marker=\"o\", color=\"blue\")\n",
    "ax1.plot(df.tutun_miktar, df.tahmin_one, color=\"red\")\n",
    "ax2.scatter(df.gubre_kg, df.fiyat, marker=\"+\", color=\"blue\")\n",
    "ax2.plot(df.gubre_kg, df.tahmin_one, color=\"red\")\n",
    "plt.tight_layout(pad=5)\n",
    "plt.show()"
   ]
  },
  {
   "cell_type": "markdown",
   "metadata": {},
   "source": [
    "## PYTHON İLE YAPALIM : "
   ]
  },
  {
   "cell_type": "code",
   "execution_count": null,
   "metadata": {},
   "outputs": [],
   "source": []
  },
  {
   "cell_type": "code",
   "execution_count": 63,
   "metadata": {},
   "outputs": [],
   "source": [
    "from sklearn import linear_model\n",
    "# sklearn kütüphanesinden linear_modeli import ettik."
   ]
  },
  {
   "cell_type": "code",
   "execution_count": 64,
   "metadata": {},
   "outputs": [],
   "source": [
    "reg = linear_model.LinearRegression()\n",
    "# reg değişkenine LinearRegresyon fonksiyonunu attım."
   ]
  },
  {
   "cell_type": "code",
   "execution_count": 65,
   "metadata": {},
   "outputs": [
    {
     "data": {
      "text/plain": [
       "LinearRegression()"
      ]
     },
     "execution_count": 65,
     "metadata": {},
     "output_type": "execute_result"
    }
   ],
   "source": [
    "reg.fit(df[[\"tutun_miktar\",\"gubre_kg\"]], df[\"fiyat\"])\n",
    "# reg ile fit ettik yani makinaya öğrettik."
   ]
  },
  {
   "cell_type": "code",
   "execution_count": 66,
   "metadata": {},
   "outputs": [
    {
     "data": {
      "text/html": [
       "<div>\n",
       "<style scoped>\n",
       "    .dataframe tbody tr th:only-of-type {\n",
       "        vertical-align: middle;\n",
       "    }\n",
       "\n",
       "    .dataframe tbody tr th {\n",
       "        vertical-align: top;\n",
       "    }\n",
       "\n",
       "    .dataframe thead th {\n",
       "        text-align: right;\n",
       "    }\n",
       "</style>\n",
       "<table border=\"1\" class=\"dataframe\">\n",
       "  <thead>\n",
       "    <tr style=\"text-align: right;\">\n",
       "      <th></th>\n",
       "      <th>tutun_miktar</th>\n",
       "      <th>gubre_kg</th>\n",
       "      <th>fiyat</th>\n",
       "      <th>tahmin_one</th>\n",
       "      <th>tahmin_two</th>\n",
       "    </tr>\n",
       "  </thead>\n",
       "  <tbody>\n",
       "    <tr>\n",
       "      <th>0</th>\n",
       "      <td>59.2</td>\n",
       "      <td>76.2</td>\n",
       "      <td>23.50</td>\n",
       "      <td>24.986</td>\n",
       "      <td>24.95</td>\n",
       "    </tr>\n",
       "    <tr>\n",
       "      <th>1</th>\n",
       "      <td>65.4</td>\n",
       "      <td>91.7</td>\n",
       "      <td>24.50</td>\n",
       "      <td>25.761</td>\n",
       "      <td>25.32</td>\n",
       "    </tr>\n",
       "    <tr>\n",
       "      <th>2</th>\n",
       "      <td>62.3</td>\n",
       "      <td>106.7</td>\n",
       "      <td>32.10</td>\n",
       "      <td>30.606</td>\n",
       "      <td>30.57</td>\n",
       "    </tr>\n",
       "    <tr>\n",
       "      <th>3</th>\n",
       "      <td>64.7</td>\n",
       "      <td>111.6</td>\n",
       "      <td>32.40</td>\n",
       "      <td>30.653</td>\n",
       "      <td>30.45</td>\n",
       "    </tr>\n",
       "    <tr>\n",
       "      <th>4</th>\n",
       "      <td>67.4</td>\n",
       "      <td>119.0</td>\n",
       "      <td>31.11</td>\n",
       "      <td>31.140</td>\n",
       "      <td>30.77</td>\n",
       "    </tr>\n",
       "    <tr>\n",
       "      <th>5</th>\n",
       "      <td>64.4</td>\n",
       "      <td>129.2</td>\n",
       "      <td>34.10</td>\n",
       "      <td>34.836</td>\n",
       "      <td>34.82</td>\n",
       "    </tr>\n",
       "    <tr>\n",
       "      <th>6</th>\n",
       "      <td>68.0</td>\n",
       "      <td>143.4</td>\n",
       "      <td>35.30</td>\n",
       "      <td>36.482</td>\n",
       "      <td>36.28</td>\n",
       "    </tr>\n",
       "    <tr>\n",
       "      <th>7</th>\n",
       "      <td>73.4</td>\n",
       "      <td>159.6</td>\n",
       "      <td>38.70</td>\n",
       "      <td>37.778</td>\n",
       "      <td>37.25</td>\n",
       "    </tr>\n",
       "    <tr>\n",
       "      <th>8</th>\n",
       "      <td>75.7</td>\n",
       "      <td>180.0</td>\n",
       "      <td>39.60</td>\n",
       "      <td>41.435</td>\n",
       "      <td>40.89</td>\n",
       "    </tr>\n",
       "    <tr>\n",
       "      <th>9</th>\n",
       "      <td>70.7</td>\n",
       "      <td>193.0</td>\n",
       "      <td>46.70</td>\n",
       "      <td>46.675</td>\n",
       "      <td>46.69</td>\n",
       "    </tr>\n",
       "  </tbody>\n",
       "</table>\n",
       "</div>"
      ],
      "text/plain": [
       "   tutun_miktar  gubre_kg  fiyat  tahmin_one  tahmin_two\n",
       "0          59.2      76.2  23.50      24.986       24.95\n",
       "1          65.4      91.7  24.50      25.761       25.32\n",
       "2          62.3     106.7  32.10      30.606       30.57\n",
       "3          64.7     111.6  32.40      30.653       30.45\n",
       "4          67.4     119.0  31.11      31.140       30.77\n",
       "5          64.4     129.2  34.10      34.836       34.82\n",
       "6          68.0     143.4  35.30      36.482       36.28\n",
       "7          73.4     159.6  38.70      37.778       37.25\n",
       "8          75.7     180.0  39.60      41.435       40.89\n",
       "9          70.7     193.0  46.70      46.675       46.69"
      ]
     },
     "execution_count": 66,
     "metadata": {},
     "output_type": "execute_result"
    }
   ],
   "source": [
    "t = list(reg.predict(df[[\"tutun_miktar\",\"gubre_kg\"]]))\n",
    "t1 = []\n",
    "for i in t:\n",
    "    t1.append(round(i,2))\n",
    "df[\"tahmin_two\"] = t1\n",
    "df"
   ]
  },
  {
   "cell_type": "code",
   "execution_count": 67,
   "metadata": {},
   "outputs": [
    {
     "data": {
      "image/png": "[encoded data removed]",
      "text/plain": [
       "<Figure size 576x360 with 2 Axes>"
      ]
     },
     "metadata": {
      "needs_background": "light"
     },
     "output_type": "display_data"
    }
   ],
   "source": [
    "fig,((ax1, ax2)) = plt.subplots(nrows=1, ncols=2, figsize=(8,5))\n",
    "ax1.scatter(df.tutun_miktar, df.fiyat, marker=\"o\", color=\"blue\")\n",
    "ax1.plot(df.tutun_miktar, df.tahmin_two, color=\"red\")\n",
    "ax2.scatter(df.gubre_kg, df.fiyat, marker=\"+\", color=\"blue\")\n",
    "ax2.plot(df.gubre_kg, df.tahmin_two, color=\"red\")\n",
    "plt.tight_layout(pad=5)\n",
    "plt.show()"
   ]
  },
  {
   "cell_type": "markdown",
   "metadata": {},
   "source": [
    "Bir örnek daha yapalım. Bu sefer 3 tane bağımsız değişken olsun."
   ]
  },
  {
   "cell_type": "code",
   "execution_count": 68,
   "metadata": {},
   "outputs": [
    {
     "data": {
      "text/html": [
       "<div>\n",
       "<style scoped>\n",
       "    .dataframe tbody tr th:only-of-type {\n",
       "        vertical-align: middle;\n",
       "    }\n",
       "\n",
       "    .dataframe tbody tr th {\n",
       "        vertical-align: top;\n",
       "    }\n",
       "\n",
       "    .dataframe thead th {\n",
       "        text-align: right;\n",
       "    }\n",
       "</style>\n",
       "<table border=\"1\" class=\"dataframe\">\n",
       "  <thead>\n",
       "    <tr style=\"text-align: right;\">\n",
       "      <th></th>\n",
       "      <th>alan</th>\n",
       "      <th>odasayisi</th>\n",
       "      <th>binayasi</th>\n",
       "      <th>fiyat</th>\n",
       "    </tr>\n",
       "  </thead>\n",
       "  <tbody>\n",
       "    <tr>\n",
       "      <th>0</th>\n",
       "      <td>180</td>\n",
       "      <td>5</td>\n",
       "      <td>10</td>\n",
       "      <td>510000</td>\n",
       "    </tr>\n",
       "    <tr>\n",
       "      <th>1</th>\n",
       "      <td>225</td>\n",
       "      <td>4</td>\n",
       "      <td>18</td>\n",
       "      <td>508000</td>\n",
       "    </tr>\n",
       "    <tr>\n",
       "      <th>2</th>\n",
       "      <td>260</td>\n",
       "      <td>3</td>\n",
       "      <td>2</td>\n",
       "      <td>548000</td>\n",
       "    </tr>\n",
       "    <tr>\n",
       "      <th>3</th>\n",
       "      <td>320</td>\n",
       "      <td>6</td>\n",
       "      <td>10</td>\n",
       "      <td>650000</td>\n",
       "    </tr>\n",
       "    <tr>\n",
       "      <th>4</th>\n",
       "      <td>335</td>\n",
       "      <td>4</td>\n",
       "      <td>9</td>\n",
       "      <td>628000</td>\n",
       "    </tr>\n",
       "    <tr>\n",
       "      <th>5</th>\n",
       "      <td>345</td>\n",
       "      <td>5</td>\n",
       "      <td>14</td>\n",
       "      <td>632000</td>\n",
       "    </tr>\n",
       "    <tr>\n",
       "      <th>6</th>\n",
       "      <td>355</td>\n",
       "      <td>3</td>\n",
       "      <td>0</td>\n",
       "      <td>680000</td>\n",
       "    </tr>\n",
       "    <tr>\n",
       "      <th>7</th>\n",
       "      <td>400</td>\n",
       "      <td>4</td>\n",
       "      <td>10</td>\n",
       "      <td>725000</td>\n",
       "    </tr>\n",
       "  </tbody>\n",
       "</table>\n",
       "</div>"
      ],
      "text/plain": [
       "   alan  odasayisi  binayasi   fiyat\n",
       "0   180          5        10  510000\n",
       "1   225          4        18  508000\n",
       "2   260          3         2  548000\n",
       "3   320          6        10  650000\n",
       "4   335          4         9  628000\n",
       "5   345          5        14  632000\n",
       "6   355          3         0  680000\n",
       "7   400          4        10  725000"
      ]
     },
     "execution_count": 68,
     "metadata": {},
     "output_type": "execute_result"
    }
   ],
   "source": [
    "df2 = pd.read_csv(\"multilinearregression.csv\", sep=\";\")\n",
    "df2"
   ]
  },
  {
   "cell_type": "code",
   "execution_count": 69,
   "metadata": {},
   "outputs": [],
   "source": [
    "from sklearn import linear_model"
   ]
  },
  {
   "cell_type": "code",
   "execution_count": 70,
   "metadata": {},
   "outputs": [],
   "source": [
    "reg = linear_model.LinearRegression()"
   ]
  },
  {
   "cell_type": "code",
   "execution_count": 72,
   "metadata": {},
   "outputs": [
    {
     "data": {
      "text/plain": [
       "LinearRegression()"
      ]
     },
     "execution_count": 72,
     "metadata": {},
     "output_type": "execute_result"
    }
   ],
   "source": [
    "reg.fit(df2[[\"alan\",\"odasayisi\",\"binayasi\"]], df2[\"fiyat\"])"
   ]
  },
  {
   "cell_type": "code",
   "execution_count": 73,
   "metadata": {},
   "outputs": [
    {
     "data": {
      "text/html": [
       "<div>\n",
       "<style scoped>\n",
       "    .dataframe tbody tr th:only-of-type {\n",
       "        vertical-align: middle;\n",
       "    }\n",
       "\n",
       "    .dataframe tbody tr th {\n",
       "        vertical-align: top;\n",
       "    }\n",
       "\n",
       "    .dataframe thead th {\n",
       "        text-align: right;\n",
       "    }\n",
       "</style>\n",
       "<table border=\"1\" class=\"dataframe\">\n",
       "  <thead>\n",
       "    <tr style=\"text-align: right;\">\n",
       "      <th></th>\n",
       "      <th>alan</th>\n",
       "      <th>odasayisi</th>\n",
       "      <th>binayasi</th>\n",
       "      <th>fiyat</th>\n",
       "      <th>tahmin</th>\n",
       "    </tr>\n",
       "  </thead>\n",
       "  <tbody>\n",
       "    <tr>\n",
       "      <th>0</th>\n",
       "      <td>180</td>\n",
       "      <td>5</td>\n",
       "      <td>10</td>\n",
       "      <td>510000</td>\n",
       "      <td>494187.18</td>\n",
       "    </tr>\n",
       "    <tr>\n",
       "      <th>1</th>\n",
       "      <td>225</td>\n",
       "      <td>4</td>\n",
       "      <td>18</td>\n",
       "      <td>508000</td>\n",
       "      <td>504294.83</td>\n",
       "    </tr>\n",
       "    <tr>\n",
       "      <th>2</th>\n",
       "      <td>260</td>\n",
       "      <td>3</td>\n",
       "      <td>2</td>\n",
       "      <td>548000</td>\n",
       "      <td>566772.90</td>\n",
       "    </tr>\n",
       "    <tr>\n",
       "      <th>3</th>\n",
       "      <td>320</td>\n",
       "      <td>6</td>\n",
       "      <td>10</td>\n",
       "      <td>650000</td>\n",
       "      <td>651740.82</td>\n",
       "    </tr>\n",
       "    <tr>\n",
       "      <th>4</th>\n",
       "      <td>335</td>\n",
       "      <td>4</td>\n",
       "      <td>9</td>\n",
       "      <td>628000</td>\n",
       "      <td>639844.84</td>\n",
       "    </tr>\n",
       "    <tr>\n",
       "      <th>5</th>\n",
       "      <td>345</td>\n",
       "      <td>5</td>\n",
       "      <td>14</td>\n",
       "      <td>632000</td>\n",
       "      <td>651895.22</td>\n",
       "    </tr>\n",
       "    <tr>\n",
       "      <th>6</th>\n",
       "      <td>355</td>\n",
       "      <td>3</td>\n",
       "      <td>0</td>\n",
       "      <td>680000</td>\n",
       "      <td>668791.14</td>\n",
       "    </tr>\n",
       "    <tr>\n",
       "      <th>7</th>\n",
       "      <td>400</td>\n",
       "      <td>4</td>\n",
       "      <td>10</td>\n",
       "      <td>725000</td>\n",
       "      <td>703473.06</td>\n",
       "    </tr>\n",
       "  </tbody>\n",
       "</table>\n",
       "</div>"
      ],
      "text/plain": [
       "   alan  odasayisi  binayasi   fiyat     tahmin\n",
       "0   180          5        10  510000  494187.18\n",
       "1   225          4        18  508000  504294.83\n",
       "2   260          3         2  548000  566772.90\n",
       "3   320          6        10  650000  651740.82\n",
       "4   335          4         9  628000  639844.84\n",
       "5   345          5        14  632000  651895.22\n",
       "6   355          3         0  680000  668791.14\n",
       "7   400          4        10  725000  703473.06"
      ]
     },
     "execution_count": 73,
     "metadata": {},
     "output_type": "execute_result"
    }
   ],
   "source": [
    "e = list(reg.predict(df2[[\"alan\",\"odasayisi\",\"binayasi\"]]))\n",
    "e1 = []\n",
    "for i in e : \n",
    "    e1.append(round(i,2))\n",
    "df2[\"tahmin\"] = e1\n",
    "df2"
   ]
  },
  {
   "cell_type": "code",
   "execution_count": 75,
   "metadata": {},
   "outputs": [
    {
     "data": {
      "image/png": "[encoded data removed]",
      "text/plain": [
       "<Figure size 864x360 with 3 Axes>"
      ]
     },
     "metadata": {
      "needs_background": "light"
     },
     "output_type": "display_data"
    }
   ],
   "source": [
    "fig,((ax1, ax2, ax3)) = plt.subplots(nrows=1, ncols=3, figsize=(12,5))\n",
    "ax1.scatter(df2.alan, df2.fiyat, marker=\"o\", color=\"blue\")\n",
    "ax1.plot(df2.alan, df2.tahmin, color=\"red\")\n",
    "ax2.scatter(df2.odasayisi, df2.fiyat, marker=\"+\", color=\"blue\")\n",
    "ax2.plot(df2.odasayisi, df2.tahmin, color=\"red\")\n",
    "ax3.scatter(df2.binayasi, df2.fiyat, color=\"blue\")\n",
    "ax3.plot(df2.binayasi, df2.tahmin, color=\"red\")\n",
    "plt.tight_layout(pad=5)\n",
    "plt.show()"
   ]
  },
  {
   "cell_type": "code",
   "execution_count": null,
   "metadata": {},
   "outputs": [],
   "source": []
  }
 ],
 "metadata": {
  "kernelspec": {
   "display_name": "Python 3",
   "language": "python",
   "name": "python3"
  },
  "language_info": {
   "codemirror_mode": {
    "name": "ipython",
    "version": 3
   },
   "file_extension": ".py",
   "mimetype": "text/x-python",
   "name": "python",
   "nbconvert_exporter": "python",
   "pygments_lexer": "ipython3",
   "version": "3.8.5"
  }
 },
 "nbformat": 4,
 "nbformat_minor": 4
}
