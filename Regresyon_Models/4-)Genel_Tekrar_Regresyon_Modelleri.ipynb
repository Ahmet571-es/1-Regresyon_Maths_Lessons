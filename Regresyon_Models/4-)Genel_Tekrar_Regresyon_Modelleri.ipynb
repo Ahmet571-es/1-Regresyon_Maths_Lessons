{
 "cells": [
  {
   "cell_type": "markdown",
   "metadata": {},
   "source": [
    "### 1-)LİNEAR REGRESYON: "
   ]
  },
  {
   "cell_type": "markdown",
   "metadata": {},
   "source": [
    "Bir tane bağımsız değikenin olduğu sonuç olarak çıktı olarak sayısal numeric bir değer döndüren regresyonlardır. iki değişken arasında ki korelasyonu inceler. \n",
    "\n",
    "Y = a+bX \n",
    "\n",
    "a = sabit değer.\n",
    "\n",
    "b = eğim => yani regresyon grafiğinde ki çizginin eğimi. bağımsız değişkenleri çarptığımız katsayı demektir."
   ]
  },
  {
   "cell_type": "markdown",
   "metadata": {},
   "source": [
    "Örneğin : metrekare ile evin fiyatı arasında ki ilişkiyi gösterebiliriz. Metrekare arttıkça evin fiyatıda ona göre artmaktadır.burda metrekare baımsız değişkendir. evin fiyatı metrekare değişimden etkilendiği için bağımlı değişkendir."
   ]
  },
  {
   "cell_type": "markdown",
   "metadata": {},
   "source": [
    "Regresyon :Sonuç olarak yani çıktı olarak sayısal değer üretirler.olarak \n",
    "\n",
    "Clasification : Sonuç olarak yani çıktı categoric değer üretirler.\n",
    "\n",
    "Kümeleme(Clustering) : Benzer gözlemleri aynı kümelere atar."
   ]
  },
  {
   "cell_type": "code",
   "execution_count": 70,
   "metadata": {},
   "outputs": [],
   "source": [
    "import numpy as np\n",
    "import pandas as pd"
   ]
  },
  {
   "cell_type": "code",
   "execution_count": 3,
   "metadata": {},
   "outputs": [
    {
     "data": {
      "text/html": [
       "<div>\n",
       "<style scoped>\n",
       "    .dataframe tbody tr th:only-of-type {\n",
       "        vertical-align: middle;\n",
       "    }\n",
       "\n",
       "    .dataframe tbody tr th {\n",
       "        vertical-align: top;\n",
       "    }\n",
       "\n",
       "    .dataframe thead th {\n",
       "        text-align: right;\n",
       "    }\n",
       "</style>\n",
       "<table border=\"1\" class=\"dataframe\">\n",
       "  <thead>\n",
       "    <tr style=\"text-align: right;\">\n",
       "      <th></th>\n",
       "      <th>alan</th>\n",
       "      <th>fiyat</th>\n",
       "    </tr>\n",
       "  </thead>\n",
       "  <tbody>\n",
       "    <tr>\n",
       "      <th>0</th>\n",
       "      <td>120</td>\n",
       "      <td>870000</td>\n",
       "    </tr>\n",
       "    <tr>\n",
       "      <th>1</th>\n",
       "      <td>140</td>\n",
       "      <td>890000</td>\n",
       "    </tr>\n",
       "    <tr>\n",
       "      <th>2</th>\n",
       "      <td>185</td>\n",
       "      <td>1000000</td>\n",
       "    </tr>\n",
       "    <tr>\n",
       "      <th>3</th>\n",
       "      <td>210</td>\n",
       "      <td>1200000</td>\n",
       "    </tr>\n",
       "    <tr>\n",
       "      <th>4</th>\n",
       "      <td>235</td>\n",
       "      <td>1225000</td>\n",
       "    </tr>\n",
       "    <tr>\n",
       "      <th>5</th>\n",
       "      <td>245</td>\n",
       "      <td>1500000</td>\n",
       "    </tr>\n",
       "    <tr>\n",
       "      <th>6</th>\n",
       "      <td>100</td>\n",
       "      <td>680000</td>\n",
       "    </tr>\n",
       "    <tr>\n",
       "      <th>7</th>\n",
       "      <td>110</td>\n",
       "      <td>725000</td>\n",
       "    </tr>\n",
       "  </tbody>\n",
       "</table>\n",
       "</div>"
      ],
      "text/plain": [
       "   alan    fiyat\n",
       "0   120   870000\n",
       "1   140   890000\n",
       "2   185  1000000\n",
       "3   210  1200000\n",
       "4   235  1225000\n",
       "5   245  1500000\n",
       "6   100   680000\n",
       "7   110   725000"
      ]
     },
     "execution_count": 3,
     "metadata": {},
     "output_type": "execute_result"
    }
   ],
   "source": [
    "df = pd.read_csv(\"linearregression.csv\", sep=\";\")\n",
    "df"
   ]
  },
  {
   "cell_type": "markdown",
   "metadata": {},
   "source": [
    "Burda bir tane bağımsız alan değişkenimiz bir tanede bağımlı fiyat değişkenimiz var.  Şimdi bu ikisi arasında ki linear modeli yapalım."
   ]
  },
  {
   "cell_type": "markdown",
   "metadata": {},
   "source": [
    "#### TEORİ İLE YAPALIM:"
   ]
  },
  {
   "cell_type": "markdown",
   "metadata": {},
   "source": [
    "##### Normal DENKLEME ÇEVİRİP  tahminde bulunacağız."
   ]
  },
  {
   "cell_type": "code",
   "execution_count": 4,
   "metadata": {},
   "outputs": [
    {
     "data": {
      "text/html": [
       "<div>\n",
       "<style scoped>\n",
       "    .dataframe tbody tr th:only-of-type {\n",
       "        vertical-align: middle;\n",
       "    }\n",
       "\n",
       "    .dataframe tbody tr th {\n",
       "        vertical-align: top;\n",
       "    }\n",
       "\n",
       "    .dataframe thead th {\n",
       "        text-align: right;\n",
       "    }\n",
       "</style>\n",
       "<table border=\"1\" class=\"dataframe\">\n",
       "  <thead>\n",
       "    <tr style=\"text-align: right;\">\n",
       "      <th></th>\n",
       "      <th>alan</th>\n",
       "      <th>fiyat</th>\n",
       "    </tr>\n",
       "  </thead>\n",
       "  <tbody>\n",
       "    <tr>\n",
       "      <th>0</th>\n",
       "      <td>120</td>\n",
       "      <td>870000</td>\n",
       "    </tr>\n",
       "    <tr>\n",
       "      <th>1</th>\n",
       "      <td>140</td>\n",
       "      <td>890000</td>\n",
       "    </tr>\n",
       "    <tr>\n",
       "      <th>2</th>\n",
       "      <td>185</td>\n",
       "      <td>1000000</td>\n",
       "    </tr>\n",
       "    <tr>\n",
       "      <th>3</th>\n",
       "      <td>210</td>\n",
       "      <td>1200000</td>\n",
       "    </tr>\n",
       "    <tr>\n",
       "      <th>4</th>\n",
       "      <td>235</td>\n",
       "      <td>1225000</td>\n",
       "    </tr>\n",
       "    <tr>\n",
       "      <th>5</th>\n",
       "      <td>245</td>\n",
       "      <td>1500000</td>\n",
       "    </tr>\n",
       "    <tr>\n",
       "      <th>6</th>\n",
       "      <td>100</td>\n",
       "      <td>680000</td>\n",
       "    </tr>\n",
       "    <tr>\n",
       "      <th>7</th>\n",
       "      <td>110</td>\n",
       "      <td>725000</td>\n",
       "    </tr>\n",
       "  </tbody>\n",
       "</table>\n",
       "</div>"
      ],
      "text/plain": [
       "   alan    fiyat\n",
       "0   120   870000\n",
       "1   140   890000\n",
       "2   185  1000000\n",
       "3   210  1200000\n",
       "4   235  1225000\n",
       "5   245  1500000\n",
       "6   100   680000\n",
       "7   110   725000"
      ]
     },
     "execution_count": 4,
     "metadata": {},
     "output_type": "execute_result"
    }
   ],
   "source": [
    "df"
   ]
  },
  {
   "cell_type": "markdown",
   "metadata": {},
   "source": [
    "1-) Bağımsız değişkenimiz alan değişkeninde ki tüm değerlerin toplamını buluruz.\n",
    "\n",
    "2-) Bağımlı değişkenimiz fiyat değişkeninde ki tüm değerlerin toplamını buluruz.\n",
    "\n",
    "3-) Bağımlı ve bağımsız değişkenimizin tüm değerlerini sırayla birbiri ile çarpıp sonra tüm değerlerin toplamını buluruz.\n",
    "\n",
    "4-) Bağımsız alan değişkeninin tüm değerlerinin karelerini alıp toplamını buluruz.\n",
    "\n",
    "Sonra Normal Denklemi elde ederiz."
   ]
  },
  {
   "cell_type": "code",
   "execution_count": 5,
   "metadata": {},
   "outputs": [
    {
     "name": "stdout",
     "output_type": "stream",
     "text": [
      "Alan değişkeninin değerleri toplamı =  1345\n",
      "Fiyat değişkeninin değerleri toplamı =  8090000\n",
      "Alan ve fiyat değişkeninin değerleri çarpımları toplamı =  1469125000\n",
      "Alan değişkeninin değerlerinin kareleri toplamı =  249675\n"
     ]
    }
   ],
   "source": [
    "# Normal denklemi oluşturma :\n",
    "x_top = df[\"alan\"].sum()\n",
    "y_top = df[\"fiyat\"].sum()\n",
    "yx_carpım_top = (df[\"alan\"] * df[\"fiyat\"]).sum()\n",
    "x_kare_top = (df[\"alan\"]**2).sum()\n",
    "print(\"Alan değişkeninin değerleri toplamı = \", x_top)\n",
    "print(\"Fiyat değişkeninin değerleri toplamı = \", y_top)\n",
    "print(\"Alan ve fiyat değişkeninin değerleri çarpımları toplamı = \", yx_carpım_top)\n",
    "print(\"Alan değişkeninin değerlerinin kareleri toplamı = \", x_kare_top)"
   ]
  },
  {
   "cell_type": "code",
   "execution_count": 6,
   "metadata": {},
   "outputs": [
    {
     "data": {
      "text/plain": [
       "8"
      ]
     },
     "execution_count": 6,
     "metadata": {},
     "output_type": "execute_result"
    }
   ],
   "source": [
    "n = len(df[\"fiyat\"])\n",
    "n"
   ]
  },
  {
   "cell_type": "code",
   "execution_count": null,
   "metadata": {},
   "outputs": [],
   "source": [
    "# Şimdi normal denklemi oluşturalım : \n",
    "y_top = 8*a + x_top*b\n",
    "yx_carpım_top = x_top*a + x_kare_top*b\n",
    "# Görüldüğü üzere 2 bilinmeyenli denklemimizi oluşturduk. Şimdi Bu 2 bilinmeyenli denklemi Y = a+bX formatına getirelim\n",
    "# a ve b yi bulalım."
   ]
  },
  {
   "cell_type": "code",
   "execution_count": 7,
   "metadata": {},
   "outputs": [
    {
     "name": "stdout",
     "output_type": "stream",
     "text": [
      "Sabit sayı =  233033.18\n",
      "Eğim yani katsayı değeri =  4628.8\n"
     ]
    }
   ],
   "source": [
    "a = np.array([[8,x_top],[x_top,x_kare_top]])\n",
    "b = np.array([y_top, yx_carpım_top])\n",
    "a, b = np.linalg.solve(a,b)\n",
    "a = round(a,2)\n",
    "b = round(b,2)\n",
    "print(\"Sabit sayı = \", a)\n",
    "print(\"Eğim yani katsayı değeri = \", b)"
   ]
  },
  {
   "cell_type": "markdown",
   "metadata": {},
   "source": [
    "Y = 233033.18 + 4628.8*X \n",
    "\n",
    "Normal denklemini elde ettik. Şimdi X değeri yerine alan değerlerini teker teker yazalım."
   ]
  },
  {
   "cell_type": "code",
   "execution_count": 8,
   "metadata": {},
   "outputs": [
    {
     "data": {
      "text/html": [
       "<div>\n",
       "<style scoped>\n",
       "    .dataframe tbody tr th:only-of-type {\n",
       "        vertical-align: middle;\n",
       "    }\n",
       "\n",
       "    .dataframe tbody tr th {\n",
       "        vertical-align: top;\n",
       "    }\n",
       "\n",
       "    .dataframe thead th {\n",
       "        text-align: right;\n",
       "    }\n",
       "</style>\n",
       "<table border=\"1\" class=\"dataframe\">\n",
       "  <thead>\n",
       "    <tr style=\"text-align: right;\">\n",
       "      <th></th>\n",
       "      <th>alan</th>\n",
       "      <th>fiyat</th>\n",
       "      <th>tahmin_one</th>\n",
       "    </tr>\n",
       "  </thead>\n",
       "  <tbody>\n",
       "    <tr>\n",
       "      <th>0</th>\n",
       "      <td>120</td>\n",
       "      <td>870000</td>\n",
       "      <td>788489.18</td>\n",
       "    </tr>\n",
       "    <tr>\n",
       "      <th>1</th>\n",
       "      <td>140</td>\n",
       "      <td>890000</td>\n",
       "      <td>881065.18</td>\n",
       "    </tr>\n",
       "    <tr>\n",
       "      <th>2</th>\n",
       "      <td>185</td>\n",
       "      <td>1000000</td>\n",
       "      <td>1089361.18</td>\n",
       "    </tr>\n",
       "    <tr>\n",
       "      <th>3</th>\n",
       "      <td>210</td>\n",
       "      <td>1200000</td>\n",
       "      <td>1205081.18</td>\n",
       "    </tr>\n",
       "    <tr>\n",
       "      <th>4</th>\n",
       "      <td>235</td>\n",
       "      <td>1225000</td>\n",
       "      <td>1320801.18</td>\n",
       "    </tr>\n",
       "    <tr>\n",
       "      <th>5</th>\n",
       "      <td>245</td>\n",
       "      <td>1500000</td>\n",
       "      <td>1367089.18</td>\n",
       "    </tr>\n",
       "    <tr>\n",
       "      <th>6</th>\n",
       "      <td>100</td>\n",
       "      <td>680000</td>\n",
       "      <td>695913.18</td>\n",
       "    </tr>\n",
       "    <tr>\n",
       "      <th>7</th>\n",
       "      <td>110</td>\n",
       "      <td>725000</td>\n",
       "      <td>742201.18</td>\n",
       "    </tr>\n",
       "  </tbody>\n",
       "</table>\n",
       "</div>"
      ],
      "text/plain": [
       "   alan    fiyat  tahmin_one\n",
       "0   120   870000   788489.18\n",
       "1   140   890000   881065.18\n",
       "2   185  1000000  1089361.18\n",
       "3   210  1200000  1205081.18\n",
       "4   235  1225000  1320801.18\n",
       "5   245  1500000  1367089.18\n",
       "6   100   680000   695913.18\n",
       "7   110   725000   742201.18"
      ]
     },
     "execution_count": 8,
     "metadata": {},
     "output_type": "execute_result"
    }
   ],
   "source": [
    "df[\"tahmin_one\"] = a+ b*df[\"alan\"]\n",
    "df"
   ]
  },
  {
   "cell_type": "markdown",
   "metadata": {},
   "source": [
    "### PYTHON İLE TAHMİN YAPALIM :"
   ]
  },
  {
   "cell_type": "code",
   "execution_count": 9,
   "metadata": {},
   "outputs": [],
   "source": [
    "from sklearn import linear_model\n",
    "# sklearn kütüphanemiz içinde bulunan linear_modeli import edeceğim bana yukarıda yaptığım işlemleri yapacak."
   ]
  },
  {
   "cell_type": "code",
   "execution_count": 10,
   "metadata": {},
   "outputs": [],
   "source": [
    "reg = linear_model.LinearRegression()\n",
    "# burda linear regresyon işlemi yapacağım için LinearRegression fonksiyonunu reg adlı oluşturduğum değişkenini içine attım."
   ]
  },
  {
   "cell_type": "code",
   "execution_count": 11,
   "metadata": {},
   "outputs": [
    {
     "data": {
      "text/plain": [
       "LinearRegression()"
      ]
     },
     "execution_count": 11,
     "metadata": {},
     "output_type": "execute_result"
    }
   ],
   "source": [
    "reg.fit(df[[\"alan\"]], df[\"fiyat\"])\n",
    "# fit işlemi ile makineye bağımsız değişken ve bağımlı değişken arasında ki ilişkiyi öğrettik."
   ]
  },
  {
   "cell_type": "code",
   "execution_count": 12,
   "metadata": {},
   "outputs": [
    {
     "data": {
      "text/plain": [
       "array([ 788489.05109489,  881065.02986065, 1089360.98208361,\n",
       "       1205080.95554081, 1320800.92899801, 1367088.91838089,\n",
       "        695913.07232913,  742201.06171201])"
      ]
     },
     "execution_count": 12,
     "metadata": {},
     "output_type": "execute_result"
    }
   ],
   "source": [
    "reg.predict(df[[\"alan\"]])\n",
    "# predict ile makineye alan bağımsız değişken değerlerine göre tahminde bulundurduk."
   ]
  },
  {
   "cell_type": "code",
   "execution_count": 13,
   "metadata": {},
   "outputs": [
    {
     "data": {
      "text/html": [
       "<div>\n",
       "<style scoped>\n",
       "    .dataframe tbody tr th:only-of-type {\n",
       "        vertical-align: middle;\n",
       "    }\n",
       "\n",
       "    .dataframe tbody tr th {\n",
       "        vertical-align: top;\n",
       "    }\n",
       "\n",
       "    .dataframe thead th {\n",
       "        text-align: right;\n",
       "    }\n",
       "</style>\n",
       "<table border=\"1\" class=\"dataframe\">\n",
       "  <thead>\n",
       "    <tr style=\"text-align: right;\">\n",
       "      <th></th>\n",
       "      <th>alan</th>\n",
       "      <th>fiyat</th>\n",
       "      <th>tahmin_one</th>\n",
       "      <th>tahmin_two</th>\n",
       "    </tr>\n",
       "  </thead>\n",
       "  <tbody>\n",
       "    <tr>\n",
       "      <th>0</th>\n",
       "      <td>120</td>\n",
       "      <td>870000</td>\n",
       "      <td>788489.18</td>\n",
       "      <td>788489.05</td>\n",
       "    </tr>\n",
       "    <tr>\n",
       "      <th>1</th>\n",
       "      <td>140</td>\n",
       "      <td>890000</td>\n",
       "      <td>881065.18</td>\n",
       "      <td>881065.03</td>\n",
       "    </tr>\n",
       "    <tr>\n",
       "      <th>2</th>\n",
       "      <td>185</td>\n",
       "      <td>1000000</td>\n",
       "      <td>1089361.18</td>\n",
       "      <td>1089360.98</td>\n",
       "    </tr>\n",
       "    <tr>\n",
       "      <th>3</th>\n",
       "      <td>210</td>\n",
       "      <td>1200000</td>\n",
       "      <td>1205081.18</td>\n",
       "      <td>1205080.96</td>\n",
       "    </tr>\n",
       "    <tr>\n",
       "      <th>4</th>\n",
       "      <td>235</td>\n",
       "      <td>1225000</td>\n",
       "      <td>1320801.18</td>\n",
       "      <td>1320800.93</td>\n",
       "    </tr>\n",
       "    <tr>\n",
       "      <th>5</th>\n",
       "      <td>245</td>\n",
       "      <td>1500000</td>\n",
       "      <td>1367089.18</td>\n",
       "      <td>1367088.92</td>\n",
       "    </tr>\n",
       "    <tr>\n",
       "      <th>6</th>\n",
       "      <td>100</td>\n",
       "      <td>680000</td>\n",
       "      <td>695913.18</td>\n",
       "      <td>695913.07</td>\n",
       "    </tr>\n",
       "    <tr>\n",
       "      <th>7</th>\n",
       "      <td>110</td>\n",
       "      <td>725000</td>\n",
       "      <td>742201.18</td>\n",
       "      <td>742201.06</td>\n",
       "    </tr>\n",
       "  </tbody>\n",
       "</table>\n",
       "</div>"
      ],
      "text/plain": [
       "   alan    fiyat  tahmin_one  tahmin_two\n",
       "0   120   870000   788489.18   788489.05\n",
       "1   140   890000   881065.18   881065.03\n",
       "2   185  1000000  1089361.18  1089360.98\n",
       "3   210  1200000  1205081.18  1205080.96\n",
       "4   235  1225000  1320801.18  1320800.93\n",
       "5   245  1500000  1367089.18  1367088.92\n",
       "6   100   680000   695913.18   695913.07\n",
       "7   110   725000   742201.18   742201.06"
      ]
     },
     "execution_count": 13,
     "metadata": {},
     "output_type": "execute_result"
    }
   ],
   "source": [
    "# bu tahminleri df e ekleyelim.\n",
    "tahmin_1 = list(reg.predict(df[[\"alan\"]]))\n",
    "tahmin_2 = []\n",
    "for i in tahmin_1 : \n",
    "    tahmin_2.append(round(i,2))\n",
    "df[\"tahmin_two\"] = tahmin_2\n",
    "df"
   ]
  },
  {
   "cell_type": "code",
   "execution_count": null,
   "metadata": {},
   "outputs": [],
   "source": [
    "# görüldüğü üzere makinamıza basit linear tahmin yaptırdık."
   ]
  },
  {
   "cell_type": "code",
   "execution_count": 16,
   "metadata": {},
   "outputs": [
    {
     "name": "stdout",
     "output_type": "stream",
     "text": [
      "100 metrekare evin fiyatı =  695913 bin tldir.\n"
     ]
    }
   ],
   "source": [
    "# mesela 100 metrekare bir ev için tahminde bulunduralım : \n",
    "print(\"100 metrekare evin fiyatı = \", int(reg.predict([[100]])) , \"bin tldir.\")"
   ]
  },
  {
   "cell_type": "code",
   "execution_count": 17,
   "metadata": {},
   "outputs": [],
   "source": [
    "import matplotlib.pyplot as plt"
   ]
  },
  {
   "cell_type": "code",
   "execution_count": 18,
   "metadata": {},
   "outputs": [
    {
     "data": {
      "image/png": "[encoded data removed]",
      "text/plain": [
       "<Figure size 432x288 with 1 Axes>"
      ]
     },
     "metadata": {
      "needs_background": "light"
     },
     "output_type": "display_data"
    }
   ],
   "source": [
    "plt.xlabel(\"Alan\")\n",
    "plt.ylabel(\"Fiyat\")\n",
    "plt.scatter(df.alan, df.fiyat, marker=\"+\")\n",
    "plt.plot(df.alan, df.tahmin_one, color=\"red\")\n",
    "plt.show()\n",
    "# tahminlerimizi grafik olarak gördük."
   ]
  },
  {
   "cell_type": "code",
   "execution_count": 22,
   "metadata": {},
   "outputs": [
    {
     "data": {
      "text/plain": [
       "83792"
      ]
     },
     "execution_count": 22,
     "metadata": {},
     "output_type": "execute_result"
    }
   ],
   "source": [
    "# birde tahminimizin hata değerini hesaplayalım : \n",
    "# n < 30 ise n-2 ye bölünür.\n",
    "MSE = (((((df[\"fiyat\"]- df[\"tahmin_one\"])**2).sum()) / (n-2)) ** 0.5)\n",
    "MSE = int(MSE)\n",
    "MSE"
   ]
  },
  {
   "cell_type": "code",
   "execution_count": 23,
   "metadata": {},
   "outputs": [
    {
     "data": {
      "text/plain": [
       "233033.1785003316"
      ]
     },
     "execution_count": 23,
     "metadata": {},
     "output_type": "execute_result"
    }
   ],
   "source": [
    "reg.intercept_\n",
    "# bizim yukarıda bulduğumuz a değeri."
   ]
  },
  {
   "cell_type": "code",
   "execution_count": 24,
   "metadata": {},
   "outputs": [
    {
     "data": {
      "text/plain": [
       "array([4628.79893829])"
      ]
     },
     "execution_count": 24,
     "metadata": {},
     "output_type": "execute_result"
    }
   ],
   "source": [
    "reg.coef_\n",
    "# bizim b eğim katsayı değerimiz."
   ]
  },
  {
   "cell_type": "code",
   "execution_count": null,
   "metadata": {},
   "outputs": [],
   "source": []
  },
  {
   "cell_type": "markdown",
   "metadata": {},
   "source": [
    "### 2-)Multiple LİNEAR REGRESYON: "
   ]
  },
  {
   "cell_type": "markdown",
   "metadata": {},
   "source": [
    "Elimizde 1 den fazla bağımsız değişkenin olduğu Linear modellemelerdir. Bağımsız değişken sayısı 1 den büyük olacak.\n",
    "\n",
    "Y = a+b1*X1 + b2*X2 .... + bn*Xn\n",
    "\n",
    "şeklinde ki denklemler ile yapar. Biz linear regresyonda ki gibi normal denkelmi kullanarak yapacağız. yani Y=a+Bx denklemini elde etmeye çalışacağız."
   ]
  },
  {
   "cell_type": "code",
   "execution_count": 38,
   "metadata": {},
   "outputs": [],
   "source": [
    "df = pd.read_csv(\"tutun_multilineargression.csv\", sep=\";\")"
   ]
  },
  {
   "cell_type": "code",
   "execution_count": 39,
   "metadata": {},
   "outputs": [
    {
     "data": {
      "text/html": [
       "<div>\n",
       "<style scoped>\n",
       "    .dataframe tbody tr th:only-of-type {\n",
       "        vertical-align: middle;\n",
       "    }\n",
       "\n",
       "    .dataframe tbody tr th {\n",
       "        vertical-align: top;\n",
       "    }\n",
       "\n",
       "    .dataframe thead th {\n",
       "        text-align: right;\n",
       "    }\n",
       "</style>\n",
       "<table border=\"1\" class=\"dataframe\">\n",
       "  <thead>\n",
       "    <tr style=\"text-align: right;\">\n",
       "      <th></th>\n",
       "      <th>tutun_miktar</th>\n",
       "      <th>gubre_kg</th>\n",
       "      <th>fiyat</th>\n",
       "    </tr>\n",
       "  </thead>\n",
       "  <tbody>\n",
       "    <tr>\n",
       "      <th>0</th>\n",
       "      <td>59.2</td>\n",
       "      <td>76.2</td>\n",
       "      <td>23.50</td>\n",
       "    </tr>\n",
       "    <tr>\n",
       "      <th>1</th>\n",
       "      <td>65.4</td>\n",
       "      <td>91.7</td>\n",
       "      <td>24.50</td>\n",
       "    </tr>\n",
       "    <tr>\n",
       "      <th>2</th>\n",
       "      <td>62.3</td>\n",
       "      <td>106.7</td>\n",
       "      <td>32.10</td>\n",
       "    </tr>\n",
       "    <tr>\n",
       "      <th>3</th>\n",
       "      <td>64.7</td>\n",
       "      <td>111.6</td>\n",
       "      <td>32.40</td>\n",
       "    </tr>\n",
       "    <tr>\n",
       "      <th>4</th>\n",
       "      <td>67.4</td>\n",
       "      <td>119.0</td>\n",
       "      <td>31.11</td>\n",
       "    </tr>\n",
       "    <tr>\n",
       "      <th>5</th>\n",
       "      <td>64.4</td>\n",
       "      <td>129.2</td>\n",
       "      <td>34.10</td>\n",
       "    </tr>\n",
       "    <tr>\n",
       "      <th>6</th>\n",
       "      <td>68.0</td>\n",
       "      <td>143.4</td>\n",
       "      <td>35.30</td>\n",
       "    </tr>\n",
       "    <tr>\n",
       "      <th>7</th>\n",
       "      <td>73.4</td>\n",
       "      <td>159.6</td>\n",
       "      <td>38.70</td>\n",
       "    </tr>\n",
       "    <tr>\n",
       "      <th>8</th>\n",
       "      <td>75.7</td>\n",
       "      <td>180.0</td>\n",
       "      <td>39.60</td>\n",
       "    </tr>\n",
       "    <tr>\n",
       "      <th>9</th>\n",
       "      <td>70.7</td>\n",
       "      <td>193.0</td>\n",
       "      <td>46.70</td>\n",
       "    </tr>\n",
       "  </tbody>\n",
       "</table>\n",
       "</div>"
      ],
      "text/plain": [
       "   tutun_miktar  gubre_kg  fiyat\n",
       "0          59.2      76.2  23.50\n",
       "1          65.4      91.7  24.50\n",
       "2          62.3     106.7  32.10\n",
       "3          64.7     111.6  32.40\n",
       "4          67.4     119.0  31.11\n",
       "5          64.4     129.2  34.10\n",
       "6          68.0     143.4  35.30\n",
       "7          73.4     159.6  38.70\n",
       "8          75.7     180.0  39.60\n",
       "9          70.7     193.0  46.70"
      ]
     },
     "execution_count": 39,
     "metadata": {},
     "output_type": "execute_result"
    }
   ],
   "source": [
    "df"
   ]
  },
  {
   "cell_type": "markdown",
   "metadata": {},
   "source": [
    "Burda alan bilgisine artı olarak binayasi değişkeni de bulunmaktadır."
   ]
  },
  {
   "cell_type": "markdown",
   "metadata": {},
   "source": [
    "#### TEORİ :"
   ]
  },
  {
   "cell_type": "markdown",
   "metadata": {},
   "source": [
    "çOKLU lİNEAR REGRESYON İÇİN NORMAL DENKLEMİ:\n",
    "\n",
    "y_sum = n*b1 + x1_sum*b2 + x2_sum*b3\n",
    "\n",
    "yx1 = b1*x1_sum + b2*x1_kare + b3*x1x2\n",
    "\n",
    "yx2 = b1*x2_sum + b2*x1x2 + b3*x2_kare"
   ]
  },
  {
   "cell_type": "markdown",
   "metadata": {},
   "source": [
    "y bağımlı x1 ve x2 ise bağımsız değişkendir."
   ]
  },
  {
   "cell_type": "code",
   "execution_count": 40,
   "metadata": {},
   "outputs": [
    {
     "name": "stdout",
     "output_type": "stream",
     "text": [
      "671   1310   338\n"
     ]
    }
   ],
   "source": [
    "# 1. adım : değişkenlerin toplamlarını bulalım.\n",
    "x1_sum = int(df[\"tutun_miktar\"].sum())\n",
    "x2_sum = int(df[\"gubre_kg\"].sum())\n",
    "y_sum = int(df[\"fiyat\"].sum())\n",
    "print(x1_sum , \" \", x2_sum ,\" \", y_sum)"
   ]
  },
  {
   "cell_type": "code",
   "execution_count": 41,
   "metadata": {},
   "outputs": [
    {
     "name": "stdout",
     "output_type": "stream",
     "text": [
      "22922   46565\n"
     ]
    }
   ],
   "source": [
    "# 2. adım her bağımsız değişkeni bağımlı değişken ile çarpıp toplamlarını bulalım.\n",
    "yx1 = int((df[\"tutun_miktar\"] * df[\"fiyat\"]).sum())\n",
    "yx2 = int((df[\"gubre_kg\"] * df[\"fiyat\"]).sum())\n",
    "print(yx1, \" \",yx2)"
   ]
  },
  {
   "cell_type": "code",
   "execution_count": 42,
   "metadata": {},
   "outputs": [
    {
     "name": "stdout",
     "output_type": "stream",
     "text": [
      "45279   184593\n"
     ]
    }
   ],
   "source": [
    "# 3. adım bağımsız değişkenlerin karelerinin toplamları : \n",
    "x1_kare = int((df[\"tutun_miktar\"]**2).sum())\n",
    "x2_kare = int((df[\"gubre_kg\"]**2).sum())\n",
    "print(x1_kare, \" \",x2_kare)"
   ]
  },
  {
   "cell_type": "code",
   "execution_count": 43,
   "metadata": {},
   "outputs": [
    {
     "name": "stdout",
     "output_type": "stream",
     "text": [
      "89454\n"
     ]
    }
   ],
   "source": [
    "# 4. adım : bağımsız değişkenlerin kendi aralarında çarpımlarının toplamları : \n",
    "x1x2 = int((df[\"tutun_miktar\"] * df[\"gubre_kg\"]).sum())\n",
    "print(x1x2)"
   ]
  },
  {
   "cell_type": "code",
   "execution_count": 44,
   "metadata": {},
   "outputs": [
    {
     "data": {
      "text/plain": [
       "10"
      ]
     },
     "execution_count": 44,
     "metadata": {},
     "output_type": "execute_result"
    }
   ],
   "source": [
    "n = len(df[\"fiyat\"])\n",
    "n"
   ]
  },
  {
   "cell_type": "code",
   "execution_count": null,
   "metadata": {},
   "outputs": [],
   "source": [
    " 5. adım denklemi yazalım .\n",
    " \n",
    "y_sum = n*b1 + x1_sum*b2 + x2_sum*b3\n",
    "\n",
    "yx1 = b1*x1_sum + b2*x1_kare + b3*x1x2\n",
    "\n",
    "yx2 = b1*x2_sum + b2*x1x2 + b3*x2_kare"
   ]
  },
  {
   "cell_type": "code",
   "execution_count": null,
   "metadata": {},
   "outputs": [],
   "source": [
    "338 = b1*10+ b2*671 + b3*1310\n",
    "22922 = b1*671 + b2*45279 + b3*89454\n",
    "46565 = b1*1310 + b2*89454 + b3*184593"
   ]
  },
  {
   "cell_type": "code",
   "execution_count": 45,
   "metadata": {},
   "outputs": [
    {
     "name": "stdout",
     "output_type": "stream",
     "text": [
      "sabit intercept değeri =  34.1\n",
      "katsayı b1 değeri =  -0.45\n",
      "katsayı b2 değeri =  0.23\n"
     ]
    }
   ],
   "source": [
    "a,b1,b2 = np.linalg.solve(np.array([[10,671,1310],[671,45279,89454],[1310,89454,184593]]),np.array([338,22922,46565]))\n",
    "a = round(a,1)\n",
    "b1 = round(b1,2)\n",
    "b2 = round(b2,2)\n",
    "print(\"sabit intercept değeri = \", a)\n",
    "print(\"katsayı b1 değeri = \", b1)\n",
    "print(\"katsayı b2 değeri = \", b2)"
   ]
  },
  {
   "cell_type": "markdown",
   "metadata": {},
   "source": [
    "Y = 34.1 - 0.45*X1 + 0.23*X2"
   ]
  },
  {
   "cell_type": "code",
   "execution_count": 46,
   "metadata": {},
   "outputs": [
    {
     "data": {
      "text/html": [
       "<div>\n",
       "<style scoped>\n",
       "    .dataframe tbody tr th:only-of-type {\n",
       "        vertical-align: middle;\n",
       "    }\n",
       "\n",
       "    .dataframe tbody tr th {\n",
       "        vertical-align: top;\n",
       "    }\n",
       "\n",
       "    .dataframe thead th {\n",
       "        text-align: right;\n",
       "    }\n",
       "</style>\n",
       "<table border=\"1\" class=\"dataframe\">\n",
       "  <thead>\n",
       "    <tr style=\"text-align: right;\">\n",
       "      <th></th>\n",
       "      <th>tutun_miktar</th>\n",
       "      <th>gubre_kg</th>\n",
       "      <th>fiyat</th>\n",
       "      <th>tahmin_one</th>\n",
       "    </tr>\n",
       "  </thead>\n",
       "  <tbody>\n",
       "    <tr>\n",
       "      <th>0</th>\n",
       "      <td>59.2</td>\n",
       "      <td>76.2</td>\n",
       "      <td>23.50</td>\n",
       "      <td>24.986</td>\n",
       "    </tr>\n",
       "    <tr>\n",
       "      <th>1</th>\n",
       "      <td>65.4</td>\n",
       "      <td>91.7</td>\n",
       "      <td>24.50</td>\n",
       "      <td>25.761</td>\n",
       "    </tr>\n",
       "    <tr>\n",
       "      <th>2</th>\n",
       "      <td>62.3</td>\n",
       "      <td>106.7</td>\n",
       "      <td>32.10</td>\n",
       "      <td>30.606</td>\n",
       "    </tr>\n",
       "    <tr>\n",
       "      <th>3</th>\n",
       "      <td>64.7</td>\n",
       "      <td>111.6</td>\n",
       "      <td>32.40</td>\n",
       "      <td>30.653</td>\n",
       "    </tr>\n",
       "    <tr>\n",
       "      <th>4</th>\n",
       "      <td>67.4</td>\n",
       "      <td>119.0</td>\n",
       "      <td>31.11</td>\n",
       "      <td>31.140</td>\n",
       "    </tr>\n",
       "    <tr>\n",
       "      <th>5</th>\n",
       "      <td>64.4</td>\n",
       "      <td>129.2</td>\n",
       "      <td>34.10</td>\n",
       "      <td>34.836</td>\n",
       "    </tr>\n",
       "    <tr>\n",
       "      <th>6</th>\n",
       "      <td>68.0</td>\n",
       "      <td>143.4</td>\n",
       "      <td>35.30</td>\n",
       "      <td>36.482</td>\n",
       "    </tr>\n",
       "    <tr>\n",
       "      <th>7</th>\n",
       "      <td>73.4</td>\n",
       "      <td>159.6</td>\n",
       "      <td>38.70</td>\n",
       "      <td>37.778</td>\n",
       "    </tr>\n",
       "    <tr>\n",
       "      <th>8</th>\n",
       "      <td>75.7</td>\n",
       "      <td>180.0</td>\n",
       "      <td>39.60</td>\n",
       "      <td>41.435</td>\n",
       "    </tr>\n",
       "    <tr>\n",
       "      <th>9</th>\n",
       "      <td>70.7</td>\n",
       "      <td>193.0</td>\n",
       "      <td>46.70</td>\n",
       "      <td>46.675</td>\n",
       "    </tr>\n",
       "  </tbody>\n",
       "</table>\n",
       "</div>"
      ],
      "text/plain": [
       "   tutun_miktar  gubre_kg  fiyat  tahmin_one\n",
       "0          59.2      76.2  23.50      24.986\n",
       "1          65.4      91.7  24.50      25.761\n",
       "2          62.3     106.7  32.10      30.606\n",
       "3          64.7     111.6  32.40      30.653\n",
       "4          67.4     119.0  31.11      31.140\n",
       "5          64.4     129.2  34.10      34.836\n",
       "6          68.0     143.4  35.30      36.482\n",
       "7          73.4     159.6  38.70      37.778\n",
       "8          75.7     180.0  39.60      41.435\n",
       "9          70.7     193.0  46.70      46.675"
      ]
     },
     "execution_count": 46,
     "metadata": {},
     "output_type": "execute_result"
    }
   ],
   "source": [
    "df[\"tahmin_one\"] = a + b1*df[\"tutun_miktar\"] + b2*df[\"gubre_kg\"]\n",
    "df"
   ]
  },
  {
   "cell_type": "markdown",
   "metadata": {},
   "source": [
    "### PYTHON İLE YAPALIM :"
   ]
  },
  {
   "cell_type": "code",
   "execution_count": 47,
   "metadata": {},
   "outputs": [],
   "source": [
    "from sklearn import linear_model\n",
    "# linear model import edildi."
   ]
  },
  {
   "cell_type": "code",
   "execution_count": 48,
   "metadata": {},
   "outputs": [],
   "source": [
    "reg = linear_model.LinearRegression()"
   ]
  },
  {
   "cell_type": "code",
   "execution_count": 50,
   "metadata": {},
   "outputs": [
    {
     "data": {
      "text/plain": [
       "LinearRegression()"
      ]
     },
     "execution_count": 50,
     "metadata": {},
     "output_type": "execute_result"
    }
   ],
   "source": [
    "reg.fit(df[[\"tutun_miktar\", \"gubre_kg\"]], df[\"fiyat\"])\n",
    "# 2 adet bağımsız değişkenimizi ve 1 adet bağımlı fiyat değişkenimizi fit ederek makineye öğrettik."
   ]
  },
  {
   "cell_type": "code",
   "execution_count": 51,
   "metadata": {},
   "outputs": [
    {
     "data": {
      "text/html": [
       "<div>\n",
       "<style scoped>\n",
       "    .dataframe tbody tr th:only-of-type {\n",
       "        vertical-align: middle;\n",
       "    }\n",
       "\n",
       "    .dataframe tbody tr th {\n",
       "        vertical-align: top;\n",
       "    }\n",
       "\n",
       "    .dataframe thead th {\n",
       "        text-align: right;\n",
       "    }\n",
       "</style>\n",
       "<table border=\"1\" class=\"dataframe\">\n",
       "  <thead>\n",
       "    <tr style=\"text-align: right;\">\n",
       "      <th></th>\n",
       "      <th>tutun_miktar</th>\n",
       "      <th>gubre_kg</th>\n",
       "      <th>fiyat</th>\n",
       "      <th>tahmin_one</th>\n",
       "      <th>tahmin_two</th>\n",
       "    </tr>\n",
       "  </thead>\n",
       "  <tbody>\n",
       "    <tr>\n",
       "      <th>0</th>\n",
       "      <td>59.2</td>\n",
       "      <td>76.2</td>\n",
       "      <td>23.50</td>\n",
       "      <td>24.986</td>\n",
       "      <td>24.946</td>\n",
       "    </tr>\n",
       "    <tr>\n",
       "      <th>1</th>\n",
       "      <td>65.4</td>\n",
       "      <td>91.7</td>\n",
       "      <td>24.50</td>\n",
       "      <td>25.761</td>\n",
       "      <td>25.318</td>\n",
       "    </tr>\n",
       "    <tr>\n",
       "      <th>2</th>\n",
       "      <td>62.3</td>\n",
       "      <td>106.7</td>\n",
       "      <td>32.10</td>\n",
       "      <td>30.606</td>\n",
       "      <td>30.573</td>\n",
       "    </tr>\n",
       "    <tr>\n",
       "      <th>3</th>\n",
       "      <td>64.7</td>\n",
       "      <td>111.6</td>\n",
       "      <td>32.40</td>\n",
       "      <td>30.653</td>\n",
       "      <td>30.454</td>\n",
       "    </tr>\n",
       "    <tr>\n",
       "      <th>4</th>\n",
       "      <td>67.4</td>\n",
       "      <td>119.0</td>\n",
       "      <td>31.11</td>\n",
       "      <td>31.140</td>\n",
       "      <td>30.771</td>\n",
       "    </tr>\n",
       "    <tr>\n",
       "      <th>5</th>\n",
       "      <td>64.4</td>\n",
       "      <td>129.2</td>\n",
       "      <td>34.10</td>\n",
       "      <td>34.836</td>\n",
       "      <td>34.824</td>\n",
       "    </tr>\n",
       "    <tr>\n",
       "      <th>6</th>\n",
       "      <td>68.0</td>\n",
       "      <td>143.4</td>\n",
       "      <td>35.30</td>\n",
       "      <td>36.482</td>\n",
       "      <td>36.284</td>\n",
       "    </tr>\n",
       "    <tr>\n",
       "      <th>7</th>\n",
       "      <td>73.4</td>\n",
       "      <td>159.6</td>\n",
       "      <td>38.70</td>\n",
       "      <td>37.778</td>\n",
       "      <td>37.253</td>\n",
       "    </tr>\n",
       "    <tr>\n",
       "      <th>8</th>\n",
       "      <td>75.7</td>\n",
       "      <td>180.0</td>\n",
       "      <td>39.60</td>\n",
       "      <td>41.435</td>\n",
       "      <td>40.894</td>\n",
       "    </tr>\n",
       "    <tr>\n",
       "      <th>9</th>\n",
       "      <td>70.7</td>\n",
       "      <td>193.0</td>\n",
       "      <td>46.70</td>\n",
       "      <td>46.675</td>\n",
       "      <td>46.693</td>\n",
       "    </tr>\n",
       "  </tbody>\n",
       "</table>\n",
       "</div>"
      ],
      "text/plain": [
       "   tutun_miktar  gubre_kg  fiyat  tahmin_one  tahmin_two\n",
       "0          59.2      76.2  23.50      24.986      24.946\n",
       "1          65.4      91.7  24.50      25.761      25.318\n",
       "2          62.3     106.7  32.10      30.606      30.573\n",
       "3          64.7     111.6  32.40      30.653      30.454\n",
       "4          67.4     119.0  31.11      31.140      30.771\n",
       "5          64.4     129.2  34.10      34.836      34.824\n",
       "6          68.0     143.4  35.30      36.482      36.284\n",
       "7          73.4     159.6  38.70      37.778      37.253\n",
       "8          75.7     180.0  39.60      41.435      40.894\n",
       "9          70.7     193.0  46.70      46.675      46.693"
      ]
     },
     "execution_count": 51,
     "metadata": {},
     "output_type": "execute_result"
    }
   ],
   "source": [
    "tahmin = list(reg.predict(df[[\"tutun_miktar\", \"gubre_kg\"]]))\n",
    "tahmin1 = []\n",
    "for i in tahmin : \n",
    "    tahmin1.append(round(i,3))\n",
    "df[\"tahmin_two\"] = tahmin1\n",
    "df"
   ]
  },
  {
   "cell_type": "code",
   "execution_count": 52,
   "metadata": {},
   "outputs": [],
   "source": [
    "# Hem matematik hem de program ile tahminleme de bulunduk."
   ]
  },
  {
   "cell_type": "code",
   "execution_count": 55,
   "metadata": {},
   "outputs": [
    {
     "data": {
      "text/html": [
       "<div>\n",
       "<style scoped>\n",
       "    .dataframe tbody tr th:only-of-type {\n",
       "        vertical-align: middle;\n",
       "    }\n",
       "\n",
       "    .dataframe tbody tr th {\n",
       "        vertical-align: top;\n",
       "    }\n",
       "\n",
       "    .dataframe thead th {\n",
       "        text-align: right;\n",
       "    }\n",
       "</style>\n",
       "<table border=\"1\" class=\"dataframe\">\n",
       "  <thead>\n",
       "    <tr style=\"text-align: right;\">\n",
       "      <th></th>\n",
       "      <th>alan</th>\n",
       "      <th>odasayisi</th>\n",
       "      <th>binayasi</th>\n",
       "      <th>fiyat</th>\n",
       "    </tr>\n",
       "  </thead>\n",
       "  <tbody>\n",
       "    <tr>\n",
       "      <th>0</th>\n",
       "      <td>180</td>\n",
       "      <td>5</td>\n",
       "      <td>10</td>\n",
       "      <td>510000</td>\n",
       "    </tr>\n",
       "    <tr>\n",
       "      <th>1</th>\n",
       "      <td>225</td>\n",
       "      <td>4</td>\n",
       "      <td>18</td>\n",
       "      <td>508000</td>\n",
       "    </tr>\n",
       "    <tr>\n",
       "      <th>2</th>\n",
       "      <td>260</td>\n",
       "      <td>3</td>\n",
       "      <td>2</td>\n",
       "      <td>548000</td>\n",
       "    </tr>\n",
       "    <tr>\n",
       "      <th>3</th>\n",
       "      <td>320</td>\n",
       "      <td>6</td>\n",
       "      <td>10</td>\n",
       "      <td>650000</td>\n",
       "    </tr>\n",
       "    <tr>\n",
       "      <th>4</th>\n",
       "      <td>335</td>\n",
       "      <td>4</td>\n",
       "      <td>9</td>\n",
       "      <td>628000</td>\n",
       "    </tr>\n",
       "    <tr>\n",
       "      <th>5</th>\n",
       "      <td>345</td>\n",
       "      <td>5</td>\n",
       "      <td>14</td>\n",
       "      <td>632000</td>\n",
       "    </tr>\n",
       "    <tr>\n",
       "      <th>6</th>\n",
       "      <td>355</td>\n",
       "      <td>3</td>\n",
       "      <td>0</td>\n",
       "      <td>680000</td>\n",
       "    </tr>\n",
       "    <tr>\n",
       "      <th>7</th>\n",
       "      <td>400</td>\n",
       "      <td>4</td>\n",
       "      <td>10</td>\n",
       "      <td>725000</td>\n",
       "    </tr>\n",
       "  </tbody>\n",
       "</table>\n",
       "</div>"
      ],
      "text/plain": [
       "   alan  odasayisi  binayasi   fiyat\n",
       "0   180          5        10  510000\n",
       "1   225          4        18  508000\n",
       "2   260          3         2  548000\n",
       "3   320          6        10  650000\n",
       "4   335          4         9  628000\n",
       "5   345          5        14  632000\n",
       "6   355          3         0  680000\n",
       "7   400          4        10  725000"
      ]
     },
     "execution_count": 55,
     "metadata": {},
     "output_type": "execute_result"
    }
   ],
   "source": [
    "# Bir örnek daha yapalım : \n",
    "df = pd.read_csv(\"multilinearregression.csv\", sep=\";\")\n",
    "df"
   ]
  },
  {
   "cell_type": "code",
   "execution_count": 56,
   "metadata": {},
   "outputs": [],
   "source": [
    "from sklearn.linear_model import LinearRegression"
   ]
  },
  {
   "cell_type": "code",
   "execution_count": 57,
   "metadata": {},
   "outputs": [],
   "source": [
    "reg = LinearRegression()"
   ]
  },
  {
   "cell_type": "code",
   "execution_count": 58,
   "metadata": {},
   "outputs": [
    {
     "data": {
      "text/plain": [
       "LinearRegression()"
      ]
     },
     "execution_count": 58,
     "metadata": {},
     "output_type": "execute_result"
    }
   ],
   "source": [
    "reg.fit(df[[\"alan\", \"odasayisi\", \"binayasi\"]], df[\"fiyat\"])"
   ]
  },
  {
   "cell_type": "code",
   "execution_count": 59,
   "metadata": {},
   "outputs": [
    {
     "data": {
      "text/html": [
       "<div>\n",
       "<style scoped>\n",
       "    .dataframe tbody tr th:only-of-type {\n",
       "        vertical-align: middle;\n",
       "    }\n",
       "\n",
       "    .dataframe tbody tr th {\n",
       "        vertical-align: top;\n",
       "    }\n",
       "\n",
       "    .dataframe thead th {\n",
       "        text-align: right;\n",
       "    }\n",
       "</style>\n",
       "<table border=\"1\" class=\"dataframe\">\n",
       "  <thead>\n",
       "    <tr style=\"text-align: right;\">\n",
       "      <th></th>\n",
       "      <th>alan</th>\n",
       "      <th>odasayisi</th>\n",
       "      <th>binayasi</th>\n",
       "      <th>fiyat</th>\n",
       "      <th>tahmin_fiyat</th>\n",
       "    </tr>\n",
       "  </thead>\n",
       "  <tbody>\n",
       "    <tr>\n",
       "      <th>0</th>\n",
       "      <td>180</td>\n",
       "      <td>5</td>\n",
       "      <td>10</td>\n",
       "      <td>510000</td>\n",
       "      <td>494187</td>\n",
       "    </tr>\n",
       "    <tr>\n",
       "      <th>1</th>\n",
       "      <td>225</td>\n",
       "      <td>4</td>\n",
       "      <td>18</td>\n",
       "      <td>508000</td>\n",
       "      <td>504294</td>\n",
       "    </tr>\n",
       "    <tr>\n",
       "      <th>2</th>\n",
       "      <td>260</td>\n",
       "      <td>3</td>\n",
       "      <td>2</td>\n",
       "      <td>548000</td>\n",
       "      <td>566772</td>\n",
       "    </tr>\n",
       "    <tr>\n",
       "      <th>3</th>\n",
       "      <td>320</td>\n",
       "      <td>6</td>\n",
       "      <td>10</td>\n",
       "      <td>650000</td>\n",
       "      <td>651740</td>\n",
       "    </tr>\n",
       "    <tr>\n",
       "      <th>4</th>\n",
       "      <td>335</td>\n",
       "      <td>4</td>\n",
       "      <td>9</td>\n",
       "      <td>628000</td>\n",
       "      <td>639844</td>\n",
       "    </tr>\n",
       "    <tr>\n",
       "      <th>5</th>\n",
       "      <td>345</td>\n",
       "      <td>5</td>\n",
       "      <td>14</td>\n",
       "      <td>632000</td>\n",
       "      <td>651895</td>\n",
       "    </tr>\n",
       "    <tr>\n",
       "      <th>6</th>\n",
       "      <td>355</td>\n",
       "      <td>3</td>\n",
       "      <td>0</td>\n",
       "      <td>680000</td>\n",
       "      <td>668791</td>\n",
       "    </tr>\n",
       "    <tr>\n",
       "      <th>7</th>\n",
       "      <td>400</td>\n",
       "      <td>4</td>\n",
       "      <td>10</td>\n",
       "      <td>725000</td>\n",
       "      <td>703473</td>\n",
       "    </tr>\n",
       "  </tbody>\n",
       "</table>\n",
       "</div>"
      ],
      "text/plain": [
       "   alan  odasayisi  binayasi   fiyat  tahmin_fiyat\n",
       "0   180          5        10  510000        494187\n",
       "1   225          4        18  508000        504294\n",
       "2   260          3         2  548000        566772\n",
       "3   320          6        10  650000        651740\n",
       "4   335          4         9  628000        639844\n",
       "5   345          5        14  632000        651895\n",
       "6   355          3         0  680000        668791\n",
       "7   400          4        10  725000        703473"
      ]
     },
     "execution_count": 59,
     "metadata": {},
     "output_type": "execute_result"
    }
   ],
   "source": [
    "tahmin = list(reg.predict(df[[\"alan\", \"odasayisi\", \"binayasi\"]]))\n",
    "tahmin1 = []\n",
    "for i in tahmin : \n",
    "    tahmin1.append(int(i))\n",
    "df[\"tahmin_fiyat\"] = tahmin1\n",
    "df"
   ]
  },
  {
   "cell_type": "code",
   "execution_count": null,
   "metadata": {},
   "outputs": [],
   "source": []
  },
  {
   "cell_type": "markdown",
   "metadata": {},
   "source": [
    "### 3-)Polyominal REGRESYON: "
   ]
  },
  {
   "cell_type": "markdown",
   "metadata": {},
   "source": [
    "Y = a+b1x1 + b2*x2**2 + b3*x3**3 + .... + bn*xn**n şeklinde ki denklemlerdir."
   ]
  },
  {
   "cell_type": "markdown",
   "metadata": {},
   "source": [
    "Bağımlı ve bağımsız değişkenler arasında linear yani doğrusal bir ilişki yoksa kullanılır. Yani scatter grafiğinde değişkenler arasında ki ilişki düz bir çizgi ile olmuyorsa kullanılır."
   ]
  },
  {
   "cell_type": "code",
   "execution_count": 71,
   "metadata": {},
   "outputs": [
    {
     "data": {
      "text/html": [
       "<div>\n",
       "<style scoped>\n",
       "    .dataframe tbody tr th:only-of-type {\n",
       "        vertical-align: middle;\n",
       "    }\n",
       "\n",
       "    .dataframe tbody tr th {\n",
       "        vertical-align: top;\n",
       "    }\n",
       "\n",
       "    .dataframe thead th {\n",
       "        text-align: right;\n",
       "    }\n",
       "</style>\n",
       "<table border=\"1\" class=\"dataframe\">\n",
       "  <thead>\n",
       "    <tr style=\"text-align: right;\">\n",
       "      <th></th>\n",
       "      <th>deneyim</th>\n",
       "      <th>maas</th>\n",
       "    </tr>\n",
       "  </thead>\n",
       "  <tbody>\n",
       "    <tr>\n",
       "      <th>0</th>\n",
       "      <td>1</td>\n",
       "      <td>4500</td>\n",
       "    </tr>\n",
       "    <tr>\n",
       "      <th>1</th>\n",
       "      <td>2</td>\n",
       "      <td>5000</td>\n",
       "    </tr>\n",
       "    <tr>\n",
       "      <th>2</th>\n",
       "      <td>3</td>\n",
       "      <td>6000</td>\n",
       "    </tr>\n",
       "    <tr>\n",
       "      <th>3</th>\n",
       "      <td>4</td>\n",
       "      <td>8000</td>\n",
       "    </tr>\n",
       "    <tr>\n",
       "      <th>4</th>\n",
       "      <td>5</td>\n",
       "      <td>11000</td>\n",
       "    </tr>\n",
       "    <tr>\n",
       "      <th>5</th>\n",
       "      <td>6</td>\n",
       "      <td>15000</td>\n",
       "    </tr>\n",
       "    <tr>\n",
       "      <th>6</th>\n",
       "      <td>7</td>\n",
       "      <td>20000</td>\n",
       "    </tr>\n",
       "    <tr>\n",
       "      <th>7</th>\n",
       "      <td>8</td>\n",
       "      <td>30000</td>\n",
       "    </tr>\n",
       "    <tr>\n",
       "      <th>8</th>\n",
       "      <td>9</td>\n",
       "      <td>50000</td>\n",
       "    </tr>\n",
       "    <tr>\n",
       "      <th>9</th>\n",
       "      <td>10</td>\n",
       "      <td>100000</td>\n",
       "    </tr>\n",
       "  </tbody>\n",
       "</table>\n",
       "</div>"
      ],
      "text/plain": [
       "   deneyim    maas\n",
       "0        1    4500\n",
       "1        2    5000\n",
       "2        3    6000\n",
       "3        4    8000\n",
       "4        5   11000\n",
       "5        6   15000\n",
       "6        7   20000\n",
       "7        8   30000\n",
       "8        9   50000\n",
       "9       10  100000"
      ]
     },
     "execution_count": 71,
     "metadata": {},
     "output_type": "execute_result"
    }
   ],
   "source": [
    "df = pd.read_csv(\"polynomial.csv\", sep=\";\")\n",
    "df"
   ]
  },
  {
   "cell_type": "code",
   "execution_count": 65,
   "metadata": {},
   "outputs": [
    {
     "data": {
      "image/png": "[encoded data removed]",
      "text/plain": [
       "<Figure size 432x288 with 1 Axes>"
      ]
     },
     "metadata": {
      "needs_background": "light"
     },
     "output_type": "display_data"
    }
   ],
   "source": [
    "plt.scatter(df.deneyim, df.maas, marker=\"+\")\n",
    "plt.plot(df.deneyim, df.maas, color=\"red\")\n",
    "plt.show()"
   ]
  },
  {
   "cell_type": "code",
   "execution_count": 66,
   "metadata": {},
   "outputs": [],
   "source": [
    "# grafiğe bakıldığı üzere linear regresyon uygularsak düz çizgi ile aptalca bir tahmin modeli sunar."
   ]
  },
  {
   "cell_type": "markdown",
   "metadata": {},
   "source": [
    "#### TEORİ : "
   ]
  },
  {
   "cell_type": "code",
   "execution_count": 67,
   "metadata": {},
   "outputs": [
    {
     "data": {
      "text/html": [
       "<div>\n",
       "<style scoped>\n",
       "    .dataframe tbody tr th:only-of-type {\n",
       "        vertical-align: middle;\n",
       "    }\n",
       "\n",
       "    .dataframe tbody tr th {\n",
       "        vertical-align: top;\n",
       "    }\n",
       "\n",
       "    .dataframe thead th {\n",
       "        text-align: right;\n",
       "    }\n",
       "</style>\n",
       "<table border=\"1\" class=\"dataframe\">\n",
       "  <thead>\n",
       "    <tr style=\"text-align: right;\">\n",
       "      <th></th>\n",
       "      <th>deneyim</th>\n",
       "      <th>maas</th>\n",
       "    </tr>\n",
       "  </thead>\n",
       "  <tbody>\n",
       "    <tr>\n",
       "      <th>0</th>\n",
       "      <td>1</td>\n",
       "      <td>4500</td>\n",
       "    </tr>\n",
       "    <tr>\n",
       "      <th>1</th>\n",
       "      <td>2</td>\n",
       "      <td>5000</td>\n",
       "    </tr>\n",
       "    <tr>\n",
       "      <th>2</th>\n",
       "      <td>3</td>\n",
       "      <td>6000</td>\n",
       "    </tr>\n",
       "    <tr>\n",
       "      <th>3</th>\n",
       "      <td>4</td>\n",
       "      <td>8000</td>\n",
       "    </tr>\n",
       "    <tr>\n",
       "      <th>4</th>\n",
       "      <td>5</td>\n",
       "      <td>11000</td>\n",
       "    </tr>\n",
       "    <tr>\n",
       "      <th>5</th>\n",
       "      <td>6</td>\n",
       "      <td>15000</td>\n",
       "    </tr>\n",
       "    <tr>\n",
       "      <th>6</th>\n",
       "      <td>7</td>\n",
       "      <td>20000</td>\n",
       "    </tr>\n",
       "    <tr>\n",
       "      <th>7</th>\n",
       "      <td>8</td>\n",
       "      <td>30000</td>\n",
       "    </tr>\n",
       "    <tr>\n",
       "      <th>8</th>\n",
       "      <td>9</td>\n",
       "      <td>50000</td>\n",
       "    </tr>\n",
       "    <tr>\n",
       "      <th>9</th>\n",
       "      <td>10</td>\n",
       "      <td>100000</td>\n",
       "    </tr>\n",
       "  </tbody>\n",
       "</table>\n",
       "</div>"
      ],
      "text/plain": [
       "   deneyim    maas\n",
       "0        1    4500\n",
       "1        2    5000\n",
       "2        3    6000\n",
       "3        4    8000\n",
       "4        5   11000\n",
       "5        6   15000\n",
       "6        7   20000\n",
       "7        8   30000\n",
       "8        9   50000\n",
       "9       10  100000"
      ]
     },
     "execution_count": 67,
     "metadata": {},
     "output_type": "execute_result"
    }
   ],
   "source": [
    "df"
   ]
  },
  {
   "cell_type": "markdown",
   "metadata": {},
   "source": [
    "Daha net görülmesi için 2. kuvvetine kadar polinom regresyon alalım degree = 2 ye kadar yani\n",
    "\n",
    "Y = a+ b1*x1 + b2*(X2**2) ye kadar."
   ]
  },
  {
   "cell_type": "code",
   "execution_count": null,
   "metadata": {},
   "outputs": [],
   "source": [
    "# 1. adım iki değişkenin toplamlarını bulalım : \n",
    "x_top = df[\"deneyim\"].sum()\n",
    "y_top = df[\"maas\"].sum()\n",
    "# 2. adım iki değişkenin çarpımlarının toplamları bulunur. :\n",
    "yx_carpım_top = (df[\"deneyim\"] * df[\"maas\"]).sum()\n",
    "# 3. adım bağımsız değişkenimiz olan deneyim değişkeninin karesi, küpü ve 4. kuvvetlerinin toplamları alınır.\n",
    "x_kare_top = (df[\"deneyim\"]**2).sum()\n",
    "x_kup_top = (df[\"deneyim\"]**3).sum()\n",
    "x_dorduncu_kuvvet_top = (df[\"deneyim\"]**4).sum()\n",
    "# 4. adım bağımsız değişkeninin karesi ile bağımlı değişken çarpılır ve toplamları alınır.\n",
    "yx_kare_top = ((df[\"deneyim\"]**2) * df[\"maas\"]).sum()"
   ]
  },
  {
   "cell_type": "code",
   "execution_count": null,
   "metadata": {},
   "outputs": [],
   "source": [
    "# Denklemi yazalım : \n",
    "y_top = a*n + b1*x_top + b2*x_kare_top\n",
    "yx_carpım_top = a*x_top + b1*x_kare_top + b2*x_kup_top\n",
    "yx_kare_top = a*x_kare_top + b1*x_kup_top + b2*x_dorduncu_kuvvet_top"
   ]
  },
  {
   "cell_type": "code",
   "execution_count": null,
   "metadata": {},
   "outputs": [],
   "source": [
    "249500 = a0*10 + a1*55 + a2*385\n",
    "2039500 = a0*55 + a1*385 + a2*3025\n",
    "17971500 = a0*385 + a1*3025 + a2*25333"
   ]
  },
  {
   "cell_type": "code",
   "execution_count": 72,
   "metadata": {},
   "outputs": [
    {
     "name": "stdout",
     "output_type": "stream",
     "text": [
      "a değeri =  23216 b1 değeri =  -13287 b2 değeri =  1943\n"
     ]
    }
   ],
   "source": [
    "a = np.array([[10,55,385],[55,385,3025],[385,3025,25333]])\n",
    "b = np.array([249500,2039500,17971500])\n",
    "a, b1, b2 = np.linalg.solve(a,b)\n",
    "a = int(a)\n",
    "b1 = int(b1)\n",
    "b2 = int(b2)\n",
    "print(\"a değeri = \", a , \"b1 değeri = \", b1 , \"b2 değeri = \", b2)"
   ]
  },
  {
   "cell_type": "markdown",
   "metadata": {},
   "source": [
    "Y = 23216 - 13287*X + 1943*(X**2) denklemini elde ettik."
   ]
  },
  {
   "cell_type": "code",
   "execution_count": 73,
   "metadata": {},
   "outputs": [
    {
     "data": {
      "text/html": [
       "<div>\n",
       "<style scoped>\n",
       "    .dataframe tbody tr th:only-of-type {\n",
       "        vertical-align: middle;\n",
       "    }\n",
       "\n",
       "    .dataframe tbody tr th {\n",
       "        vertical-align: top;\n",
       "    }\n",
       "\n",
       "    .dataframe thead th {\n",
       "        text-align: right;\n",
       "    }\n",
       "</style>\n",
       "<table border=\"1\" class=\"dataframe\">\n",
       "  <thead>\n",
       "    <tr style=\"text-align: right;\">\n",
       "      <th></th>\n",
       "      <th>deneyim</th>\n",
       "      <th>maas</th>\n",
       "      <th>maas_one</th>\n",
       "    </tr>\n",
       "  </thead>\n",
       "  <tbody>\n",
       "    <tr>\n",
       "      <th>0</th>\n",
       "      <td>1</td>\n",
       "      <td>4500</td>\n",
       "      <td>11872</td>\n",
       "    </tr>\n",
       "    <tr>\n",
       "      <th>1</th>\n",
       "      <td>2</td>\n",
       "      <td>5000</td>\n",
       "      <td>4414</td>\n",
       "    </tr>\n",
       "    <tr>\n",
       "      <th>2</th>\n",
       "      <td>3</td>\n",
       "      <td>6000</td>\n",
       "      <td>842</td>\n",
       "    </tr>\n",
       "    <tr>\n",
       "      <th>3</th>\n",
       "      <td>4</td>\n",
       "      <td>8000</td>\n",
       "      <td>1156</td>\n",
       "    </tr>\n",
       "    <tr>\n",
       "      <th>4</th>\n",
       "      <td>5</td>\n",
       "      <td>11000</td>\n",
       "      <td>5356</td>\n",
       "    </tr>\n",
       "    <tr>\n",
       "      <th>5</th>\n",
       "      <td>6</td>\n",
       "      <td>15000</td>\n",
       "      <td>13442</td>\n",
       "    </tr>\n",
       "    <tr>\n",
       "      <th>6</th>\n",
       "      <td>7</td>\n",
       "      <td>20000</td>\n",
       "      <td>25414</td>\n",
       "    </tr>\n",
       "    <tr>\n",
       "      <th>7</th>\n",
       "      <td>8</td>\n",
       "      <td>30000</td>\n",
       "      <td>41272</td>\n",
       "    </tr>\n",
       "    <tr>\n",
       "      <th>8</th>\n",
       "      <td>9</td>\n",
       "      <td>50000</td>\n",
       "      <td>61016</td>\n",
       "    </tr>\n",
       "    <tr>\n",
       "      <th>9</th>\n",
       "      <td>10</td>\n",
       "      <td>100000</td>\n",
       "      <td>84646</td>\n",
       "    </tr>\n",
       "  </tbody>\n",
       "</table>\n",
       "</div>"
      ],
      "text/plain": [
       "   deneyim    maas  maas_one\n",
       "0        1    4500     11872\n",
       "1        2    5000      4414\n",
       "2        3    6000       842\n",
       "3        4    8000      1156\n",
       "4        5   11000      5356\n",
       "5        6   15000     13442\n",
       "6        7   20000     25414\n",
       "7        8   30000     41272\n",
       "8        9   50000     61016\n",
       "9       10  100000     84646"
      ]
     },
     "execution_count": 73,
     "metadata": {},
     "output_type": "execute_result"
    }
   ],
   "source": [
    "df[\"maas_one\"] = a+ (b1*df[\"deneyim\"]) + (b2*(df[\"deneyim\"]**2))\n",
    "df"
   ]
  },
  {
   "cell_type": "markdown",
   "metadata": {},
   "source": [
    "#### PYTHON İLE YAPALIM :"
   ]
  },
  {
   "cell_type": "code",
   "execution_count": 74,
   "metadata": {},
   "outputs": [],
   "source": [
    "from sklearn.linear_model import LinearRegression\n",
    "# ilk önce Lineare Regresyon fonksiyonumuzu kullanmak için import ettik."
   ]
  },
  {
   "cell_type": "code",
   "execution_count": 75,
   "metadata": {},
   "outputs": [],
   "source": [
    "from sklearn.preprocessing import PolynomialFeatures\n",
    "# sonra preproccessing içindeki PolynomialFeatures kütüphanemizi import ettik."
   ]
  },
  {
   "cell_type": "code",
   "execution_count": 77,
   "metadata": {},
   "outputs": [],
   "source": [
    "polyominal_reg = PolynomialFeatures(degree=2)\n",
    "# sadece 2. kuvvetine kadar denklem oluşturduk dedik."
   ]
  },
  {
   "cell_type": "code",
   "execution_count": 79,
   "metadata": {},
   "outputs": [],
   "source": [
    "x_polyominal = polyominal_reg.fit_transform(df[[\"deneyim\"]])\n",
    "# linear regresyondan farklı olarak ilk önce x_polyominal değişkeni oluşturup sonrasında fit_transform ile öğretiyoruz."
   ]
  },
  {
   "cell_type": "code",
   "execution_count": 80,
   "metadata": {},
   "outputs": [],
   "source": [
    "reg = LinearRegression()"
   ]
  },
  {
   "cell_type": "code",
   "execution_count": 81,
   "metadata": {},
   "outputs": [
    {
     "data": {
      "text/plain": [
       "LinearRegression()"
      ]
     },
     "execution_count": 81,
     "metadata": {},
     "output_type": "execute_result"
    }
   ],
   "source": [
    "reg.fit(x_polyominal, df[\"maas\"])\n",
    "# makinaya fit ettik yani değerlere göre eğittik."
   ]
  },
  {
   "cell_type": "code",
   "execution_count": 83,
   "metadata": {},
   "outputs": [
    {
     "data": {
      "text/html": [
       "<div>\n",
       "<style scoped>\n",
       "    .dataframe tbody tr th:only-of-type {\n",
       "        vertical-align: middle;\n",
       "    }\n",
       "\n",
       "    .dataframe tbody tr th {\n",
       "        vertical-align: top;\n",
       "    }\n",
       "\n",
       "    .dataframe thead th {\n",
       "        text-align: right;\n",
       "    }\n",
       "</style>\n",
       "<table border=\"1\" class=\"dataframe\">\n",
       "  <thead>\n",
       "    <tr style=\"text-align: right;\">\n",
       "      <th></th>\n",
       "      <th>deneyim</th>\n",
       "      <th>maas</th>\n",
       "      <th>maas_one</th>\n",
       "      <th>fiyat_tahmin2</th>\n",
       "    </tr>\n",
       "  </thead>\n",
       "  <tbody>\n",
       "    <tr>\n",
       "      <th>0</th>\n",
       "      <td>1</td>\n",
       "      <td>4500</td>\n",
       "      <td>11872</td>\n",
       "      <td>11872</td>\n",
       "    </tr>\n",
       "    <tr>\n",
       "      <th>1</th>\n",
       "      <td>2</td>\n",
       "      <td>5000</td>\n",
       "      <td>4414</td>\n",
       "      <td>4415</td>\n",
       "    </tr>\n",
       "    <tr>\n",
       "      <th>2</th>\n",
       "      <td>3</td>\n",
       "      <td>6000</td>\n",
       "      <td>842</td>\n",
       "      <td>843</td>\n",
       "    </tr>\n",
       "    <tr>\n",
       "      <th>3</th>\n",
       "      <td>4</td>\n",
       "      <td>8000</td>\n",
       "      <td>1156</td>\n",
       "      <td>1159</td>\n",
       "    </tr>\n",
       "    <tr>\n",
       "      <th>4</th>\n",
       "      <td>5</td>\n",
       "      <td>11000</td>\n",
       "      <td>5356</td>\n",
       "      <td>5360</td>\n",
       "    </tr>\n",
       "    <tr>\n",
       "      <th>5</th>\n",
       "      <td>6</td>\n",
       "      <td>15000</td>\n",
       "      <td>13442</td>\n",
       "      <td>13448</td>\n",
       "    </tr>\n",
       "    <tr>\n",
       "      <th>6</th>\n",
       "      <td>7</td>\n",
       "      <td>20000</td>\n",
       "      <td>25414</td>\n",
       "      <td>25422</td>\n",
       "    </tr>\n",
       "    <tr>\n",
       "      <th>7</th>\n",
       "      <td>8</td>\n",
       "      <td>30000</td>\n",
       "      <td>41272</td>\n",
       "      <td>41283</td>\n",
       "    </tr>\n",
       "    <tr>\n",
       "      <th>8</th>\n",
       "      <td>9</td>\n",
       "      <td>50000</td>\n",
       "      <td>61016</td>\n",
       "      <td>61030</td>\n",
       "    </tr>\n",
       "    <tr>\n",
       "      <th>9</th>\n",
       "      <td>10</td>\n",
       "      <td>100000</td>\n",
       "      <td>84646</td>\n",
       "      <td>84663</td>\n",
       "    </tr>\n",
       "  </tbody>\n",
       "</table>\n",
       "</div>"
      ],
      "text/plain": [
       "   deneyim    maas  maas_one  fiyat_tahmin2\n",
       "0        1    4500     11872          11872\n",
       "1        2    5000      4414           4415\n",
       "2        3    6000       842            843\n",
       "3        4    8000      1156           1159\n",
       "4        5   11000      5356           5360\n",
       "5        6   15000     13442          13448\n",
       "6        7   20000     25414          25422\n",
       "7        8   30000     41272          41283\n",
       "8        9   50000     61016          61030\n",
       "9       10  100000     84646          84663"
      ]
     },
     "execution_count": 83,
     "metadata": {},
     "output_type": "execute_result"
    }
   ],
   "source": [
    "tahmin = list(reg.predict(x_polyominal))\n",
    "tahmin1 = []\n",
    "for i in tahmin : \n",
    "    tahmin1.append(int(i))\n",
    "df[\"fiyat_tahmin2\"] = tahmin1\n",
    "df"
   ]
  },
  {
   "cell_type": "code",
   "execution_count": null,
   "metadata": {},
   "outputs": [],
   "source": []
  }
 ],
 "metadata": {
  "kernelspec": {
   "display_name": "Python 3",
   "language": "python",
   "name": "python3"
  },
  "language_info": {
   "codemirror_mode": {
    "name": "ipython",
    "version": 3
   },
   "file_extension": ".py",
   "mimetype": "text/x-python",
   "name": "python",
   "nbconvert_exporter": "python",
   "pygments_lexer": "ipython3",
   "version": "3.8.5"
  }
 },
 "nbformat": 4,
 "nbformat_minor": 4
}
