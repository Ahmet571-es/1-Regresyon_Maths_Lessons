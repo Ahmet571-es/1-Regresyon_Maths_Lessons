{
 "cells": [
  {
   "cell_type": "code",
   "execution_count": 1,
   "metadata": {},
   "outputs": [],
   "source": [
    "import sqlite3  # pythona sql import ettik. Sql kodlarını pythonda yazmak için."
   ]
  },
  {
   "cell_type": "code",
   "execution_count": 2,
   "metadata": {},
   "outputs": [],
   "source": [
    "connection=sqlite3.connect(\"Urun_Listesi.db\") # Connection ile python ile sql bağlantı oluşturduk. \n",
    "# sqlite3.connect ile Urun_Listesi.db isimli bir databaseyi sqlite3 içine oluşturduk"
   ]
  },
  {
   "cell_type": "code",
   "execution_count": 3,
   "metadata": {},
   "outputs": [],
   "source": [
    "cursor=connection.cursor() # tanımladığımız connectionu cursor ile bağlan talimatını başlattık."
   ]
  },
  {
   "cell_type": "code",
   "execution_count": 4,
   "metadata": {},
   "outputs": [],
   "source": [
    "def create_table():\n",
    "    cursor.execute(\"CREATE TABLE IF NOT EXISTS products (ad TEXT,fiyat INT,stok INT)\") # cursor.execute ile data içinde tablo oluşturduk.\n",
    "    # CREATE TABLE IF NOT EXISTS products (ad TEXT,fiyat INT,stok INT) sql dilinde oluşturulan databaseye tablo eklemek için kullanılır.\n",
    "    connection.commit() # commit ile sqlite3 e oluştur talimatını verdik. "
   ]
  },
  {
   "cell_type": "code",
   "execution_count": null,
   "metadata": {},
   "outputs": [],
   "source": [
    "create_table() # bu kodu çalıştırıp yeni databasemizdeki tablolar eklenir."
   ]
  },
  {
   "cell_type": "code",
   "execution_count": null,
   "metadata": {},
   "outputs": [],
   "source": [
    "# Maalesef çoğu firma bu yöntemle klavye girişi ile veri eklemesi yapıyor. Onun için bu şekilde yazdım.\n",
    "def veri_ekle():\n",
    "    name=input(\"eklemek istediğiniz ürünü giriniz= \")\n",
    "    fiyat=int(input(\"ürünün fiyatını giriniz= \"))\n",
    "    stok=int(input(\"üründen kaç adet var giriniz= \"))\n",
    "    cursor.execute(\"INSERT INTO products VALUES(?,?,?)\",(name,fiyat,stok)) # cursor execute ile komut satırı çalıştırılır.\n",
    "    # INSERT INTO products VALUES() ile tabloya verileri ekleriz. Parantez içine yazdığımız veriler eklenir.\n",
    "    # ? işaretleri girilen input değerlerin yerini tutar.\n",
    "    connection.commit() # her yeni sorgu işlemi sonucu sonucunda pythondan yapıyorsanız commit() demeyi unutmayın.\n"
   ]
  },
  {
   "cell_type": "code",
   "execution_count": null,
   "metadata": {},
   "outputs": [],
   "source": [
    "veri_ekle() # bu kodu çalıştırıp tablolarımıza veriler eklenir."
   ]
  },
  {
   "cell_type": "code",
   "execution_count": null,
   "metadata": {},
   "outputs": [],
   "source": [
    "# Normal sqlite3 üzerinden yapılan ekleme işlemi\n",
    "def veri_ekle2():\n",
    "    cursor.execute(\"INSERT INTO products VALUES(Vestel,1100,22\")\n",
    "    connection.commit()"
   ]
  },
  {
   "cell_type": "code",
   "execution_count": null,
   "metadata": {},
   "outputs": [],
   "source": [
    "veri_ekle2()"
   ]
  },
  {
   "cell_type": "code",
   "execution_count": null,
   "metadata": {},
   "outputs": [],
   "source": [
    "def urun_listele():\n",
    "    cursor.execute(\"SELECT * FROM products\") \n",
    "    # SELECT * FROM products ile tablodaki tüm kolonlar listelenir.\n",
    "    liste=cursor.fetchall()\n",
    "    for i in liste:\n",
    "        print(f\"Ürün adı={i[0]}, ürün fiyatı={i[1]}, ürün adeti={i[2]}\") # for yerine while da kullanılabilir."
   ]
  },
  {
   "cell_type": "code",
   "execution_count": null,
   "metadata": {},
   "outputs": [],
   "source": [
    "urun_listele()"
   ]
  },
  {
   "cell_type": "code",
   "execution_count": null,
   "metadata": {},
   "outputs": [],
   "source": [
    "def urun_listele2():\n",
    "    cursor.execute(\"SELECT ad,fiyat FROM products\")\n",
    "    # SELECT ad,fiyat FROM products İLE DE sadece ad ve fiyat kolonları listelenir.\n",
    "    liste=cursor.fetchall()\n",
    "    for i in liste:\n",
    "        print(f\"ürün adı={i[0]}, ürünün fiyatı={i[1]}\")"
   ]
  },
  {
   "cell_type": "code",
   "execution_count": null,
   "metadata": {},
   "outputs": [],
   "source": [
    "urun_listele2()"
   ]
  },
  {
   "cell_type": "code",
   "execution_count": null,
   "metadata": {},
   "outputs": [],
   "source": [
    "def urun_filter():\n",
    "    cursor.execute(\"SELECT * FROM products WHERE ad = 'Apple'\")\n",
    "    # SELECT * FROM products WHERE ad = 'Apple' İLE sadece adı Apple olan ürünlerin bilgilerini getirir.\n",
    "    liste=cursor.fetchall()\n",
    "    for i in liste:\n",
    "        print(f\"ürün adı={i[0]}, ürünün fiyatı={i[1]}, ürün adeti={i[2]}\")"
   ]
  },
  {
   "cell_type": "code",
   "execution_count": null,
   "metadata": {},
   "outputs": [],
   "source": [
    "urun_filter()"
   ]
  },
  {
   "cell_type": "code",
   "execution_count": null,
   "metadata": {},
   "outputs": [],
   "source": [
    "def urunad_guncelle():\n",
    "    cursor.execute(\"UPDATE products SET ad='Xaomi-Mi6s' WHERE ad='Xaiomi' \")\n",
    "    # UPDATE products SET ad='Xaomi-Mi6s' WHERE ad='Xaiomi' İLE ad kısmında set ettiğiniz değer where ile gösterdiğiniz değerin yerine geçer.\n",
    "    liste=cursor.fetchall()\n",
    "    for i in liste:\n",
    "        print(f\"ürün adı={i[0]}, ürünün fiyatı={i[1]}, ürün adeti={i[2]}\")\n",
    "    connection.commit()"
   ]
  },
  {
   "cell_type": "code",
   "execution_count": null,
   "metadata": {},
   "outputs": [],
   "source": [
    "urunad_guncelle()"
   ]
  },
  {
   "cell_type": "code",
   "execution_count": null,
   "metadata": {},
   "outputs": [],
   "source": [
    "# Bu ise klavye ile güncelleme. Maalesef çoğu firma bu yöntemle güncelleme yapıyor. Biraz zor.\n",
    "\n",
    "def urunad_guncelle2():\n",
    "    db_ad=input(\"Hangi ürünü güncellemek istersiniz = \")\n",
    "    update_ad=input(\"Ürünün yeni adını yazınız= \")\n",
    "    cursor.execute(\"UPDATE products SET ad = ? WHERE ad = ?\",(update_ad,db_ad)) \n",
    "    # ? bizim inputlarımızın aldığı değeri tutması için. Girdiğimz değerler SET ve WHERE ile tanımladğımız ürünün ad kısmını güncellemesi için.\n",
    "    connection.commit()"
   ]
  },
  {
   "cell_type": "code",
   "execution_count": null,
   "metadata": {},
   "outputs": [],
   "source": [
    "urunad_guncelle2()"
   ]
  },
  {
   "cell_type": "code",
   "execution_count": null,
   "metadata": {},
   "outputs": [],
   "source": [
    "def urun_delete():\n",
    "    delete_ad=input(\"Silmek istediğiniz ürün adını giriniz = \")\n",
    "    cursor.execute(\"DELETE FROM products WHERE ad = ?\",(delete_ad,))\n",
    "    # Burda da ? yine verdiğimiz input değerlerin yerini tutması için. Yani girdiğimiz ad değeri silmesi için\n",
    "    # DELETE FROM products WHERE ad = 'a' ile  a isimli ürünü listeden sileriz. Genelde silme işlemlri ıd no ile yapılır.\n",
    "    connection.commit()"
   ]
  }
 ],
 "metadata": {
  "kernelspec": {
   "display_name": "Python 3",
   "language": "python",
   "name": "python3"
  },
  "language_info": {
   "codemirror_mode": {
    "name": "ipython",
    "version": 3
   },
   "file_extension": ".py",
   "mimetype": "text/x-python",
   "name": "python",
   "nbconvert_exporter": "python",
   "pygments_lexer": "ipython3",
   "version": "3.8.5"
  }
 },
 "nbformat": 4,
 "nbformat_minor": 4
}
