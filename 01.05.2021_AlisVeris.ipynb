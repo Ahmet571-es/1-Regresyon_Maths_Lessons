{
 "cells": [
  {
   "cell_type": "code",
   "execution_count": 40,
   "metadata": {},
   "outputs": [],
   "source": [
    "import sqlite3"
   ]
  },
  {
   "cell_type": "code",
   "execution_count": 2,
   "metadata": {},
   "outputs": [],
   "source": [
    "connection=sqlite3.connect(\"Products_list.db\")  "
   ]
  },
  {
   "cell_type": "code",
   "execution_count": 3,
   "metadata": {},
   "outputs": [],
   "source": [
    "cursor=connection.cursor()"
   ]
  },
  {
   "cell_type": "code",
   "execution_count": 4,
   "metadata": {},
   "outputs": [],
   "source": [
    "def create_table():\n",
    "    cursor.execute(\"CREATE TABLE IF NOT EXISTS products (urunıd INT,ad TEXT,fiyat INT,stok INT)\") \n",
    "    connection.commit()  "
   ]
  },
  {
   "cell_type": "code",
   "execution_count": 5,
   "metadata": {},
   "outputs": [],
   "source": [
    "create_table()"
   ]
  },
  {
   "cell_type": "code",
   "execution_count": null,
   "metadata": {},
   "outputs": [],
   "source": [
    "def alis_veris():\n",
    "    def card_password():\n",
    "        password=input(\"Lütfen 6 haneli şifrenizi giriniz : \")\n",
    "        for i in range(0,1):\n",
    "            if not password.isdigit():\n",
    "                print(\"Şifreniz hatalı. Rakam giriniz...\")\n",
    "            elif password.isdigit():\n",
    "                if len(password)!=6:\n",
    "                    print(\"Şifreniz 6 haneli olmalıdır.\")\n",
    "                    break\n",
    "                elif len(password)==6:\n",
    "                    if password[0]==\"0\" or password[0]==\"1\" or password[0]==\"2\":\n",
    "                        print(\"Güvenlik açısından 0 veya 1 veya 2 ile başlayan şifre giremessiniz.\")\n",
    "                        break\n",
    "                    elif password[0]!=\"0\" and password[0]!=\"1\" and password[0]!=\"2\":\n",
    "                        if password[0]==password[1]==password[2]==password[3]==password[4]==password[5]:\n",
    "                            print(\"Tüm değerler aynı olamaz. Şifre hatalı..\")\n",
    "                            break\n",
    "                        elif password[0]!=password[1]!=password[2]!=password[3]!=password[4]!=password[5]: \n",
    "                            if password[0]==password[1]==password[2]==password[3]==password[4]:\n",
    "                                print(\"ilk 5 değer aynı olamaz. Şifre hatalı..\")\n",
    "                                break\n",
    "                            elif password[0]!=password[1]!=password[2]!=password[3]!=password[4]:\n",
    "                                if password[0]==password[1]==password[2]==password[3]:\n",
    "                                    print(\"ilk 4 değer aynı olamaz. Şifre hatalı..\")\n",
    "                                    break\n",
    "                                elif password[0]!=password[1]!=password[2]!=password[3]:\n",
    "                                    if password[0]==password[1]==password[2]:\n",
    "                                        print(\"ilk 3 değer aynı olamaz. Şifre hatalı..\")\n",
    "                                        break\n",
    "                                    elif password[0]!=password[1]!=password[2]:\n",
    "                                        if password[1]==password[2]==password[3]:\n",
    "                                            print(\"Hatalı şifre..\")\n",
    "                                            break\n",
    "                                        elif password[1]!=password[2]!=password[3]:\n",
    "                                            if password[3]==password[4]==password[5]:\n",
    "                                                print(\"son 3 değer eşit olamaz. Şifre hatalı...\")\n",
    "                                                break\n",
    "                                            elif password[3]!=password[4]!=password[5]:\n",
    "                                                if password[1]==password[2] or password[2]==password[3] or password[3]==password[4] or password[4]==password[5]:\n",
    "                                                    print(\"Hatalı şifre. Ard arda değerler eşit olamaz.\")\n",
    "                                                elif password[1]!=password[2] and password[2]!=password[3] and password[3]!=password[4] and password[4]!=password[5]:\n",
    "                                                    print(f\"Şifreniz onaylandı...\")\n",
    "                                                    def para_yatır():\n",
    "                                                        money=int(input(\"Kartınıza yatırmak istediğiniz miktarı giriniz : \"))\n",
    "                                                        for i in range(0,1):\n",
    "                                                            if money<0 or money<500 or money>4000:\n",
    "                                                                print(\"Ytırma işlemi maalesef gerçekleşmedi\")\n",
    "                                                            elif money >500 and money<4000:\n",
    "                                                                print(\"Para yatırma işleminiz başarı ile gerçekleşti...\")\n",
    "                                                                alıs=input(\"Alışveriş yapmak ister misiniz? E/H\")\n",
    "                                                                if alıs==\"H\":\n",
    "                                                                    print(f\"Hesabınızda {money} TL bulunmaktadır.\")\n",
    "                                                                    print(\"Güle Güle\")\n",
    "                                                                elif alıs==\"E\":\n",
    "                                                                    print(f\"Hesabınızda {money} TL bulunmaktadır.\")\n",
    "                                                                    print(\"Ürün sepetine yönlendiriliyorsunuz...\")\n",
    "                                                                    def urun_listele():\n",
    "                                                                        urun_list=[]\n",
    "                                                                        urun_list1=[]\n",
    "                                                                        cursor.execute(\"SELECT * FROM products\") \n",
    "                                                                        liste=cursor.fetchall()\n",
    "                                                                        for i in liste:\n",
    "                                                                            print(f\"ürün ıd numarası = {i[0]}, ürün adı = {i[1]}, ürün fiyatı = {i[2]}, ürün adeti = {i[3]}\") \n",
    "                                                                        urun_kac_adet=int(input(\"Kaç adet ürün almak istersiniz :  \"))\n",
    "                                                                        for i in range(0,urun_kac_adet):\n",
    "                                                                            urun_ad=input(f\"{i+1} sıralı almak istediğiniz ürün adını giriniz: \")\n",
    "                                                                            for j in liste:\n",
    "                                                                                if j[1]==urun_ad:\n",
    "                                                                                    print(f\"Almak istediğiniz ürünün adı={j[1]}, fiyatı={j[2]}\")\n",
    "                                                                                    urun_list.append(j[2])\n",
    "                                                                                    urun_list1.append(j[1])\n",
    "                                                                        toplam=0\n",
    "                                                                        for i in urun_list:\n",
    "                                                                            toplam=toplam+i\n",
    "                                                                        print(f\"Toplam harcamanız={toplam}\")\n",
    "                                                                        kalan=money-toplam\n",
    "                                                                        for i in range(0,1):\n",
    "                                                                            if money>=toplam:\n",
    "                                                                                print(f\"Hayırlı olsun. Alışverişiniz sonucu kalan paranız={kalan}\")\n",
    "                                                                            \n",
    "                                                                            else:\n",
    "                                                                                print(\"Maalesef Bakiyeniz Yetmedi\")\n",
    "            \n",
    "                                                                    urun_listele()         \n",
    "                                                    para_yatır()           \n",
    "    card_password()                                                \n",
    "                                                    \n"
   ]
  },
  {
   "cell_type": "code",
   "execution_count": 41,
   "metadata": {},
   "outputs": [
    {
     "name": "stdout",
     "output_type": "stream",
     "text": [
      "Lütfen 6 haneli şifrenizi giriniz : 571025\n",
      "Şifreniz onaylandı...\n",
      "Kartınıza yatırmak istediğiniz miktarı giriniz : 1345\n",
      "Para yatırma işleminiz başarı ile gerçekleşti...\n",
      "Alışveriş yapmak ister misiniz? E/HE\n",
      "Hesabınızda 1345 TL bulunmaktadır.\n",
      "Ürün sepetine yönlendiriliyorsunuz...\n",
      "ürün ıd numarası = 1, ürün adı = Apple, ürün fiyatı = 1320, ürün adeti = 12\n",
      "ürün ıd numarası = 2, ürün adı = İphone, ürün fiyatı = 1300, ürün adeti = 15\n",
      "ürün ıd numarası = 3, ürün adı = Huawei, ürün fiyatı = 1000, ürün adeti = 8\n",
      "ürün ıd numarası = 4, ürün adı = honour, ürün fiyatı = 980, ürün adeti = 13\n",
      "ürün ıd numarası = 5, ürün adı = Asus, ürün fiyatı = 2300, ürün adeti = 23\n",
      "ürün ıd numarası = 6, ürün adı = Samsung, ürün fiyatı = 1140, ürün adeti = 9\n",
      "ürün ıd numarası = 7, ürün adı = Sony, ürün fiyatı = 975, ürün adeti = 22\n",
      "ürün ıd numarası = 8, ürün adı = Vestel, ürün fiyatı = 940, ürün adeti = 17\n",
      "ürün ıd numarası = 9, ürün adı = Siemens, ürün fiyatı = 1540, ürün adeti = 14\n",
      "Kaç adet ürün almak istersiniz :  1\n",
      "1 sıralı almak istediğiniz ürün adını giriniz: İphone\n",
      "Almak istediğiniz ürünün adı=İphone, fiyatı=1300\n",
      "Toplam harcamanız=1300\n",
      "Hayırlı olsun. Alışverişiniz sonucu kalan paranız=45\n"
     ]
    }
   ],
   "source": [
    "alis_veris()"
   ]
  },
  {
   "cell_type": "code",
   "execution_count": null,
   "metadata": {},
   "outputs": [],
   "source": []
  },
  {
   "cell_type": "code",
   "execution_count": null,
   "metadata": {},
   "outputs": [],
   "source": []
  },
  {
   "cell_type": "code",
   "execution_count": null,
   "metadata": {},
   "outputs": [],
   "source": []
  },
  {
   "cell_type": "code",
   "execution_count": null,
   "metadata": {},
   "outputs": [],
   "source": []
  },
  {
   "cell_type": "code",
   "execution_count": 38,
   "metadata": {},
   "outputs": [],
   "source": []
  },
  {
   "cell_type": "code",
   "execution_count": null,
   "metadata": {},
   "outputs": [],
   "source": []
  },
  {
   "cell_type": "code",
   "execution_count": null,
   "metadata": {},
   "outputs": [],
   "source": []
  }
 ],
 "metadata": {
  "kernelspec": {
   "display_name": "Python 3",
   "language": "python",
   "name": "python3"
  },
  "language_info": {
   "codemirror_mode": {
    "name": "ipython",
    "version": 3
   },
   "file_extension": ".py",
   "mimetype": "text/x-python",
   "name": "python",
   "nbconvert_exporter": "python",
   "pygments_lexer": "ipython3",
   "version": "3.8.5"
  }
 },
 "nbformat": 4,
 "nbformat_minor": 4
}
