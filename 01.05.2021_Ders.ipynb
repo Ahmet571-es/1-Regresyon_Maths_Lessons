{
 "cells": [
  {
   "cell_type": "code",
   "execution_count": 3,
   "metadata": {},
   "outputs": [],
   "source": [
    "def love():\n",
    "    a=\"I\"\n",
    "    b=\"love\"\n",
    "    c=\"you\"\n",
    "    print(a+\" \" +b+\" \"+c)"
   ]
  },
  {
   "cell_type": "code",
   "execution_count": 4,
   "metadata": {},
   "outputs": [
    {
     "name": "stdout",
     "output_type": "stream",
     "text": [
      "I love you\n"
     ]
    }
   ],
   "source": [
    "love()"
   ]
  },
  {
   "cell_type": "code",
   "execution_count": 7,
   "metadata": {},
   "outputs": [],
   "source": [
    "def love(x,y,z):\n",
    "    cumle=x+\" \"+y+\" \"+z\n",
    "    print(cumle)"
   ]
  },
  {
   "cell_type": "code",
   "execution_count": 8,
   "metadata": {},
   "outputs": [
    {
     "name": "stdout",
     "output_type": "stream",
     "text": [
      "ı love you\n"
     ]
    }
   ],
   "source": [
    "love(\"ı\",\"love\",\"you\")"
   ]
  },
  {
   "cell_type": "code",
   "execution_count": 1,
   "metadata": {},
   "outputs": [],
   "source": [
    "def islem(*args):\n",
    "    def sum():\n",
    "        toplam=0\n",
    "        for i in args:\n",
    "            toplam=toplam+i\n",
    "        print(f\"Girilen sayıların toplamı = {toplam}\")\n",
    "    sum()\n",
    "    def carpma():\n",
    "        carpma=1\n",
    "        for i in args:\n",
    "            carpma=carpma*i\n",
    "        print(f\"Girilen sayıların çarpımı = {carpma}\")\n",
    "    carpma()"
   ]
  },
  {
   "cell_type": "code",
   "execution_count": 2,
   "metadata": {},
   "outputs": [
    {
     "name": "stdout",
     "output_type": "stream",
     "text": [
      "Girilen sayıların toplamı = 22\n",
      "Girilen sayıların çarpımı = 672\n"
     ]
    }
   ],
   "source": [
    "islem(3,4,7,8)"
   ]
  },
  {
   "cell_type": "code",
   "execution_count": 118,
   "metadata": {},
   "outputs": [],
   "source": [
    "def personadd():\n",
    "    def tcadd():\n",
    "        for i in range(0,1):\n",
    "            tc=input(\"Personel tc no giriniz : \")\n",
    "            numbers=[]\n",
    "            if len(tc)!=11 or tc[0]==\"0\" or not tc.isdigit():\n",
    "                print(\"Tc ekleme işlemi başarısız\")\n",
    "            elif len(tc)==11 and tc[0]!=\"0\" and tc.isdigit():\n",
    "                for x in tc:\n",
    "                    numbers.append(int(i))\n",
    "                if sum(numbers[0:10])%10!=numbers[10]:\n",
    "                    print(\"Tc ekleme işlemi başarısız...\")\n",
    "                    break\n",
    "                elif sum(numbers[0:10])%10==numbers[10]:\n",
    "                    a=7* sum(numbers[0:10:2])\n",
    "                    b=sum(numbers[1:9:2])\n",
    "                    if (a-b)%10!=numbers[9]:\n",
    "                        print(\"Tc numara ekleme işlemi hatalı...\")\n",
    "                    elif (a-b)%10==numbers[9]:\n",
    "                        print(\"Tc kimlik numaranız başarı ile eklendi...\")\n",
    "                        print(f\"Eklenen tc numaranız = {tc}\")\n",
    "                        def name_add():\n",
    "                            name=input(\"Personel adı girelim : \")\n",
    "                            for i in range(0,1):\n",
    "                                if name.isdigit():\n",
    "                                    print(\"rakam girilemez\")\n",
    "                                    break\n",
    "                                elif not name.isdigit():\n",
    "                                    if len(name)<3:\n",
    "                                        print(\"Tr yazım kurallarına aykırı\")\n",
    "                                        break\n",
    "                                    elif len(name)==3:\n",
    "                                        if name[0]==name[1]==name[2]:\n",
    "                                            print(\"Harfler eşit olamaz\")\n",
    "                                            break\n",
    "                                        elif name[0]!=name[1]!=name[2]:\n",
    "                                            if name[0]!=name[0].upper() or name[1]!=name[1].lower() or name[2]!=name[2].lower():\n",
    "                                                print(\"İlk harf büyük diğerleri küçük olmalıdır.\")\n",
    "                                                break\n",
    "                                            elif name[0]==name[0].upper() and name[1]==name[1].lower() and name[2]==name[2].lower(): \n",
    "                                                print(f\"Personel adı = {name}\")\n",
    "                                    elif len(name)>3:\n",
    "                                        if name[0]==name[1]==name[2]==name[3]:\n",
    "                                            print(\"ilk 3 harf eşit olamaz\")\n",
    "                                            break\n",
    "                                        elif name[0]!=name[1]!=name[2]!=name[3]:\n",
    "                                            if name[0]== name[0].lower() or name[1:len(name)]== name[1:len(name)].upper():\n",
    "                                                print(\"ilk harf büyük diğer harfler küçük olmalıdır.\")\n",
    "                                                break\n",
    "                                            elif name[0]== name[0].upper() and name[1:len(name)]== name[1:len(name)].lower():\n",
    "                                                print(f\"Personel adı = {name}\")\n",
    "                                        \n",
    "                        name_add()                \n",
    "                                        \n",
    "    tcadd() \n",
    "                       \n",
    "\n",
    "                    "
   ]
  },
  {
   "cell_type": "code",
   "execution_count": null,
   "metadata": {},
   "outputs": [],
   "source": [
    "personel_add()"
   ]
  },
  {
   "cell_type": "code",
   "execution_count": null,
   "metadata": {},
   "outputs": [],
   "source": []
  },
  {
   "cell_type": "code",
   "execution_count": null,
   "metadata": {},
   "outputs": [],
   "source": []
  },
  {
   "cell_type": "code",
   "execution_count": null,
   "metadata": {},
   "outputs": [],
   "source": [
    "        "
   ]
  },
  {
   "cell_type": "code",
   "execution_count": null,
   "metadata": {},
   "outputs": [],
   "source": []
  },
  {
   "cell_type": "code",
   "execution_count": null,
   "metadata": {},
   "outputs": [],
   "source": []
  },
  {
   "cell_type": "code",
   "execution_count": null,
   "metadata": {},
   "outputs": [],
   "source": []
  }
 ],
 "metadata": {
  "kernelspec": {
   "display_name": "Python 3",
   "language": "python",
   "name": "python3"
  },
  "language_info": {
   "codemirror_mode": {
    "name": "ipython",
    "version": 3
   },
   "file_extension": ".py",
   "mimetype": "text/x-python",
   "name": "python",
   "nbconvert_exporter": "python",
   "pygments_lexer": "ipython3",
   "version": "3.8.5"
  }
 },
 "nbformat": 4,
 "nbformat_minor": 4
}
