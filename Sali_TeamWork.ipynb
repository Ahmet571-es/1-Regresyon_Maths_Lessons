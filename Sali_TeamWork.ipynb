{
 "cells": [
  {
   "cell_type": "code",
   "execution_count": 21,
   "metadata": {},
   "outputs": [],
   "source": [
    "1. SORU:"
   ]
  },
  {
   "cell_type": "code",
   "execution_count": 74,
   "metadata": {},
   "outputs": [],
   "source": [
    "\n",
    "### Input        Output\n",
    "### --------:    ------:\n",
    "### \"()\"         True\n",
    "### \"()[]{}\"     True\n",
    "### \"(]\"         False\n",
    "### \"([)]\"       False\n",
    "### \"{[]}\"       True\n",
    "###  \"\"           True\n",
    "\n",
    "def karakter_giris():\n",
    "    number_character=int(input(\"how many characters would you like to enter : \"))\n",
    "    for i in range(0,number_character) : \n",
    "        character=input(\"please enter character : \")\n",
    "        if character.isdigit():\n",
    "            break\n",
    "        elif not character.isdigit():\n",
    "            if character==\" \" or character==\"()\" or character==\"[]\" or character==\"{}\" or character==\"()[]{}\" or character==\"[]{}()\" or character==\"{}[]()\" or character==\"{()}\" or character==\"({})\" or character==\"[()]\" or character==\"[{}]\" or character==\"{[]}\" or character==\"([])\" or character==\"[({})]\" or character==\"{([])}\" or character==\"([{}])\":\n",
    "                print(\"True\")\n",
    "            else:\n",
    "                print(\"False\")"
   ]
  },
  {
   "cell_type": "code",
   "execution_count": null,
   "metadata": {},
   "outputs": [],
   "source": []
  },
  {
   "cell_type": "code",
   "execution_count": 79,
   "metadata": {},
   "outputs": [
    {
     "name": "stdout",
     "output_type": "stream",
     "text": [
      "how many characters would you like to enter3\n",
      "please enter character : (()]\n",
      "False\n",
      "please enter character : {{])\n",
      "False\n",
      "please enter character : ([])\n",
      "True\n"
     ]
    }
   ],
   "source": [
    "karakter_giris()"
   ]
  },
  {
   "cell_type": "markdown",
   "metadata": {},
   "source": [
    "3.SORU:"
   ]
  },
  {
   "cell_type": "code",
   "execution_count": 51,
   "metadata": {},
   "outputs": [],
   "source": [
    "morse_codes = { 'A':'.-', 'B':'-...',\n",
    "                    'C':'-.-.', 'D':'-..', 'E':'.',\n",
    "                    'F':'..-.', 'G':'--.', 'H':'....',\n",
    "                    'I':'..', 'J':'.---', 'K':'-.-',\n",
    "                    'L':'.-..', 'M':'--', 'N':'-.',\n",
    "                    'O':'---', 'P':'.--.', 'Q':'--.-',\n",
    "                    'R':'.-.', 'S':'...', 'T':'-',\n",
    "                    'U':'..-', 'V':'...-', 'W':'.--',\n",
    "                    'X':'-..-', 'Y':'-.--', 'Z':'--..',\n",
    "                    '1':'.----', '2':'..---', '3':'...--',\n",
    "                    '4':'....-', '5':'.....', '6':'-....',\n",
    "                    '7':'--...', '8':'---..', '9':'----.',\n",
    "                    '0':'-----', ', ':'--..--', '.':'.-.-.-',\n",
    "                    '?':'..--..', '/':'-..-.', '-':'-....-',\n",
    "                    '(':'-.--.', ')':'-.--.-'}\n"
   ]
  },
  {
   "cell_type": "code",
   "execution_count": 80,
   "metadata": {},
   "outputs": [
    {
     "data": {
      "text/plain": [
       "dict_keys(['A', 'B', 'C', 'D', 'E', 'F', 'G', 'H', 'I', 'J', 'K', 'L', 'M', 'N', 'O', 'P', 'Q', 'R', 'S', 'T', 'U', 'V', 'W', 'X', 'Y', 'Z', '1', '2', '3', '4', '5', '6', '7', '8', '9', '0', ', ', '.', '?', '/', '-', '(', ')'])"
      ]
     },
     "execution_count": 80,
     "metadata": {},
     "output_type": "execute_result"
    }
   ],
   "source": [
    "morse_codes.keys()"
   ]
  },
  {
   "cell_type": "code",
   "execution_count": 90,
   "metadata": {},
   "outputs": [
    {
     "data": {
      "text/plain": [
       "'.'"
      ]
     },
     "execution_count": 90,
     "metadata": {},
     "output_type": "execute_result"
    }
   ],
   "source": [
    "morse_codes[\"H\"]\n",
    "morse_codes[\"E\"]"
   ]
  },
  {
   "cell_type": "code",
   "execution_count": 84,
   "metadata": {},
   "outputs": [],
   "source": [
    "def mors_cevir():\n",
    "    message = input(\"lütfen kelime ya da cümle giriniz: \").upper()\n",
    "    morse = \"\"\n",
    "    for i in message:\n",
    "        morse += morse_codes[i] + \" \"\n",
    "    print(morse) "
   ]
  },
  {
   "cell_type": "code",
   "execution_count": 85,
   "metadata": {},
   "outputs": [
    {
     "name": "stdout",
     "output_type": "stream",
     "text": [
      "lütfen kelime ya da cümle giriniz: Hi\n",
      ".... .. \n"
     ]
    }
   ],
   "source": [
    "mors_cevir()"
   ]
  },
  {
   "cell_type": "code",
   "execution_count": 91,
   "metadata": {},
   "outputs": [],
   "source": [
    "def string_cevir():\n",
    "    morse_code = input(\"lütfen mors kodunu giriniz: \").split()\n",
    "    string_code = \"\"\n",
    "    for i in morse_code:\n",
    "        for j in morse_codes.keys():\n",
    "            if i == morse_codes[j]:\n",
    "                string_code += j+ \" \"\n",
    "    print(string_code)  "
   ]
  },
  {
   "cell_type": "code",
   "execution_count": 92,
   "metadata": {},
   "outputs": [
    {
     "name": "stdout",
     "output_type": "stream",
     "text": [
      "lütfen mors kodunu giriniz: ....\n",
      "H \n"
     ]
    }
   ],
   "source": [
    "string_cevir()"
   ]
  },
  {
   "cell_type": "code",
   "execution_count": null,
   "metadata": {},
   "outputs": [],
   "source": []
  },
  {
   "cell_type": "code",
   "execution_count": 101,
   "metadata": {},
   "outputs": [],
   "source": [
    "def profit():\n",
    "    adet_fiyat_araligi=int(input(\"Kaç adet fiyat aralığı girmek istersiniz? \"))\n",
    "    liste=[]\n",
    "    for i in range(0,adet_fiyat_araligi):\n",
    "        deger1=int(input(\" fiyat aralığını giriniz = \"))\n",
    "        liste.append(deger1)\n",
    "    alis=min(liste)\n",
    "    satis=max(liste)\n",
    "    profit=satis-alis\n",
    "    print(f\"Satış fiyatımız = {satis}\")\n",
    "    print(f\"Alış fiyatımız = {alis}\")\n",
    "    print(f\"Bu satış işleminden elde edilen kar = {profit}\")"
   ]
  },
  {
   "cell_type": "code",
   "execution_count": 102,
   "metadata": {},
   "outputs": [
    {
     "name": "stdout",
     "output_type": "stream",
     "text": [
      "Kaç adet fiyat aralığı girmek istersiniz? 5\n",
      " fiyat aralığını giriniz = 9\n",
      " fiyat aralığını giriniz = 6\n",
      " fiyat aralığını giriniz = 13\n",
      " fiyat aralığını giriniz = 17\n",
      " fiyat aralığını giriniz = 3\n",
      "Satış fiyatımız = 17\n",
      "Alış fiyatımız = 3\n",
      "Bu satış işleminden elde edilen kar = 14\n"
     ]
    }
   ],
   "source": [
    "profit()"
   ]
  },
  {
   "cell_type": "code",
   "execution_count": null,
   "metadata": {},
   "outputs": [],
   "source": []
  }
 ],
 "metadata": {
  "kernelspec": {
   "display_name": "Python 3",
   "language": "python",
   "name": "python3"
  },
  "language_info": {
   "codemirror_mode": {
    "name": "ipython",
    "version": 3
   },
   "file_extension": ".py",
   "mimetype": "text/x-python",
   "name": "python",
   "nbconvert_exporter": "python",
   "pygments_lexer": "ipython3",
   "version": "3.8.5"
  }
 },
 "nbformat": 4,
 "nbformat_minor": 4
}
