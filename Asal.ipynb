{
 "cells": [
  {
   "cell_type": "markdown",
   "metadata": {},
   "source": [
    "ASAL SAYI ÖRNEKLERİ:"
   ]
  },
  {
   "cell_type": "code",
   "execution_count": 16,
   "metadata": {},
   "outputs": [],
   "source": [
    "# sadece girilen sayının asal olup olmadığını bulma:\n",
    "\n",
    "def asal_sayi():\n",
    "    asalmı=True\n",
    "    sayi=int(input(\"Kontrol etmek istediğiniz sayıyı giriniz : \"))\n",
    "    if sayi==1:\n",
    "        asalmı=False\n",
    "        print(\"1 sayısı asal sayı değildir.\")\n",
    "    for i in range(2,sayi):\n",
    "        if sayi%i==0:\n",
    "            asalmı=False\n",
    "            break\n",
    "    if asalmı==True:\n",
    "        print(f\"Girilen sayı = {sayi} asal bir sayıdır.\")\n",
    "    elif asalmı==False:\n",
    "        print(f\"Girilen sayı = {sayi} asal değildir.\")"
   ]
  },
  {
   "cell_type": "code",
   "execution_count": 18,
   "metadata": {},
   "outputs": [
    {
     "name": "stdout",
     "output_type": "stream",
     "text": [
      "Kontrol etmek istediğiniz sayıyı giriniz : 13\n",
      "Girilen sayı = 13 asal bir sayıdır.\n"
     ]
    }
   ],
   "source": [
    "asal_sayi()"
   ]
  },
  {
   "cell_type": "code",
   "execution_count": 4,
   "metadata": {},
   "outputs": [],
   "source": [
    "# girilen sayılar arasındaki asal sayıları bulma:\n",
    "\n",
    "def asal_sayi2():\n",
    "    kac_adet=int(input(\"kaç adet sayı girmek istersiniz : \"))\n",
    "    numbers=[]\n",
    "    for i in range(0,kac_adet):\n",
    "        sayi=int(input( \"sayıyı giriniz.\"))\n",
    "        numbers.append(sayi)\n",
    "        a=min(numbers)\n",
    "        b=max(numbers)\n",
    "    for x in range(a,b + 1):\n",
    "        if x > 1:\n",
    "            for i in range(2,x):\n",
    "                if (x % i) == 0:\n",
    "                    break\n",
    "            else:\n",
    "                print(f\"Girilen sayılar arasındaki tüm asal sayılar = {x}\")"
   ]
  },
  {
   "cell_type": "code",
   "execution_count": 19,
   "metadata": {},
   "outputs": [
    {
     "name": "stdout",
     "output_type": "stream",
     "text": [
      "kaç adet sayı girmek istersiniz : 3\n",
      "sayıyı giriniz.13\n",
      "sayıyı giriniz.7\n",
      "sayıyı giriniz.21\n",
      "Girilen sayılar arasındaki tüm asal sayılar = 7\n",
      "Girilen sayılar arasındaki tüm asal sayılar = 11\n",
      "Girilen sayılar arasındaki tüm asal sayılar = 13\n",
      "Girilen sayılar arasındaki tüm asal sayılar = 17\n",
      "Girilen sayılar arasındaki tüm asal sayılar = 19\n"
     ]
    }
   ],
   "source": [
    "asal_sayi2()"
   ]
  },
  {
   "cell_type": "code",
   "execution_count": null,
   "metadata": {},
   "outputs": [],
   "source": []
  }
 ],
 "metadata": {
  "kernelspec": {
   "display_name": "Python 3",
   "language": "python",
   "name": "python3"
  },
  "language_info": {
   "codemirror_mode": {
    "name": "ipython",
    "version": 3
   },
   "file_extension": ".py",
   "mimetype": "text/x-python",
   "name": "python",
   "nbconvert_exporter": "python",
   "pygments_lexer": "ipython3",
   "version": "3.8.5"
  }
 },
 "nbformat": 4,
 "nbformat_minor": 4
}
