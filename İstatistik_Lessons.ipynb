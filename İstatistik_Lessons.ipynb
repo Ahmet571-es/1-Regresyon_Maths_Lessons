{
 "cells": [
  {
   "cell_type": "code",
   "execution_count": 2,
   "metadata": {},
   "outputs": [],
   "source": [
    "import numpy as np\n",
    "import pandas as pd\n",
    "from math import factorial"
   ]
  },
  {
   "cell_type": "code",
   "execution_count": null,
   "metadata": {},
   "outputs": [],
   "source": [
    "# Örneğin, bir sınava ait sonuç seti 10, 8, 10, 8, 8 ve 4 olsun.\n",
    "    # 1-) Aritmetik ortalama: \n",
    "    # 10+8+10+8+8+4 = 48\n",
    "    # 48/6=8 8 aritmetik ortalamadır. 6 adet sayı olduğu için 6 ya böldük.\n",
    "    # python da mean() ile hesaplanır.\n",
    "    \n",
    "    # 2-) Varyansı Bulma : \n",
    "    # aritmetik ortalama = 8 tüm sayılardan 8 'i teker teker çıkaracağız. \n",
    "    #ilk önce: 10-8, 8-8, 10-8, 8-8, 8-8, 4-8,\n",
    "    # sonrasında sonuçların karelerini al ve alınan karelerin toplamını kaç adet sayı varsa onun 1 eksiğine bölerek varyansı buluruz.\n",
    "    # 2**2 + 0**2 + 2**2 + 0**2 + 0**2 + -4**2 = 24. 6 adet sayı var. 6-1=5. 24/5 = 4,8 varyans değerdir.\n",
    "    # pythonda var() ile hesaplanır.\n",
    "    \n",
    "    # 3-) Standart sapma hesaplama : \n",
    "    # varyans değerin karekökü standart sapmayı verir.\n",
    "    # 4.8 in karekökü 2.19 dur. Standat sapma 2.19 dur.\n",
    "    # pythonda std() ile hesaplanır.\n"
   ]
  },
  {
   "cell_type": "code",
   "execution_count": 3,
   "metadata": {},
   "outputs": [],
   "source": [
    "# Örneklem Modelleme : "
   ]
  },
  {
   "cell_type": "code",
   "execution_count": 2,
   "metadata": {},
   "outputs": [],
   "source": [
    "# Elimizde bir ana veri olsun. Biz bu ana veriden örneklem çekelim."
   ]
  },
  {
   "cell_type": "code",
   "execution_count": 7,
   "metadata": {},
   "outputs": [],
   "source": [
    "# aynı değerler gelmemesi için seed() fonksiyonunu kullanalım.\n",
    "populasyon=np.random.randint(10,80,size=100000)"
   ]
  },
  {
   "cell_type": "code",
   "execution_count": 8,
   "metadata": {},
   "outputs": [],
   "source": [
    "np.random.seed(115)\n",
    "# seed koymamızın sebebi her seferinde farklı örneklem çekmesi için."
   ]
  },
  {
   "cell_type": "code",
   "execution_count": 9,
   "metadata": {},
   "outputs": [
    {
     "data": {
      "text/plain": [
       "45.05"
      ]
     },
     "execution_count": 9,
     "metadata": {},
     "output_type": "execute_result"
    }
   ],
   "source": [
    "orneklem1=np.random.choice(a=populasyon, size=100)\n",
    "orneklem1.mean()"
   ]
  },
  {
   "cell_type": "code",
   "execution_count": 10,
   "metadata": {},
   "outputs": [
    {
     "data": {
      "text/plain": [
       "44.42311"
      ]
     },
     "execution_count": 10,
     "metadata": {},
     "output_type": "execute_result"
    }
   ],
   "source": [
    "populasyon.mean()"
   ]
  },
  {
   "cell_type": "code",
   "execution_count": null,
   "metadata": {},
   "outputs": [],
   "source": [
    "# orneklem1 ve populasyon arasında 0.8605499999999964 değerlik bir fark var."
   ]
  },
  {
   "cell_type": "code",
   "execution_count": 8,
   "metadata": {},
   "outputs": [
    {
     "data": {
      "text/plain": [
       "0.8605499999999964"
      ]
     },
     "execution_count": 8,
     "metadata": {},
     "output_type": "execute_result"
    }
   ],
   "source": [
    "44.46055-43.6"
   ]
  },
  {
   "cell_type": "code",
   "execution_count": 11,
   "metadata": {},
   "outputs": [],
   "source": [
    "np.random.seed(110)\n",
    "# seed yukarıda 115 demiştim. burda farklı vermemin sebebi orneklem1 ile aynı sonuç getirmesinler diye\n",
    "orneklem1=np.random.choice(a=populasyon, size=100)\n",
    "orneklem2=np.random.choice(a=populasyon, size=100)\n",
    "orneklem3=np.random.choice(a=populasyon, size=100)\n",
    "orneklem4=np.random.choice(a=populasyon, size=100)\n",
    "orneklem5=np.random.choice(a=populasyon, size=100)\n",
    "orneklem6=np.random.choice(a=populasyon, size=100)\n",
    "orneklem7=np.random.choice(a=populasyon, size=100)\n",
    "orneklem8=np.random.choice(a=populasyon, size=100)\n",
    "orneklem9=np.random.choice(a=populasyon, size=100)\n",
    "orneklem10=np.random.choice(a=populasyon, size=100)"
   ]
  },
  {
   "cell_type": "code",
   "execution_count": 12,
   "metadata": {},
   "outputs": [
    {
     "data": {
      "text/plain": [
       "44.217"
      ]
     },
     "execution_count": 12,
     "metadata": {},
     "output_type": "execute_result"
    }
   ],
   "source": [
    "(orneklem1.mean()+ orneklem2.mean()+orneklem3.mean()+orneklem4.mean()+orneklem5.mean()+orneklem6.mean()+orneklem7.mean()+\n",
    "orneklem8.mean()+orneklem9.mean()+orneklem10.mean())/10"
   ]
  },
  {
   "cell_type": "code",
   "execution_count": 11,
   "metadata": {},
   "outputs": [
    {
     "data": {
      "text/plain": [
       "44.46055"
      ]
     },
     "execution_count": 11,
     "metadata": {},
     "output_type": "execute_result"
    }
   ],
   "source": [
    "populasyon.mean()"
   ]
  },
  {
   "cell_type": "code",
   "execution_count": 15,
   "metadata": {},
   "outputs": [
    {
     "data": {
      "text/plain": [
       "0.6885499999999993"
      ]
     },
     "execution_count": 15,
     "metadata": {},
     "output_type": "execute_result"
    }
   ],
   "source": [
    "44.46055-43.772\n",
    "# örneklem sayısı arttıkça ana veri oranı ile örneklem verilerinin oranları birbirlerine yaklaşırlar."
   ]
  },
  {
   "cell_type": "code",
   "execution_count": null,
   "metadata": {},
   "outputs": [],
   "source": []
  },
  {
   "cell_type": "markdown",
   "metadata": {},
   "source": [
    "HASTALIK DURUMU İLE İLGİLİ BİR ÖRNEK :\n",
    "Bir bölgemizde 4 günlük kovid hastalığına yakalanan toplam hasta sayıları olsun ve bu verileri şehir hastanelerinden alalım."
   ]
  },
  {
   "cell_type": "code",
   "execution_count": 36,
   "metadata": {},
   "outputs": [],
   "source": [
    "populasyon=np.random.randint(5,80,size=150000)"
   ]
  },
  {
   "cell_type": "code",
   "execution_count": 37,
   "metadata": {},
   "outputs": [],
   "source": [
    "np.random.seed(10)\n",
    "male=np.random.choice(a=populasyon,size=30000)"
   ]
  },
  {
   "cell_type": "code",
   "execution_count": 38,
   "metadata": {},
   "outputs": [],
   "source": [
    "np.random.seed(15)\n",
    "female=np.random.choice(a=populasyon,size=120000)"
   ]
  },
  {
   "cell_type": "code",
   "execution_count": 50,
   "metadata": {},
   "outputs": [],
   "source": [
    "populasyon=pd.DataFrame(populasyon)\n",
    "male=pd.DataFrame(male)\n",
    "female=pd.DataFrame(female)\n",
    "male.columns=[\"Erkek\"]\n",
    "female.columns=[\"Kadın\"]"
   ]
  },
  {
   "cell_type": "code",
   "execution_count": 53,
   "metadata": {},
   "outputs": [
    {
     "data": {
      "text/html": [
       "<div>\n",
       "<style scoped>\n",
       "    .dataframe tbody tr th:only-of-type {\n",
       "        vertical-align: middle;\n",
       "    }\n",
       "\n",
       "    .dataframe tbody tr th {\n",
       "        vertical-align: top;\n",
       "    }\n",
       "\n",
       "    .dataframe thead th {\n",
       "        text-align: right;\n",
       "    }\n",
       "</style>\n",
       "<table border=\"1\" class=\"dataframe\">\n",
       "  <thead>\n",
       "    <tr style=\"text-align: right;\">\n",
       "      <th></th>\n",
       "      <th>Erkek</th>\n",
       "      <th>Kadın</th>\n",
       "    </tr>\n",
       "  </thead>\n",
       "  <tbody>\n",
       "    <tr>\n",
       "      <th>0</th>\n",
       "      <td>61.0</td>\n",
       "      <td>24</td>\n",
       "    </tr>\n",
       "    <tr>\n",
       "      <th>1</th>\n",
       "      <td>28.0</td>\n",
       "      <td>22</td>\n",
       "    </tr>\n",
       "    <tr>\n",
       "      <th>2</th>\n",
       "      <td>67.0</td>\n",
       "      <td>23</td>\n",
       "    </tr>\n",
       "    <tr>\n",
       "      <th>3</th>\n",
       "      <td>41.0</td>\n",
       "      <td>62</td>\n",
       "    </tr>\n",
       "    <tr>\n",
       "      <th>4</th>\n",
       "      <td>59.0</td>\n",
       "      <td>70</td>\n",
       "    </tr>\n",
       "  </tbody>\n",
       "</table>\n",
       "</div>"
      ],
      "text/plain": [
       "   Erkek  Kadın\n",
       "0   61.0     24\n",
       "1   28.0     22\n",
       "2   67.0     23\n",
       "3   41.0     62\n",
       "4   59.0     70"
      ]
     },
     "execution_count": 53,
     "metadata": {},
     "output_type": "execute_result"
    }
   ],
   "source": [
    "populasyon=pd.concat([male,female],axis=1)\n",
    "populasyon.head()"
   ]
  },
  {
   "cell_type": "code",
   "execution_count": 78,
   "metadata": {},
   "outputs": [
    {
     "data": {
      "text/plain": [
       "41.974466666666665"
      ]
     },
     "execution_count": 78,
     "metadata": {},
     "output_type": "execute_result"
    }
   ],
   "source": [
    "populasyon[\"Erkek\"].mean()"
   ]
  },
  {
   "cell_type": "code",
   "execution_count": 79,
   "metadata": {},
   "outputs": [
    {
     "data": {
      "text/plain": [
       "42.080216666666665"
      ]
     },
     "execution_count": 79,
     "metadata": {},
     "output_type": "execute_result"
    }
   ],
   "source": [
    "populasyon[\"Kadın\"].mean()"
   ]
  },
  {
   "cell_type": "code",
   "execution_count": 80,
   "metadata": {},
   "outputs": [
    {
     "data": {
      "text/plain": [
       "0.000295016531413535"
      ]
     },
     "execution_count": 80,
     "metadata": {},
     "output_type": "execute_result"
    }
   ],
   "source": [
    "# aralarında pozitif yönlü bir ilişki var. ama zayıf yönlü pozitif bir ilişki var.\n",
    "populasyon[\"Erkek\"].corr(populasyon[\"Kadın\"])"
   ]
  },
  {
   "cell_type": "code",
   "execution_count": null,
   "metadata": {},
   "outputs": [],
   "source": [
    "# Grafiksel şekle hazır hale getirelim :"
   ]
  },
  {
   "cell_type": "code",
   "execution_count": 69,
   "metadata": {},
   "outputs": [],
   "source": [
    "import seaborn as sns"
   ]
  },
  {
   "cell_type": "code",
   "execution_count": 87,
   "metadata": {},
   "outputs": [],
   "source": [
    "woman=np.arange(len(female))\n",
    "woman=pd.DataFrame(woman)\n",
    "woman[:]=\"Kadınlar\"\n",
    "man=np.arange(len(male))\n",
    "man=pd.DataFrame(man)\n",
    "man[:]=\"Erkekler\"\n",
    "man=pd.concat([man,male],axis=1)\n",
    "woman=pd.concat([woman,female],axis=1)"
   ]
  },
  {
   "cell_type": "code",
   "execution_count": 91,
   "metadata": {},
   "outputs": [],
   "source": [
    "man.columns=[\"Cinsiyet\",\"Yaş\"]\n",
    "woman.columns=[\"Cinsiyet\",\"Yaş\"]"
   ]
  },
  {
   "cell_type": "code",
   "execution_count": 93,
   "metadata": {},
   "outputs": [
    {
     "data": {
      "text/html": [
       "<div>\n",
       "<style scoped>\n",
       "    .dataframe tbody tr th:only-of-type {\n",
       "        vertical-align: middle;\n",
       "    }\n",
       "\n",
       "    .dataframe tbody tr th {\n",
       "        vertical-align: top;\n",
       "    }\n",
       "\n",
       "    .dataframe thead th {\n",
       "        text-align: right;\n",
       "    }\n",
       "</style>\n",
       "<table border=\"1\" class=\"dataframe\">\n",
       "  <thead>\n",
       "    <tr style=\"text-align: right;\">\n",
       "      <th></th>\n",
       "      <th>Cinsiyet</th>\n",
       "      <th>Yaş</th>\n",
       "    </tr>\n",
       "  </thead>\n",
       "  <tbody>\n",
       "    <tr>\n",
       "      <th>0</th>\n",
       "      <td>Erkekler</td>\n",
       "      <td>61</td>\n",
       "    </tr>\n",
       "    <tr>\n",
       "      <th>1</th>\n",
       "      <td>Erkekler</td>\n",
       "      <td>28</td>\n",
       "    </tr>\n",
       "    <tr>\n",
       "      <th>2</th>\n",
       "      <td>Erkekler</td>\n",
       "      <td>67</td>\n",
       "    </tr>\n",
       "    <tr>\n",
       "      <th>3</th>\n",
       "      <td>Erkekler</td>\n",
       "      <td>41</td>\n",
       "    </tr>\n",
       "    <tr>\n",
       "      <th>4</th>\n",
       "      <td>Erkekler</td>\n",
       "      <td>59</td>\n",
       "    </tr>\n",
       "  </tbody>\n",
       "</table>\n",
       "</div>"
      ],
      "text/plain": [
       "   Cinsiyet  Yaş\n",
       "0  Erkekler   61\n",
       "1  Erkekler   28\n",
       "2  Erkekler   67\n",
       "3  Erkekler   41\n",
       "4  Erkekler   59"
      ]
     },
     "execution_count": 93,
     "metadata": {},
     "output_type": "execute_result"
    }
   ],
   "source": [
    "people=pd.concat([man,woman])\n",
    "people.head()"
   ]
  },
  {
   "cell_type": "code",
   "execution_count": 94,
   "metadata": {},
   "outputs": [
    {
     "data": {
      "text/html": [
       "<div>\n",
       "<style scoped>\n",
       "    .dataframe tbody tr th:only-of-type {\n",
       "        vertical-align: middle;\n",
       "    }\n",
       "\n",
       "    .dataframe tbody tr th {\n",
       "        vertical-align: top;\n",
       "    }\n",
       "\n",
       "    .dataframe thead th {\n",
       "        text-align: right;\n",
       "    }\n",
       "</style>\n",
       "<table border=\"1\" class=\"dataframe\">\n",
       "  <thead>\n",
       "    <tr style=\"text-align: right;\">\n",
       "      <th></th>\n",
       "      <th>Cinsiyet</th>\n",
       "      <th>Yaş</th>\n",
       "    </tr>\n",
       "  </thead>\n",
       "  <tbody>\n",
       "    <tr>\n",
       "      <th>119995</th>\n",
       "      <td>Kadınlar</td>\n",
       "      <td>45</td>\n",
       "    </tr>\n",
       "    <tr>\n",
       "      <th>119996</th>\n",
       "      <td>Kadınlar</td>\n",
       "      <td>76</td>\n",
       "    </tr>\n",
       "    <tr>\n",
       "      <th>119997</th>\n",
       "      <td>Kadınlar</td>\n",
       "      <td>8</td>\n",
       "    </tr>\n",
       "    <tr>\n",
       "      <th>119998</th>\n",
       "      <td>Kadınlar</td>\n",
       "      <td>38</td>\n",
       "    </tr>\n",
       "    <tr>\n",
       "      <th>119999</th>\n",
       "      <td>Kadınlar</td>\n",
       "      <td>51</td>\n",
       "    </tr>\n",
       "  </tbody>\n",
       "</table>\n",
       "</div>"
      ],
      "text/plain": [
       "        Cinsiyet  Yaş\n",
       "119995  Kadınlar   45\n",
       "119996  Kadınlar   76\n",
       "119997  Kadınlar    8\n",
       "119998  Kadınlar   38\n",
       "119999  Kadınlar   51"
      ]
     },
     "execution_count": 94,
     "metadata": {},
     "output_type": "execute_result"
    }
   ],
   "source": [
    "people.tail()"
   ]
  },
  {
   "cell_type": "code",
   "execution_count": 96,
   "metadata": {},
   "outputs": [
    {
     "data": {
      "image/png": "[encoded data removed]",
      "text/plain": [
       "<Figure size 432x288 with 1 Axes>"
      ]
     },
     "metadata": {
      "needs_background": "light"
     },
     "output_type": "display_data"
    }
   ],
   "source": [
    "sns.barplot(x=\"Cinsiyet\",y=\"Yaş\",data=people);"
   ]
  },
  {
   "cell_type": "code",
   "execution_count": 100,
   "metadata": {},
   "outputs": [
    {
     "data": {
      "image/png": "[encoded data removed]",
      "text/plain": [
       "<Figure size 432x288 with 1 Axes>"
      ]
     },
     "metadata": {
      "needs_background": "light"
     },
     "output_type": "display_data"
    }
   ],
   "source": [
    "sns.boxplot(x=\"Cinsiyet\",y=\"Yaş\",data=people);"
   ]
  },
  {
   "cell_type": "code",
   "execution_count": 101,
   "metadata": {},
   "outputs": [
    {
     "data": {
      "image/png": "[encoded data removed]",
      "text/plain": [
       "<Figure size 432x288 with 1 Axes>"
      ]
     },
     "metadata": {
      "needs_background": "light"
     },
     "output_type": "display_data"
    }
   ],
   "source": [
    "sns.histplot(populasyon);"
   ]
  },
  {
   "cell_type": "code",
   "execution_count": 102,
   "metadata": {},
   "outputs": [],
   "source": [
    "import statsmodels.stats.api as sms"
   ]
  },
  {
   "cell_type": "code",
   "execution_count": 109,
   "metadata": {},
   "outputs": [
    {
     "data": {
      "text/plain": [
       "(41.949370386879764, 42.16876294645357)"
      ]
     },
     "execution_count": 109,
     "metadata": {},
     "output_type": "execute_result"
    }
   ],
   "source": [
    "sms.DescrStatsW(people[\"Yaş\"]).tconfint_mean()\n",
    "# kadınların da erkeklerinde %95 i bu yaş aralığında hastalanmıştır."
   ]
  },
  {
   "cell_type": "code",
   "execution_count": 110,
   "metadata": {},
   "outputs": [
    {
     "data": {
      "text/html": [
       "<div>\n",
       "<style scoped>\n",
       "    .dataframe tbody tr th:only-of-type {\n",
       "        vertical-align: middle;\n",
       "    }\n",
       "\n",
       "    .dataframe tbody tr th {\n",
       "        vertical-align: top;\n",
       "    }\n",
       "\n",
       "    .dataframe thead th {\n",
       "        text-align: right;\n",
       "    }\n",
       "</style>\n",
       "<table border=\"1\" class=\"dataframe\">\n",
       "  <thead>\n",
       "    <tr style=\"text-align: right;\">\n",
       "      <th></th>\n",
       "      <th>Erkek</th>\n",
       "      <th>Kadın</th>\n",
       "    </tr>\n",
       "  </thead>\n",
       "  <tbody>\n",
       "    <tr>\n",
       "      <th>0</th>\n",
       "      <td>61.0</td>\n",
       "      <td>24</td>\n",
       "    </tr>\n",
       "    <tr>\n",
       "      <th>1</th>\n",
       "      <td>28.0</td>\n",
       "      <td>22</td>\n",
       "    </tr>\n",
       "    <tr>\n",
       "      <th>2</th>\n",
       "      <td>67.0</td>\n",
       "      <td>23</td>\n",
       "    </tr>\n",
       "    <tr>\n",
       "      <th>3</th>\n",
       "      <td>41.0</td>\n",
       "      <td>62</td>\n",
       "    </tr>\n",
       "    <tr>\n",
       "      <th>4</th>\n",
       "      <td>59.0</td>\n",
       "      <td>70</td>\n",
       "    </tr>\n",
       "  </tbody>\n",
       "</table>\n",
       "</div>"
      ],
      "text/plain": [
       "   Erkek  Kadın\n",
       "0   61.0     24\n",
       "1   28.0     22\n",
       "2   67.0     23\n",
       "3   41.0     62\n",
       "4   59.0     70"
      ]
     },
     "execution_count": 110,
     "metadata": {},
     "output_type": "execute_result"
    }
   ],
   "source": [
    "populasyon.head()"
   ]
  },
  {
   "cell_type": "code",
   "execution_count": 112,
   "metadata": {},
   "outputs": [
    {
     "data": {
      "text/plain": [
       "(41.957548760942935, 42.202884572390396)"
      ]
     },
     "execution_count": 112,
     "metadata": {},
     "output_type": "execute_result"
    }
   ],
   "source": [
    "sms.DescrStatsW(populasyon[\"Kadın\"]).tconfint_mean()"
   ]
  },
  {
   "cell_type": "code",
   "execution_count": null,
   "metadata": {},
   "outputs": [],
   "source": []
  },
  {
   "cell_type": "code",
   "execution_count": 16,
   "metadata": {},
   "outputs": [],
   "source": [
    "# Betimsel İstatistikler:"
   ]
  },
  {
   "cell_type": "code",
   "execution_count": 17,
   "metadata": {},
   "outputs": [],
   "source": [
    "# a) kovaryans iki değişken arasında ki ilişkinin değişkenlik ölçüsüdür. iki değişkenini arasındaki değişen ilişkiye bakar.\n",
    "# beraber değişimlerini inceler.\n",
    "# kovaryans değeri 0 ise bu değişkenler arasında ilişki yoktur.\n",
    "# cov > 0 ise ilişki pozitif yönlüdür.\n",
    "# cov<0 ise ilişki negatif yönlüdür."
   ]
  },
  {
   "cell_type": "code",
   "execution_count": 19,
   "metadata": {},
   "outputs": [],
   "source": [
    "# Örnek Kovaryans uygulaması : "
   ]
  },
  {
   "cell_type": "code",
   "execution_count": 24,
   "metadata": {},
   "outputs": [
    {
     "data": {
      "text/html": [
       "<div>\n",
       "<style scoped>\n",
       "    .dataframe tbody tr th:only-of-type {\n",
       "        vertical-align: middle;\n",
       "    }\n",
       "\n",
       "    .dataframe tbody tr th {\n",
       "        vertical-align: top;\n",
       "    }\n",
       "\n",
       "    .dataframe thead th {\n",
       "        text-align: right;\n",
       "    }\n",
       "</style>\n",
       "<table border=\"1\" class=\"dataframe\">\n",
       "  <thead>\n",
       "    <tr style=\"text-align: right;\">\n",
       "      <th></th>\n",
       "      <th>deg1</th>\n",
       "      <th>deg2</th>\n",
       "    </tr>\n",
       "  </thead>\n",
       "  <tbody>\n",
       "    <tr>\n",
       "      <th>0</th>\n",
       "      <td>4</td>\n",
       "      <td>21</td>\n",
       "    </tr>\n",
       "    <tr>\n",
       "      <th>1</th>\n",
       "      <td>29</td>\n",
       "      <td>29</td>\n",
       "    </tr>\n",
       "    <tr>\n",
       "      <th>2</th>\n",
       "      <td>2</td>\n",
       "      <td>16</td>\n",
       "    </tr>\n",
       "    <tr>\n",
       "      <th>3</th>\n",
       "      <td>29</td>\n",
       "      <td>26</td>\n",
       "    </tr>\n",
       "    <tr>\n",
       "      <th>4</th>\n",
       "      <td>29</td>\n",
       "      <td>5</td>\n",
       "    </tr>\n",
       "  </tbody>\n",
       "</table>\n",
       "</div>"
      ],
      "text/plain": [
       "   deg1  deg2\n",
       "0     4    21\n",
       "1    29    29\n",
       "2     2    16\n",
       "3    29    26\n",
       "4    29     5"
      ]
     },
     "execution_count": 24,
     "metadata": {},
     "output_type": "execute_result"
    }
   ],
   "source": [
    "df=pd.DataFrame(np.random.randint(2,30,size=(5,2)), columns=[\"deg1\",\"deg2\"])\n",
    "df"
   ]
  },
  {
   "cell_type": "code",
   "execution_count": null,
   "metadata": {},
   "outputs": [],
   "source": []
  },
  {
   "cell_type": "code",
   "execution_count": 22,
   "metadata": {},
   "outputs": [],
   "source": [
    "# kovaryans nasıl hesaplanır : "
   ]
  },
  {
   "cell_type": "code",
   "execution_count": 30,
   "metadata": {},
   "outputs": [
    {
     "data": {
      "text/plain": [
       "18.6"
      ]
     },
     "execution_count": 30,
     "metadata": {},
     "output_type": "execute_result"
    }
   ],
   "source": [
    "# deg1 ortalaması alınır.\n",
    "df[\"deg1\"].mean()"
   ]
  },
  {
   "cell_type": "code",
   "execution_count": 31,
   "metadata": {},
   "outputs": [
    {
     "data": {
      "text/plain": [
       "19.4"
      ]
     },
     "execution_count": 31,
     "metadata": {},
     "output_type": "execute_result"
    }
   ],
   "source": [
    "# deg2 ortalaması alınır.\n",
    "df[\"deg2\"].mean()"
   ]
  },
  {
   "cell_type": "markdown",
   "metadata": {},
   "source": [
    " deg1 deki tüm değerlerden ortalamayı teker teker çıkaracağız.\n",
    "df[\"deg1\"]\n",
    "4-18.6\n",
    "29-18.6\n",
    "2-18.6\n",
    "29-18.6\n",
    "29-18.6"
   ]
  },
  {
   "cell_type": "code",
   "execution_count": 58,
   "metadata": {},
   "outputs": [
    {
     "data": {
      "text/plain": [
       "0   -14.6\n",
       "1    10.4\n",
       "2   -16.6\n",
       "3    10.4\n",
       "4    10.4\n",
       "Name: deg1, dtype: float64"
      ]
     },
     "execution_count": 58,
     "metadata": {},
     "output_type": "execute_result"
    }
   ],
   "source": [
    "a=df[\"deg1\"]-(df[\"deg1\"].mean())\n",
    "a"
   ]
  },
  {
   "cell_type": "markdown",
   "metadata": {},
   "source": [
    " deg2 deki tüm değerlerden ortalamayı teker teker çıkaracağız.\n",
    "df[\"deg1\"]\n",
    "4-18.6\n",
    "29-18.6\n",
    "2-18.6\n",
    "29-18.6\n",
    "29-18.6"
   ]
  },
  {
   "cell_type": "code",
   "execution_count": 61,
   "metadata": {},
   "outputs": [
    {
     "data": {
      "text/plain": [
       "0     1.6\n",
       "1     9.6\n",
       "2    -3.4\n",
       "3     6.6\n",
       "4   -14.4\n",
       "Name: deg2, dtype: float64"
      ]
     },
     "execution_count": 61,
     "metadata": {},
     "output_type": "execute_result"
    }
   ],
   "source": [
    "b=df[\"deg2\"]-(df[\"deg2\"].mean())\n",
    "b"
   ]
  },
  {
   "cell_type": "code",
   "execution_count": 62,
   "metadata": {},
   "outputs": [
    {
     "data": {
      "text/plain": [
       "0    -23.36\n",
       "1     99.84\n",
       "2     56.44\n",
       "3     68.64\n",
       "4   -149.76\n",
       "Name: deg2, dtype: float64"
      ]
     },
     "execution_count": 62,
     "metadata": {},
     "output_type": "execute_result"
    }
   ],
   "source": [
    "# sonrasında index sırasına göre çarpalım.\n",
    "c=a*b\n",
    "c"
   ]
  },
  {
   "cell_type": "code",
   "execution_count": 86,
   "metadata": {},
   "outputs": [],
   "source": [
    "# bunu yaptıktan sonra c nin toplamını alıp 5 eleman olduğu için 5 e bölelim\n",
    "kovaryans=(c.sum())/5"
   ]
  },
  {
   "cell_type": "code",
   "execution_count": 87,
   "metadata": {},
   "outputs": [
    {
     "data": {
      "text/plain": [
       "10.359999999999996"
      ]
     },
     "execution_count": 87,
     "metadata": {},
     "output_type": "execute_result"
    }
   ],
   "source": [
    "kovaryans\n",
    "# bu değişkenler arasında aynı yönde bir ilişki var.\n",
    "# kovaryans değeri :"
   ]
  },
  {
   "cell_type": "code",
   "execution_count": null,
   "metadata": {},
   "outputs": [],
   "source": [
    "# korelasyon katsayısı : iki veya daha fazla değişken arasındaki ilişkinin durumunu inceler.\n",
    "# örneğin bir öğrencinin o dersi sevmesi onun için o derste başarı elde etmesinde etkilimi.\n",
    "# korelasyon katsayısı -1,1 değerleri arasında olmalıdır.\n",
    "# 0-1 arası pozitif korelasyon, -1,0 arası negatif korelasyondur. 0 değeriyse ilşiki yoktur."
   ]
  },
  {
   "cell_type": "code",
   "execution_count": null,
   "metadata": {},
   "outputs": [],
   "source": [
    "# korelasyon katsayısı nasıl hesaplanır. \n",
    "# ilk önce değişkenlerin ortalamaları alınır. "
   ]
  },
  {
   "cell_type": "code",
   "execution_count": null,
   "metadata": {},
   "outputs": [],
   "source": [
    "# yine her bir değerinden ortalamayı çıkaracağız."
   ]
  },
  {
   "cell_type": "code",
   "execution_count": 73,
   "metadata": {},
   "outputs": [
    {
     "data": {
      "text/plain": [
       "0   -14.6\n",
       "1    10.4\n",
       "2   -16.6\n",
       "3    10.4\n",
       "4    10.4\n",
       "Name: deg1, dtype: float64"
      ]
     },
     "execution_count": 73,
     "metadata": {},
     "output_type": "execute_result"
    }
   ],
   "source": [
    "x=df[\"deg1\"]-(df[\"deg1\"].mean())\n",
    "x"
   ]
  },
  {
   "cell_type": "code",
   "execution_count": 74,
   "metadata": {},
   "outputs": [
    {
     "data": {
      "text/plain": [
       "0     1.6\n",
       "1     9.6\n",
       "2    -3.4\n",
       "3     6.6\n",
       "4   -14.4\n",
       "Name: deg2, dtype: float64"
      ]
     },
     "execution_count": 74,
     "metadata": {},
     "output_type": "execute_result"
    }
   ],
   "source": [
    "y=df[\"deg2\"]-(df[\"deg2\"].mean())\n",
    "y"
   ]
  },
  {
   "cell_type": "code",
   "execution_count": null,
   "metadata": {},
   "outputs": [],
   "source": [
    "# sonrasında her bir değerin karelerini alacağız."
   ]
  },
  {
   "cell_type": "code",
   "execution_count": 75,
   "metadata": {},
   "outputs": [
    {
     "data": {
      "text/plain": [
       "0    213.16\n",
       "1    108.16\n",
       "2    275.56\n",
       "3    108.16\n",
       "4    108.16\n",
       "Name: deg1, dtype: float64"
      ]
     },
     "execution_count": 75,
     "metadata": {},
     "output_type": "execute_result"
    }
   ],
   "source": [
    "x_kare=x**2\n",
    "x_kare"
   ]
  },
  {
   "cell_type": "code",
   "execution_count": 76,
   "metadata": {},
   "outputs": [
    {
     "data": {
      "text/plain": [
       "0      2.56\n",
       "1     92.16\n",
       "2     11.56\n",
       "3     43.56\n",
       "4    207.36\n",
       "Name: deg2, dtype: float64"
      ]
     },
     "execution_count": 76,
     "metadata": {},
     "output_type": "execute_result"
    }
   ],
   "source": [
    "y_kare=y**2\n",
    "y_kare"
   ]
  },
  {
   "cell_type": "code",
   "execution_count": 77,
   "metadata": {},
   "outputs": [],
   "source": [
    "# bir de bize bu iki ifadelerin yani kovaryans ta yaptığımız gibi çarpımları lazım."
   ]
  },
  {
   "cell_type": "code",
   "execution_count": 78,
   "metadata": {},
   "outputs": [
    {
     "data": {
      "text/plain": [
       "0    -23.36\n",
       "1     99.84\n",
       "2     56.44\n",
       "3     68.64\n",
       "4   -149.76\n",
       "dtype: float64"
      ]
     },
     "execution_count": 78,
     "metadata": {},
     "output_type": "execute_result"
    }
   ],
   "source": [
    "carpım=x*y\n",
    "carpım"
   ]
  },
  {
   "cell_type": "code",
   "execution_count": 79,
   "metadata": {},
   "outputs": [
    {
     "data": {
      "text/plain": [
       "51.79999999999998"
      ]
     },
     "execution_count": 79,
     "metadata": {},
     "output_type": "execute_result"
    }
   ],
   "source": [
    "carpım=carpım.sum()\n",
    "carpım"
   ]
  },
  {
   "cell_type": "code",
   "execution_count": 80,
   "metadata": {},
   "outputs": [
    {
     "data": {
      "text/plain": [
       "813.2"
      ]
     },
     "execution_count": 80,
     "metadata": {},
     "output_type": "execute_result"
    }
   ],
   "source": [
    "x_kare=x_kare.sum()\n",
    "x_kare"
   ]
  },
  {
   "cell_type": "code",
   "execution_count": 81,
   "metadata": {},
   "outputs": [
    {
     "data": {
      "text/plain": [
       "357.2"
      ]
     },
     "execution_count": 81,
     "metadata": {},
     "output_type": "execute_result"
    }
   ],
   "source": [
    "y_kare=y_kare.sum()\n",
    "y_kare"
   ]
  },
  {
   "cell_type": "code",
   "execution_count": 82,
   "metadata": {},
   "outputs": [
    {
     "data": {
      "text/plain": [
       "0.09611149875430443"
      ]
     },
     "execution_count": 82,
     "metadata": {},
     "output_type": "execute_result"
    }
   ],
   "source": [
    "# sonrasında carpımı karelerin çarpımlarının kareköklerine böleceğiz.\n",
    "korelasyon=carpım/((x_kare*y_kare)**0.5)\n",
    "korelasyon"
   ]
  },
  {
   "cell_type": "code",
   "execution_count": null,
   "metadata": {},
   "outputs": [],
   "source": [
    "# burda değişken tabloları arasında pozitif yönlü bir korelasyon var."
   ]
  },
  {
   "cell_type": "code",
   "execution_count": 2,
   "metadata": {},
   "outputs": [],
   "source": [
    "import seaborn as sns"
   ]
  },
  {
   "cell_type": "code",
   "execution_count": 89,
   "metadata": {},
   "outputs": [
    {
     "data": {
      "text/html": [
       "<div>\n",
       "<style scoped>\n",
       "    .dataframe tbody tr th:only-of-type {\n",
       "        vertical-align: middle;\n",
       "    }\n",
       "\n",
       "    .dataframe tbody tr th {\n",
       "        vertical-align: top;\n",
       "    }\n",
       "\n",
       "    .dataframe thead th {\n",
       "        text-align: right;\n",
       "    }\n",
       "</style>\n",
       "<table border=\"1\" class=\"dataframe\">\n",
       "  <thead>\n",
       "    <tr style=\"text-align: right;\">\n",
       "      <th></th>\n",
       "      <th>total_bill</th>\n",
       "      <th>tip</th>\n",
       "      <th>sex</th>\n",
       "      <th>smoker</th>\n",
       "      <th>day</th>\n",
       "      <th>time</th>\n",
       "      <th>size</th>\n",
       "    </tr>\n",
       "  </thead>\n",
       "  <tbody>\n",
       "    <tr>\n",
       "      <th>0</th>\n",
       "      <td>16.99</td>\n",
       "      <td>1.01</td>\n",
       "      <td>Female</td>\n",
       "      <td>No</td>\n",
       "      <td>Sun</td>\n",
       "      <td>Dinner</td>\n",
       "      <td>2</td>\n",
       "    </tr>\n",
       "    <tr>\n",
       "      <th>1</th>\n",
       "      <td>10.34</td>\n",
       "      <td>1.66</td>\n",
       "      <td>Male</td>\n",
       "      <td>No</td>\n",
       "      <td>Sun</td>\n",
       "      <td>Dinner</td>\n",
       "      <td>3</td>\n",
       "    </tr>\n",
       "    <tr>\n",
       "      <th>2</th>\n",
       "      <td>21.01</td>\n",
       "      <td>3.50</td>\n",
       "      <td>Male</td>\n",
       "      <td>No</td>\n",
       "      <td>Sun</td>\n",
       "      <td>Dinner</td>\n",
       "      <td>3</td>\n",
       "    </tr>\n",
       "    <tr>\n",
       "      <th>3</th>\n",
       "      <td>23.68</td>\n",
       "      <td>3.31</td>\n",
       "      <td>Male</td>\n",
       "      <td>No</td>\n",
       "      <td>Sun</td>\n",
       "      <td>Dinner</td>\n",
       "      <td>2</td>\n",
       "    </tr>\n",
       "    <tr>\n",
       "      <th>4</th>\n",
       "      <td>24.59</td>\n",
       "      <td>3.61</td>\n",
       "      <td>Female</td>\n",
       "      <td>No</td>\n",
       "      <td>Sun</td>\n",
       "      <td>Dinner</td>\n",
       "      <td>4</td>\n",
       "    </tr>\n",
       "  </tbody>\n",
       "</table>\n",
       "</div>"
      ],
      "text/plain": [
       "   total_bill   tip     sex smoker  day    time  size\n",
       "0       16.99  1.01  Female     No  Sun  Dinner     2\n",
       "1       10.34  1.66    Male     No  Sun  Dinner     3\n",
       "2       21.01  3.50    Male     No  Sun  Dinner     3\n",
       "3       23.68  3.31    Male     No  Sun  Dinner     2\n",
       "4       24.59  3.61  Female     No  Sun  Dinner     4"
      ]
     },
     "execution_count": 89,
     "metadata": {},
     "output_type": "execute_result"
    }
   ],
   "source": [
    "df=sns.load_dataset(\"tips\")\n",
    "df.head()"
   ]
  },
  {
   "cell_type": "code",
   "execution_count": null,
   "metadata": {},
   "outputs": [],
   "source": [
    "# burda ben ödenen ücret ile verilen bahşiş arasındaki ilişkiyi incelemek istiyorum."
   ]
  },
  {
   "cell_type": "code",
   "execution_count": 90,
   "metadata": {},
   "outputs": [
    {
     "data": {
      "text/html": [
       "<div>\n",
       "<style scoped>\n",
       "    .dataframe tbody tr th:only-of-type {\n",
       "        vertical-align: middle;\n",
       "    }\n",
       "\n",
       "    .dataframe tbody tr th {\n",
       "        vertical-align: top;\n",
       "    }\n",
       "\n",
       "    .dataframe thead th {\n",
       "        text-align: right;\n",
       "    }\n",
       "</style>\n",
       "<table border=\"1\" class=\"dataframe\">\n",
       "  <thead>\n",
       "    <tr style=\"text-align: right;\">\n",
       "      <th></th>\n",
       "      <th>total_bill</th>\n",
       "      <th>tip</th>\n",
       "    </tr>\n",
       "  </thead>\n",
       "  <tbody>\n",
       "    <tr>\n",
       "      <th>total_bill</th>\n",
       "      <td>79.252939</td>\n",
       "      <td>8.323502</td>\n",
       "    </tr>\n",
       "    <tr>\n",
       "      <th>tip</th>\n",
       "      <td>8.323502</td>\n",
       "      <td>1.914455</td>\n",
       "    </tr>\n",
       "  </tbody>\n",
       "</table>\n",
       "</div>"
      ],
      "text/plain": [
       "            total_bill       tip\n",
       "total_bill   79.252939  8.323502\n",
       "tip           8.323502  1.914455"
      ]
     },
     "execution_count": 90,
     "metadata": {},
     "output_type": "execute_result"
    }
   ],
   "source": [
    "df[[\"total_bill\",\"tip\"]].cov()\n",
    "# 2 si arasında ki kovaryans değeri 8.323502 dir.\n",
    "# total_bill kovaryans değeri = 79.252939\n",
    "# tip kovaryans değeri = 1.914455 dir."
   ]
  },
  {
   "cell_type": "code",
   "execution_count": 94,
   "metadata": {},
   "outputs": [
    {
     "data": {
      "text/html": [
       "<div>\n",
       "<style scoped>\n",
       "    .dataframe tbody tr th:only-of-type {\n",
       "        vertical-align: middle;\n",
       "    }\n",
       "\n",
       "    .dataframe tbody tr th {\n",
       "        vertical-align: top;\n",
       "    }\n",
       "\n",
       "    .dataframe thead th {\n",
       "        text-align: right;\n",
       "    }\n",
       "</style>\n",
       "<table border=\"1\" class=\"dataframe\">\n",
       "  <thead>\n",
       "    <tr style=\"text-align: right;\">\n",
       "      <th></th>\n",
       "      <th>total_bill</th>\n",
       "      <th>tip</th>\n",
       "    </tr>\n",
       "  </thead>\n",
       "  <tbody>\n",
       "    <tr>\n",
       "      <th>total_bill</th>\n",
       "      <td>1.000000</td>\n",
       "      <td>0.675734</td>\n",
       "    </tr>\n",
       "    <tr>\n",
       "      <th>tip</th>\n",
       "      <td>0.675734</td>\n",
       "      <td>1.000000</td>\n",
       "    </tr>\n",
       "  </tbody>\n",
       "</table>\n",
       "</div>"
      ],
      "text/plain": [
       "            total_bill       tip\n",
       "total_bill    1.000000  0.675734\n",
       "tip           0.675734  1.000000"
      ]
     },
     "execution_count": 94,
     "metadata": {},
     "output_type": "execute_result"
    }
   ],
   "source": [
    "df[[\"total_bill\",\"tip\"]].corr()\n",
    "# 2 sinin korelasyon kat sayısı 0.675734 dir. aralarında pozitif yönlü bir artış vardır."
   ]
  },
  {
   "cell_type": "code",
   "execution_count": 1,
   "metadata": {},
   "outputs": [
    {
     "data": {
      "text/plain": [
       "172.16"
      ]
     },
     "execution_count": 1,
     "metadata": {},
     "output_type": "execute_result"
    }
   ],
   "source": [
    "# Güven aralıkları :\n",
    "# örneğin bir web sitesinde geçirilen sürenin güven aralığı nedir? \n",
    "# ilk adım : n= kişi sayısı, ort=ortalama, std=standart sapma.\n",
    "# z tablo değeri olarak 1.96 alınır.\n",
    "# güven aralık hesaplaması 1.96-2.57 arasındadır.\n",
    "# n=100, ort=180, std=40\n",
    "180+1.96*(40/(100**0.5))\n",
    "# 187 saniye çıktı.\n",
    "180-1.96*(40/(100**0.5))\n",
    "# 172 çıktı.\n",
    "# çıkan sonuç 172-188 arasında ise %95 lik bir başarı var demektir."
   ]
  },
  {
   "cell_type": "code",
   "execution_count": null,
   "metadata": {},
   "outputs": [],
   "source": [
    "# Örnek uygulama : bir ürün ile ilgili olarak bir fiyat belirlenecek. Alıcılara bu ürüne ne kadar ödersiniz diye \n",
    "# soruluyor. Bu cevaplara göre bir ürün fiyat skalası belirlenmek isteniyor."
   ]
  },
  {
   "cell_type": "code",
   "execution_count": 6,
   "metadata": {},
   "outputs": [],
   "source": [
    "fiyat=np.random.randint(70,100,size=1000)"
   ]
  },
  {
   "cell_type": "code",
   "execution_count": null,
   "metadata": {},
   "outputs": [],
   "source": [
    "# güven aralığını bulmak için %95-%100 lük değer arasını bulmamız gerekmektedir."
   ]
  },
  {
   "cell_type": "code",
   "execution_count": 4,
   "metadata": {},
   "outputs": [],
   "source": [
    "import statsmodels.stats.api as sms"
   ]
  },
  {
   "cell_type": "code",
   "execution_count": 7,
   "metadata": {},
   "outputs": [
    {
     "data": {
      "text/plain": [
       "(83.7641944186918, 84.82180558130821)"
      ]
     },
     "execution_count": 7,
     "metadata": {},
     "output_type": "execute_result"
    }
   ],
   "source": [
    "sms.DescrStatsW(fiyat).tconfint_mean()\n",
    "# fiyatların en fazla verildiği değer aralığını getirir.\n",
    "# insanların %95 i bu aralıkta fiyat veririm demişler."
   ]
  },
  {
   "cell_type": "code",
   "execution_count": 114,
   "metadata": {},
   "outputs": [
    {
     "data": {
      "text/plain": [
       "84.242"
      ]
     },
     "execution_count": 114,
     "metadata": {},
     "output_type": "execute_result"
    }
   ],
   "source": [
    "# 2. yol:\n",
    "# aralıktaki değeri görmek istersek : \n",
    "fiyat.mean()"
   ]
  },
  {
   "cell_type": "code",
   "execution_count": 115,
   "metadata": {},
   "outputs": [
    {
     "data": {
      "text/plain": [
       "8.603571119017962"
      ]
     },
     "execution_count": 115,
     "metadata": {},
     "output_type": "execute_result"
    }
   ],
   "source": [
    "fiyat.std()"
   ]
  },
  {
   "cell_type": "code",
   "execution_count": 1,
   "metadata": {},
   "outputs": [
    {
     "name": "stdout",
     "output_type": "stream",
     "text": [
      "ilk değer=84.77525486264787, 2. değer = 83.70874513735214\n"
     ]
    }
   ],
   "source": [
    "a=84.242+1.96*(8.603571119017962/(1000**0.5))\n",
    "b=84.242-1.96*(8.603571119017962/(1000**0.5))\n",
    "print(f\"ilk değer={a}, 2. değer = {b}\")"
   ]
  },
  {
   "cell_type": "code",
   "execution_count": 116,
   "metadata": {},
   "outputs": [
    {
     "data": {
      "text/html": [
       "<div>\n",
       "<style scoped>\n",
       "    .dataframe tbody tr th:only-of-type {\n",
       "        vertical-align: middle;\n",
       "    }\n",
       "\n",
       "    .dataframe tbody tr th {\n",
       "        vertical-align: top;\n",
       "    }\n",
       "\n",
       "    .dataframe thead th {\n",
       "        text-align: right;\n",
       "    }\n",
       "</style>\n",
       "<table border=\"1\" class=\"dataframe\">\n",
       "  <thead>\n",
       "    <tr style=\"text-align: right;\">\n",
       "      <th></th>\n",
       "      <th>total_bill</th>\n",
       "      <th>tip</th>\n",
       "      <th>sex</th>\n",
       "      <th>smoker</th>\n",
       "      <th>day</th>\n",
       "      <th>time</th>\n",
       "      <th>size</th>\n",
       "    </tr>\n",
       "  </thead>\n",
       "  <tbody>\n",
       "    <tr>\n",
       "      <th>0</th>\n",
       "      <td>16.99</td>\n",
       "      <td>1.01</td>\n",
       "      <td>Female</td>\n",
       "      <td>No</td>\n",
       "      <td>Sun</td>\n",
       "      <td>Dinner</td>\n",
       "      <td>2</td>\n",
       "    </tr>\n",
       "    <tr>\n",
       "      <th>1</th>\n",
       "      <td>10.34</td>\n",
       "      <td>1.66</td>\n",
       "      <td>Male</td>\n",
       "      <td>No</td>\n",
       "      <td>Sun</td>\n",
       "      <td>Dinner</td>\n",
       "      <td>3</td>\n",
       "    </tr>\n",
       "    <tr>\n",
       "      <th>2</th>\n",
       "      <td>21.01</td>\n",
       "      <td>3.50</td>\n",
       "      <td>Male</td>\n",
       "      <td>No</td>\n",
       "      <td>Sun</td>\n",
       "      <td>Dinner</td>\n",
       "      <td>3</td>\n",
       "    </tr>\n",
       "    <tr>\n",
       "      <th>3</th>\n",
       "      <td>23.68</td>\n",
       "      <td>3.31</td>\n",
       "      <td>Male</td>\n",
       "      <td>No</td>\n",
       "      <td>Sun</td>\n",
       "      <td>Dinner</td>\n",
       "      <td>2</td>\n",
       "    </tr>\n",
       "    <tr>\n",
       "      <th>4</th>\n",
       "      <td>24.59</td>\n",
       "      <td>3.61</td>\n",
       "      <td>Female</td>\n",
       "      <td>No</td>\n",
       "      <td>Sun</td>\n",
       "      <td>Dinner</td>\n",
       "      <td>4</td>\n",
       "    </tr>\n",
       "  </tbody>\n",
       "</table>\n",
       "</div>"
      ],
      "text/plain": [
       "   total_bill   tip     sex smoker  day    time  size\n",
       "0       16.99  1.01  Female     No  Sun  Dinner     2\n",
       "1       10.34  1.66    Male     No  Sun  Dinner     3\n",
       "2       21.01  3.50    Male     No  Sun  Dinner     3\n",
       "3       23.68  3.31    Male     No  Sun  Dinner     2\n",
       "4       24.59  3.61  Female     No  Sun  Dinner     4"
      ]
     },
     "execution_count": 116,
     "metadata": {},
     "output_type": "execute_result"
    }
   ],
   "source": [
    "df=sns.load_dataset(\"tips\")\n",
    "df.head()"
   ]
  },
  {
   "cell_type": "code",
   "execution_count": 144,
   "metadata": {},
   "outputs": [],
   "source": [
    "df_new=pd.concat([df[\"total_bill\"],df[\"tip\"],df[\"sex\"],df[\"day\"]], axis=1)"
   ]
  },
  {
   "cell_type": "code",
   "execution_count": 145,
   "metadata": {},
   "outputs": [
    {
     "data": {
      "text/html": [
       "<div>\n",
       "<style scoped>\n",
       "    .dataframe tbody tr th:only-of-type {\n",
       "        vertical-align: middle;\n",
       "    }\n",
       "\n",
       "    .dataframe tbody tr th {\n",
       "        vertical-align: top;\n",
       "    }\n",
       "\n",
       "    .dataframe thead th {\n",
       "        text-align: right;\n",
       "    }\n",
       "</style>\n",
       "<table border=\"1\" class=\"dataframe\">\n",
       "  <thead>\n",
       "    <tr style=\"text-align: right;\">\n",
       "      <th></th>\n",
       "      <th>total_bill</th>\n",
       "      <th>tip</th>\n",
       "      <th>sex_Male</th>\n",
       "      <th>sex_Female</th>\n",
       "      <th>day_Thur</th>\n",
       "      <th>day_Fri</th>\n",
       "      <th>day_Sat</th>\n",
       "      <th>day_Sun</th>\n",
       "    </tr>\n",
       "  </thead>\n",
       "  <tbody>\n",
       "    <tr>\n",
       "      <th>0</th>\n",
       "      <td>16.99</td>\n",
       "      <td>1.01</td>\n",
       "      <td>0</td>\n",
       "      <td>1</td>\n",
       "      <td>0</td>\n",
       "      <td>0</td>\n",
       "      <td>0</td>\n",
       "      <td>1</td>\n",
       "    </tr>\n",
       "    <tr>\n",
       "      <th>1</th>\n",
       "      <td>10.34</td>\n",
       "      <td>1.66</td>\n",
       "      <td>1</td>\n",
       "      <td>0</td>\n",
       "      <td>0</td>\n",
       "      <td>0</td>\n",
       "      <td>0</td>\n",
       "      <td>1</td>\n",
       "    </tr>\n",
       "    <tr>\n",
       "      <th>2</th>\n",
       "      <td>21.01</td>\n",
       "      <td>3.50</td>\n",
       "      <td>1</td>\n",
       "      <td>0</td>\n",
       "      <td>0</td>\n",
       "      <td>0</td>\n",
       "      <td>0</td>\n",
       "      <td>1</td>\n",
       "    </tr>\n",
       "    <tr>\n",
       "      <th>3</th>\n",
       "      <td>23.68</td>\n",
       "      <td>3.31</td>\n",
       "      <td>1</td>\n",
       "      <td>0</td>\n",
       "      <td>0</td>\n",
       "      <td>0</td>\n",
       "      <td>0</td>\n",
       "      <td>1</td>\n",
       "    </tr>\n",
       "    <tr>\n",
       "      <th>4</th>\n",
       "      <td>24.59</td>\n",
       "      <td>3.61</td>\n",
       "      <td>0</td>\n",
       "      <td>1</td>\n",
       "      <td>0</td>\n",
       "      <td>0</td>\n",
       "      <td>0</td>\n",
       "      <td>1</td>\n",
       "    </tr>\n",
       "  </tbody>\n",
       "</table>\n",
       "</div>"
      ],
      "text/plain": [
       "   total_bill   tip  sex_Male  sex_Female  day_Thur  day_Fri  day_Sat  day_Sun\n",
       "0       16.99  1.01         0           1         0        0        0        1\n",
       "1       10.34  1.66         1           0         0        0        0        1\n",
       "2       21.01  3.50         1           0         0        0        0        1\n",
       "3       23.68  3.31         1           0         0        0        0        1\n",
       "4       24.59  3.61         0           1         0        0        0        1"
      ]
     },
     "execution_count": 145,
     "metadata": {},
     "output_type": "execute_result"
    }
   ],
   "source": [
    "df_new=pd.get_dummies(df_new)\n",
    "df_new.head()"
   ]
  },
  {
   "cell_type": "code",
   "execution_count": 147,
   "metadata": {},
   "outputs": [],
   "source": [
    "import statsmodels.stats.api as sms"
   ]
  },
  {
   "cell_type": "code",
   "execution_count": 149,
   "metadata": {},
   "outputs": [
    {
     "data": {
      "text/plain": [
       "(19.286415891605458, 22.20173697463658)"
      ]
     },
     "execution_count": 149,
     "metadata": {},
     "output_type": "execute_result"
    }
   ],
   "source": [
    "sms.DescrStatsW(df_new[\"total_bill\"],df_new[\"sex_Male\"]).tconfint_mean()"
   ]
  },
  {
   "cell_type": "code",
   "execution_count": 150,
   "metadata": {},
   "outputs": [
    {
     "data": {
      "text/plain": [
       "(16.349902505253837, 19.763890598194443)"
      ]
     },
     "execution_count": 150,
     "metadata": {},
     "output_type": "execute_result"
    }
   ],
   "source": [
    "sms.DescrStatsW(df_new[\"total_bill\"],df_new[\"sex_Female\"]).tconfint_mean()"
   ]
  },
  {
   "cell_type": "code",
   "execution_count": 153,
   "metadata": {},
   "outputs": [
    {
     "data": {
      "text/plain": [
       "(15.680029665099024, 19.685454205868712)"
      ]
     },
     "execution_count": 153,
     "metadata": {},
     "output_type": "execute_result"
    }
   ],
   "source": [
    "sms.DescrStatsW(df_new[\"total_bill\"],df_new[\"day_Thur\"]).tconfint_mean()"
   ]
  },
  {
   "cell_type": "markdown",
   "metadata": {},
   "source": [
    " OLASILIK DAĞILIMLARI :"
   ]
  },
  {
   "cell_type": "code",
   "execution_count": 8,
   "metadata": {},
   "outputs": [],
   "source": [
    "# Binom(Bernoulli Dağılımı) : \n",
    "# bir olayda sadece 2 olası sonuç varsa buna Bernoulli deneyi denir.\n",
    "# bir para atarsınız yazı veya tura gelir. sonucunda 2 tane değer dönebilir.\n",
    "# eğer ki n defa bernoulli gerçekleştirilirse buna binom dağılımı denir."
   ]
  },
  {
   "cell_type": "code",
   "execution_count": 10,
   "metadata": {},
   "outputs": [
    {
     "data": {
      "text/plain": [
       "0.2734375"
      ]
     },
     "execution_count": 10,
     "metadata": {},
     "output_type": "execute_result"
    }
   ],
   "source": [
    "# soru : Bir para 7 kez atılıyor. 3 kez yazı gelme olasılığı nedir?\n",
    "# bize burda yazı gelme olasılığını sorduğu için başarı durumuna yazı diyelim\n",
    "yazı=1/2\n",
    "tura=1/2\n",
    "# tek atışta yzı gelme olasılığı 1/2 dir.\n",
    "# tek atışta tura gelme olaslığı 1/2 dir.\n",
    "# formülü : 7 nin 3 lü kombinasyonu * yazı**3 * tura**(7-3)\n",
    "((7*6*5)/(3*2*1))*(yazı**3)*(tura**4)"
   ]
  },
  {
   "cell_type": "code",
   "execution_count": 13,
   "metadata": {},
   "outputs": [],
   "source": [
    "# python ile yapalım :\n",
    "from scipy.stats import bernoulli\n",
    "from scipy.stats import binom"
   ]
  },
  {
   "cell_type": "code",
   "execution_count": 14,
   "metadata": {},
   "outputs": [
    {
     "name": "stdout",
     "output_type": "stream",
     "text": [
      "0.27343750000000017\n"
     ]
    }
   ],
   "source": [
    "# yukarıda ki soruyu yapalım.\n",
    "p=1/2 # tek seferde yazı gelme olasılığını yazdık. \n",
    "n=7 # 7 kere parayı atacağımız için 7 yazdık. \n",
    "rv=binom(n,p) # rv değişkeni oluşturup binom fonksiyonu içine adet sayısı ve gelme olasılığını yazdık.\n",
    "print(rv.pmf(3)) # rv.pmf(3) diyerek 3 kerede kaç kez yazı gelme olasılığı olduğunu hesapladı."
   ]
  },
  {
   "cell_type": "code",
   "execution_count": 15,
   "metadata": {},
   "outputs": [],
   "source": [
    "# 10 tane hasta var. "
   ]
  },
  {
   "cell_type": "code",
   "execution_count": 16,
   "metadata": {},
   "outputs": [
    {
     "data": {
      "text/plain": [
       "0.04394531249999999"
      ]
     },
     "execution_count": 16,
     "metadata": {},
     "output_type": "execute_result"
    }
   ],
   "source": [
    "# Bunlardan 2 tanesinin iyileşme olasılığı nedir?\n",
    "p=1/2\n",
    "n=10\n",
    "rv=binom(n,p)\n",
    "hasta_iki=rv.pmf(2)\n",
    "hasta_iki"
   ]
  },
  {
   "cell_type": "code",
   "execution_count": 17,
   "metadata": {},
   "outputs": [
    {
     "data": {
      "text/plain": [
       "0.20507812500000022"
      ]
     },
     "execution_count": 17,
     "metadata": {},
     "output_type": "execute_result"
    }
   ],
   "source": [
    "# Bunlardan 6 tanesinin iyileşme olasılığı nedir?\n",
    "p=1/2\n",
    "n=10\n",
    "rv=binom(n,p)\n",
    "hasta_altı=rv.pmf(6)\n",
    "hasta_altı"
   ]
  },
  {
   "cell_type": "code",
   "execution_count": 20,
   "metadata": {},
   "outputs": [
    {
     "name": "stdout",
     "output_type": "stream",
     "text": [
      "Hiç kimsenin iyileşme olasılığı =0.0009765625\n",
      "1 tane hastanın iyileşme olasılığı=0.00976562500000001\n",
      "2 tane hastanın iyileşme olasılığı=0.04394531249999999\n",
      "en fazla 2 hastanın iyileşme olasılığı = 0.0546875\n"
     ]
    }
   ],
   "source": [
    "# en fazla 2 tanesinin iyileşme olasılığı nedir?\n",
    "p=1/2\n",
    "n=10\n",
    "rv=binom(n,p)\n",
    "hasta1=rv.pmf(0)\n",
    "hasta2=rv.pmf(1)\n",
    "hasta3=rv.pmf(2)\n",
    "print(f\"Hiç kimsenin iyileşme olasılığı ={hasta1}\")\n",
    "print(f\"1 tane hastanın iyileşme olasılığı={hasta2}\") \n",
    "print(f\"2 tane hastanın iyileşme olasılığı={hasta3}\")\n",
    "print(f\"en fazla 2 hastanın iyileşme olasılığı = {hasta1+hasta2+hasta3}\")"
   ]
  },
  {
   "cell_type": "code",
   "execution_count": 62,
   "metadata": {},
   "outputs": [
    {
     "name": "stdout",
     "output_type": "stream",
     "text": [
      "en az 3 hastanın iyileşme olasılığı = 0.9453125\n"
     ]
    }
   ],
   "source": [
    "# en az 3 kişinin iyileşme olasılığı nedir? \n",
    "# tamammının iyileşme olasılığından en fazla 2 kişinin iyileşme olasılığını çıkarırsak, en az 3 kişinin iyileşme\n",
    "# olasılığını buluruz.\n",
    "# 1 tüm olasılıkların toplamıdır. en az 3 dediği için 1 den en fazla 2 hastanın iyileşme olasılığını çıkarırsak buluruz.\n",
    "hasta_enaz = 1- hasta1-hasta2-hasta3\n",
    "print(f\"en az 3 hastanın iyileşme olasılığı = {hasta_enaz}\")"
   ]
  },
  {
   "cell_type": "markdown",
   "metadata": {},
   "source": [
    "Poisson Dağılımı :\n",
    "Gözlem sayısının çok yüksek, gerçekleşme olasılığının çok düşük olduğu olasılık durumlarıdır.\n",
    "Ör : 10 bin kelimelik bir kitapta hatalı kelime sayısı, kredi kartında yapılan çekim işlemlerinde yaşanan sahtekarlıklar, uçağın rotar sayıları, abd ye ait savaş jetinin düşmesi vb.. "
   ]
  },
  {
   "cell_type": "markdown",
   "metadata": {},
   "source": [
    " Hatalı ilan girişleri olasılıkları hesaplayalım. \n",
    " 1 yıl süresince ölçüm yapılıyor. yapılan girişlerde ortalama hata sayısı 0.1, \n",
    " hiç hata olamaması oranı\n",
    " 3 hata olması oranı\n",
    " 5 hata olması oranı"
   ]
  },
  {
   "cell_type": "code",
   "execution_count": 4,
   "metadata": {},
   "outputs": [
    {
     "data": {
      "text/plain": [
       "0.905113559096793"
      ]
     },
     "execution_count": 4,
     "metadata": {},
     "output_type": "execute_result"
    }
   ],
   "source": [
    "lambda_ort=0.1 # ortalama hata sayısı\n",
    "e=2.71 # euler sabittir. 2.71 değerindedir.\n",
    "hata_sayısı= 0 # hiç hata yapmassak.\n",
    "\n",
    "((0.1**0) * (2.71**-0.1))/factorial(0)\n",
    "# formülü : ((ortalama** hata sayısı) * (euler** negatif değerde hata oranı)) / istenilen hata sayısının faktöriyeli"
   ]
  },
  {
   "cell_type": "code",
   "execution_count": 41,
   "metadata": {},
   "outputs": [
    {
     "data": {
      "text/plain": [
       "0.00015085225984946552"
      ]
     },
     "execution_count": 41,
     "metadata": {},
     "output_type": "execute_result"
    }
   ],
   "source": [
    "lambda_ort=0.1\n",
    "e=2.71\n",
    "hata_sayısı=3\n",
    "((0.1**3) *(2.71**-0.1))/factorial(3)"
   ]
  },
  {
   "cell_type": "code",
   "execution_count": 46,
   "metadata": {},
   "outputs": [
    {
     "data": {
      "text/plain": [
       "7.542612992473277e-08"
      ]
     },
     "execution_count": 46,
     "metadata": {},
     "output_type": "execute_result"
    }
   ],
   "source": [
    "lambda_ort=0.1\n",
    "hata_sayısı=5\n",
    "e=2.71\n",
    "((0.1**5)*(2.71**-0.1))/factorial(5)"
   ]
  },
  {
   "cell_type": "code",
   "execution_count": 6,
   "metadata": {},
   "outputs": [],
   "source": [
    "from scipy.stats import poisson"
   ]
  },
  {
   "cell_type": "code",
   "execution_count": 48,
   "metadata": {},
   "outputs": [
    {
     "name": "stdout",
     "output_type": "stream",
     "text": [
      "0.9048374180359595\n"
     ]
    }
   ],
   "source": [
    "rv= poisson(mu=lambda_ort) # hata oranını yazdık. mu = 0.1\n",
    "print(rv.pmf(k=0)) # k= istenilen hata sayısı"
   ]
  },
  {
   "cell_type": "code",
   "execution_count": 49,
   "metadata": {},
   "outputs": [
    {
     "name": "stdout",
     "output_type": "stream",
     "text": [
      "0.00015080623633932676\n"
     ]
    }
   ],
   "source": [
    "rv=poisson(mu=lambda_ort)\n",
    "print(rv.pmf(k=3))"
   ]
  },
  {
   "cell_type": "code",
   "execution_count": 9,
   "metadata": {},
   "outputs": [
    {
     "name": "stdout",
     "output_type": "stream",
     "text": [
      "7.54031181696634e-08\n"
     ]
    }
   ],
   "source": [
    "rv=poisson(mu=lambda_ort)\n",
    "print(rv.pmf(k=5))"
   ]
  },
  {
   "cell_type": "code",
   "execution_count": 51,
   "metadata": {},
   "outputs": [],
   "source": [
    "# Örnek : Bir kavşakta 4 aylık sürede yaşanan kaza ortalaması 6 dır.\n",
    "# a) 4 ayda 7 kez kaza olma olasılığı\n",
    "# b) 6 ayda 5 kaza olma olasılığı\n",
    "# c) 1 yılda 2 den fazla kaza olma olasılığı\n",
    "# d) 8 ayda en çok 2 kaza olma olasılığı"
   ]
  },
  {
   "cell_type": "code",
   "execution_count": 52,
   "metadata": {},
   "outputs": [
    {
     "name": "stdout",
     "output_type": "stream",
     "text": [
      "0.1376769780411257\n"
     ]
    }
   ],
   "source": [
    "# a)\n",
    "rv=poisson(mu=6)\n",
    "print(rv.pmf(k=7))"
   ]
  },
  {
   "cell_type": "code",
   "execution_count": 59,
   "metadata": {},
   "outputs": [
    {
     "name": "stdout",
     "output_type": "stream",
     "text": [
      "0.06072687934595293\n"
     ]
    }
   ],
   "source": [
    "# b) \n",
    "# 4 ay için lambda değeri 6 dır. ama soruda bize 6 ay içinde diyor.\n",
    "# 4 ayda 6 kere oluyorsa 6 ay da kaç kez olur doğru orantı\n",
    "lambda_ort=int((6*6)/4)\n",
    "rv=poisson(mu=lambda_ort)\n",
    "print(rv.pmf(k=5))"
   ]
  },
  {
   "cell_type": "code",
   "execution_count": 63,
   "metadata": {},
   "outputs": [
    {
     "name": "stdout",
     "output_type": "stream",
     "text": [
      "0.9999972433736662\n"
     ]
    }
   ],
   "source": [
    "# c)\n",
    "# 4 ayda kaza ortalaması 6 ise 12 ayda kaçtır doğru orantı\n",
    "lambda_ort=int((12*6)/4)\n",
    "# 2 den fazla kaza dediği için tüm 2 den büyük değerler için ayrı ayrı hesap yapamayız. tüm olasılık her zaman 1 dir.\n",
    "# 1 den en fazla 2 kaza yapma olasılığını çıkarırsak buluruz.\n",
    "rv1=poisson(mu=lambda_ort)\n",
    "rv1=rv1.pmf(k=0)\n",
    "rv2=poisson(mu= lambda_ort)\n",
    "rv2=rv2.pmf(k=1)\n",
    "rv3=poisson(mu= lambda_ort)\n",
    "rv3=rv3.pmf(k=2)\n",
    "print(1-(rv1+rv2+rv3))"
   ]
  },
  {
   "cell_type": "markdown",
   "metadata": {},
   "source": [
    " NORMAL DAĞILIM : "
   ]
  },
  {
   "cell_type": "code",
   "execution_count": null,
   "metadata": {},
   "outputs": [],
   "source": [
    "# En önemli olasılık dağılımı normal dağılımdır. Normal dağıldığı bilinen sürekli rassal değişkenler \n",
    "# için olasılık hesabında kullanılır. Sürekli olan bir olay üzerinden yapacağımız bir olasılık hesabıdır.\n",
    "# Normal ortalama ile stnadart sapmayı topladığımız zaman olasılığın normal dağılımda rassal bir \n",
    "# şeklide artacağını hesap ederiz."
   ]
  },
  {
   "cell_type": "code",
   "execution_count": null,
   "metadata": {},
   "outputs": [],
   "source": [
    "# Ör : Bir toplantı öncesinde gelecek ay ile ilgili satışların belirli değerlerde gerçekleşmesi olasılığı belirlenmek istenir.\n",
    "# Aylık ortalama satışımız 80 tl. standart sapmamız 2.5 tl diyelim. \n",
    "# satışlarımız her ay düzenli olarak artmaktadır.\n",
    "# Aylık 90 tl den fazla satış yapma olasılığımız nedir? \n",
    "# Burda satışlarımız düzenli olarak artmaktadır cümlesi bunun bir normal dağılım olduğunu gösterir.\n",
    "# O zaman 80+2.5=82.5 tl. yani bu değer bizim standart sapmayı eklediğimizde ortalama elde edeceğimiz değere yakın olur.\n",
    "# 90 tl üzerinde satış yapma olasılığımız düşer. 80-82.5 arası yapma olasılığımız yüksektir."
   ]
  },
  {
   "cell_type": "code",
   "execution_count": null,
   "metadata": {},
   "outputs": [],
   "source": [
    "# Fomulu : (1/(standart_sapma * (2* 3.14**0.5)) * ((2.71**(0.5*((istenen_değer-ortalama)/standart_sapma)"
   ]
  },
  {
   "cell_type": "code",
   "execution_count": 12,
   "metadata": {},
   "outputs": [],
   "source": [
    "from scipy.stats import norm"
   ]
  },
  {
   "cell_type": "code",
   "execution_count": 5,
   "metadata": {},
   "outputs": [
    {
     "data": {
      "text/plain": [
       "3.167124183311998e-05"
      ]
     },
     "execution_count": 5,
     "metadata": {},
     "output_type": "execute_result"
    }
   ],
   "source": [
    "# 90 dan fazla olma olasılığı \n",
    "1-norm.cdf(90,80,2.5)"
   ]
  },
  {
   "cell_type": "code",
   "execution_count": 6,
   "metadata": {},
   "outputs": [
    {
     "data": {
      "text/plain": [
       "0.9999683287581669"
      ]
     },
     "execution_count": 6,
     "metadata": {},
     "output_type": "execute_result"
    }
   ],
   "source": [
    "# 70 den fazla olma olasılığı\n",
    "1-norm.cdf(70,80,2.5)"
   ]
  },
  {
   "cell_type": "code",
   "execution_count": 7,
   "metadata": {},
   "outputs": [
    {
     "data": {
      "text/plain": [
       "0.0006871379379158471"
      ]
     },
     "execution_count": 7,
     "metadata": {},
     "output_type": "execute_result"
    }
   ],
   "source": [
    "# 73 den az olması\n",
    "norm.cdf(72,80,2.5)"
   ]
  },
  {
   "cell_type": "code",
   "execution_count": 8,
   "metadata": {},
   "outputs": [
    {
     "data": {
      "text/plain": [
       "0.02271846070634609"
      ]
     },
     "execution_count": 8,
     "metadata": {},
     "output_type": "execute_result"
    }
   ],
   "source": [
    "# 85 ile 90 arasında olması : \n",
    "norm.cdf(90,80,2.5)-norm.cdf(85,80,2.5)"
   ]
  },
  {
   "cell_type": "code",
   "execution_count": null,
   "metadata": {},
   "outputs": [],
   "source": [
    "# Hipotez Testi : bir inanışı bir veriyi test etmek için kullanılan istatiksel bir terimdir."
   ]
  },
  {
   "cell_type": "markdown",
   "metadata": {},
   "source": [
    "Hipotez Türleri : Hipotezler 2 ye ayrılır. 0 Hipotezi ve Karşıt hipotez olarak ikiye ayrılır.Hipotez testi yapılırken bir veri ile ilgili istenilen iddiaya bakılır. Ör 5 ten küçükse diye bir iddia varsa o zaman 5 ten küçük değerler karşıt hipotezdir.\n",
    "5 e eşit değerler ise Sıfır Hipotezidir. Ör 5 ten büyükse diye bir iddia varsa 5 ten büyükler karşıt hipotezdir.  eeşit değerler Sıfır hipotezidir.\n",
    "Örneklem ile hipotez testi oluşturulmaz."
   ]
  },
  {
   "cell_type": "markdown",
   "metadata": {},
   "source": [
    "H0 veya H1 değerlendirme yapılırken pvalue değerine bakılır. yani pvaleu değeri < 0.05 ise H0 hipotezi reddedilir.\n",
    "pvaleu =0.05 | pvalue>0.05 ise H0 hipotezini kabul ediyoruz. "
   ]
  },
  {
   "cell_type": "markdown",
   "metadata": {},
   "source": [
    "Örneğin bir hastalıktan iyileşme süresi süresi ortalama 10 günden az diyelim.\n",
    "H0 hipotezi ortalama 10 gün\n",
    "H1 testi ortalama 10 günden az denir. Tek taraflı hipotez denir. Çünkü sadece az değer var.\n",
    "\n",
    "Örneğin belli bir diş dolgusunun kullanım süresinin 5 yıldan farklı olduğu biliniyorsa \n",
    "H0 Mu=M\n",
    "H1 Mu!=M\n",
    "Çift taraflı hipotez testi olur.\n",
    "\n",
    "Ama 5 yıldan fazla olduğu biliniyorsa Mu>M olur"
   ]
  },
  {
   "cell_type": "markdown",
   "metadata": {},
   "source": [
    "Bir hipotez testi yaptığımızda elde ettiğimiz değeri yorumlamak için karşılaştıracağımız sayıya p-value değeri denir. Bu sayı değeri 0.05 değeridir. eğer değer p-valueden küçükse H0 testini reddedeceğiz. a=0.05 değeridir. \n",
    "\n",
    "Hipotez testi sonucunda elde ettiğimiz değer oranı a değerinden yani 0.05 ten küçük olan değerlere Kritik bölge denir.\n",
    "Hipotez testi sonucunda elde ettiğimiz değer oranı a değerinden yani 0.05 ten büyük olan değerlere Kritik bölge denir.\n",
    "Hipotez testi sonucunda elde ettiğimiz değer oranı a değerinden yani 0.05 ten küçük olan ve büyük değerlere Kritik bölge denir.\n",
    "Bölgeler ve değerler arasındaki değere kritik değer denir."
   ]
  },
  {
   "cell_type": "markdown",
   "metadata": {},
   "source": [
    "HİPOTEZ TESTİ ADIMLARI : \n",
    "hipotezlerin kurulması ve yönlerinin belirlenmesi,\n",
    "Anlamlılık düzeyinin ve tablo değerinin belirlenmesi,\n",
    "Test istatistiğinin belirlenmesi ve test istatistiğinin hesaplanması\n",
    "Hesaplanan test istatistiği ile alfaya karşılk gelen tablo değerinin hesaplanması."
   ]
  },
  {
   "cell_type": "markdown",
   "metadata": {},
   "source": [
    "TEK ÖRNEKLEM T TESTİ : Populasyon ortalaması ile varsayımsal bir değer arasında istaiksel bir anlam olup olmadığını kontrol eder.\n",
    "tablodan tek bir örneklem çekerek yaptığımız istaiksel testlerdir. İstatistik testleri t ve z testleri olarak 2 ye ayrılır.\n",
    "\n",
    "Ana verinin standart sapması biliniyorsa z istatistiği kullanılır.\n",
    "Ana verinin standart sapması bilinmiyor ve istenilen değer n>30 ise z n<30 ise t kullanılır.\n",
    "öR yukarıda yaptığımız gibi bir ilçede ki yaş ortalamalarını hesaplama tek değişkenli tek örneklem t testi."
   ]
  },
  {
   "cell_type": "code",
   "execution_count": 15,
   "metadata": {},
   "outputs": [
    {
     "data": {
      "text/plain": [
       "-5.291502622129181"
      ]
     },
     "execution_count": 15,
     "metadata": {},
     "output_type": "execute_result"
    }
   ],
   "source": [
    "# Populasyon varyansı biliniyorken ortalama için hipotez testi : \n",
    "# ör : Bir ilaöla tedavi edilen hastaların ortalama iyileşme süresi 10 günden az olduğu iddia edilmektedir. Rastgele seçilen 7 \n",
    "# hastada ilaçla tedavi edilmiş ve hastalar sırasıyla :  2,4,11,3,5,6,8 günde iyileşmişlerdir. anaverinin std=4 alfa değeri=0.01\n",
    "# bu iddiayı doğrulayalım \n",
    "# ilk önce testi kuralım.\n",
    "# H0 : mu=10\n",
    "# H1 : mu<10 tek taraflı bir hipotez testidir.\n",
    "# z_kritik hesaplayalım :\n",
    "# alfa değeri 0.01 verilmiş. 1-0.0.01= 0.99 bulunur. Z tablosunda 0.99 un değeri -2.3 tür. \n",
    "z_kritik=-2.3\n",
    "# z_testi hesaplayalım : \n",
    "# Örneklem ort bulalım. \n",
    "(1+4+11+3+5+10+8)/7\n",
    "# iyileşme süresi=M\n",
    "# var = std nin karekökü \n",
    "# örneklem sayısı = n\n",
    "# (ort - M) / (var/(n**0.5))\n",
    "z_test=(6-10)/(2/(7**0.5)) = -5.291502622129181\n",
    "z_test<z_kritik \n",
    "# olduğu için H0 yok geçersiz sayılır ve iyileşme süresi % 99 olasılıkla 10 günden azdır denilir."
   ]
  },
  {
   "cell_type": "markdown",
   "metadata": {},
   "source": [
    "ÖNEMLİ :  Anakütle standart sapması biliniyorsa z istatistiği kullanılır, anakütle standart sapması bilinmiyor ve n>30 ise yine z istatistiği kullanılır, anakütle standart sapması bilinmiyor ve n<30 ise t istatistiği kullanılır."
   ]
  },
  {
   "cell_type": "markdown",
   "metadata": {},
   "source": [
    "İş Uygulaması Satış Optimizasyonu : \n",
    ".Problem : Sepete ürün eklem işlemi sonrasında ödeme ekranında 5 adım var. \n",
    ".Detaylar : her adımın 20 sn olması hedefi var. 4. adım sorgulanıyor. Bu durumu test etmek için 100 örnek alınıyor.Örnek standart sapması 5 sn , örnek ortalaması 19 sn dir. alfa değerimiz = 0.05 tir. \n",
    "Burda test yapmamızın nedeni acaba her 100 kişide ortalama 19 sn geçiriyor mu yoksa sadece bu 100 örnekleme has bir durum mu. \n",
    "\n",
    "1. Adım hipotezlerin kurulması ve yönlerinin belirlenmesi : \n",
    "H0 : mu=20\n",
    "H1 : mu!=20\n",
    "yani H0, bilinmeyen anakütle parametresinin yani kişilerin 4. adımda geçirdikleri süre ortalaması 20 sn eşit demektir.\n",
    "H1, bilinmeyen anakütle parametresinin yani kişilerin 4. adımda geçirdikleri süre ortalaması 20 sn eşit değil demektir.\n",
    "\n",
    "2. Adım Z tablo değerinin belirlenmesi : \n",
    "std değerini 5 verdiği için z tablo değeri kullanılır.\n",
    "0.05/2=0.025 deriz. Çünkü bize 20 sn hedefi konmuş yani 20 sn den az veya fazla deseydi sadece 0.05 i alırdık. \n",
    "Sonra Z tablo olasılık değeri için  tüm olasılık değeri 1 dir. ya 20 sn olur ya olmaz 1/2=0.5 0.5-0.025 = 0.475 dir.\n",
    "0.475 in z Tablosunda ki değer karşılığı -1.96 dır. z tablo kritik değerdir.\n",
    "\n",
    "3. adım z_istatistik değerinin hesaplanması : \n",
    "(örnek ortalaması-istenen ortalama)/(standart sapma /(kişi sayısı**0.5))\n",
    "\n",
    "(19-20)/(5/(100**0.05)) = -2.0\n",
    "\n",
    "z_istatistik = -2\n",
    "z_kritik= -1.96\n",
    "-2<-1.96 olduğu için HO reddedilir.\n",
    "-1.96 dan küçük veya +1.96 dan büyük olduğunda H0 reddedilir.\n",
    "yani %95 güvenilirlik 20 sn den farklı bir zaman geçirirler.\n",
    "eğer eşit olsaydı H0 kabul edilirdi."
   ]
  },
  {
   "cell_type": "code",
   "execution_count": 8,
   "metadata": {},
   "outputs": [],
   "source": [
    "import numpy as np\n",
    "import pandas as pd"
   ]
  },
  {
   "cell_type": "markdown",
   "metadata": {},
   "source": [
    "1- TEK ÖRNEKLEM T TESTİ : Tek örneklem üzerinden test yaparak bilmediğimiz ana veri üzerinden test yapacağız."
   ]
  },
  {
   "cell_type": "code",
   "execution_count": 14,
   "metadata": {},
   "outputs": [],
   "source": [
    "# Ör : Bir web sitemiz var. acaba bu web sitemizde geçirilen süre 170 saniye mi? Elimizde kullanıcıların girdikleri süreler \n",
    "# olsun.\n",
    "sureler_toplam=np.random.randint(20,240,size=100000)\n",
    "# normalde hipotez testlerinde ana veri bilinmez.\n",
    "# 100 kişinin sitede geçirdikleri süreleri rastgele yaptık. anaverimizden 100 kişilik bir örneklem çektik. diyelim."
   ]
  },
  {
   "cell_type": "code",
   "execution_count": 16,
   "metadata": {},
   "outputs": [],
   "source": [
    "np.random.seed(115)\n",
    "sureler_ornek=np.random.randint(20,240,size=100)"
   ]
  },
  {
   "cell_type": "code",
   "execution_count": 17,
   "metadata": {},
   "outputs": [
    {
     "data": {
      "text/plain": [
       "129.83476"
      ]
     },
     "execution_count": 17,
     "metadata": {},
     "output_type": "execute_result"
    }
   ],
   "source": [
    "sureler_toplam.mean()\n",
    "# bütün giren kişilerin ortalaması 130 sn civarı."
   ]
  },
  {
   "cell_type": "code",
   "execution_count": 18,
   "metadata": {},
   "outputs": [
    {
     "data": {
      "text/plain": [
       "127.26"
      ]
     },
     "execution_count": 18,
     "metadata": {},
     "output_type": "execute_result"
    }
   ],
   "source": [
    "sureler_ornek.mean() # örneklem ortalaması 127 sn civarı. bize 170 sn soruluyor."
   ]
  },
  {
   "cell_type": "code",
   "execution_count": null,
   "metadata": {},
   "outputs": [],
   "source": [
    "# tek örneklem hipotez testi : \n",
    "# Burdaki hipotez testimiz shapiro-wilks testidir. Hipotez testi yapacağız. "
   ]
  },
  {
   "cell_type": "code",
   "execution_count": 11,
   "metadata": {},
   "outputs": [],
   "source": [
    "from scipy.stats import shapiro"
   ]
  },
  {
   "cell_type": "code",
   "execution_count": 19,
   "metadata": {},
   "outputs": [
    {
     "data": {
      "text/plain": [
       "ShapiroResult(statistic=0.9753634929656982, pvalue=0.057610511779785156)"
      ]
     },
     "execution_count": 19,
     "metadata": {},
     "output_type": "execute_result"
    }
   ],
   "source": [
    "shapiro(sureler_ornek)"
   ]
  },
  {
   "cell_type": "code",
   "execution_count": null,
   "metadata": {},
   "outputs": [],
   "source": [
    "# bize pvalue olarak 0.006 gibi bir değer getirdi. eğer ki pvalue<0.05 olursa burda H0 hipotez testine bakılmaz.\n",
    "# H0 testi örneklem dağılım ile anaveri ile arasında bir fark olamdığını savunur.\n",
    "# H1 tam tersini savunur. burda 0.0.057610511779785156 >0.05 olduğu için H0 testi anlamlı sayılacaktır.\n",
    "# burda 100 kişi örneklem dağılım ile ana veri arasında anlamlı bir farklılık yoktur.\n",
    "# H0 sağlandığı zaman normal dağılım , tek örneklem T testi yapılabilir.\n",
    "#statistik_deger =0.9753634929656982\n",
    "#  pvalue=0.057610511779785156"
   ]
  },
  {
   "cell_type": "code",
   "execution_count": 22,
   "metadata": {},
   "outputs": [],
   "source": [
    "# tek örneklem T testi uygulaması : 0.0.057610511779785156 >0.05 olduğu için bu testi yapabiliriz.\n",
    "import scipy.stats as sts\n",
    "# tek test T hipotez testi yapmak için scipy.stats kütüphanesini import ettik. "
   ]
  },
  {
   "cell_type": "code",
   "execution_count": 23,
   "metadata": {},
   "outputs": [
    {
     "data": {
      "text/plain": [
       "Ttest_1sampResult(statistic=-7.527317584197631, pvalue=2.434247029003158e-11)"
      ]
     },
     "execution_count": 23,
     "metadata": {},
     "output_type": "execute_result"
    }
   ],
   "source": [
    "sts.ttest_1samp(sureler_ornek, popmean=170)\n",
    "# sonrasında t test yapacağımız için ttest dedik. tek örneklem olduğu için ttest_1samp dedik. \n",
    "# burda ki pvalue değeri 2.434247029003158e-11 dir. buda 0.05 ten küçük olduğu için ana verinin ortalamasını 170 sn olmadığını\n",
    "# bize ispat etmiştir. yani H0 testi olan anaveri 170 sn dir tezimiz geçersiz olmuştur. o zaman geçersiz olduğu için \n",
    "# nanparametrik hipotez testi de yapmamız gerekir."
   ]
  },
  {
   "cell_type": "code",
   "execution_count": 28,
   "metadata": {},
   "outputs": [],
   "source": [
    "# Nonparametrik tek örneklem hipotez testi : \n",
    "from statsmodels.stats.descriptivestats import sign_test\n",
    "# statsmodel kütüphanesi içinden sign_test i getireceğiz. Nano test."
   ]
  },
  {
   "cell_type": "code",
   "execution_count": 29,
   "metadata": {},
   "outputs": [
    {
     "data": {
      "text/plain": [
       "(-25.5, 2.766572474528543e-07)"
      ]
     },
     "execution_count": 29,
     "metadata": {},
     "output_type": "execute_result"
    }
   ],
   "source": [
    "sign_test(sureler_ornek, 170)\n",
    "# test istatistiği = -25.5\n",
    "# pvalue = 2.766572474528543e-07\n",
    "# burdada pvalue<0.05 olduğu için 170 saniye yani H0 testi geçersiz olduğu sağlamasını yaptık."
   ]
  },
  {
   "cell_type": "code",
   "execution_count": null,
   "metadata": {},
   "outputs": [],
   "source": [
    "# Tek örneklem Oran Testi : oransal bir test yapmak istenirse kullanılır."
   ]
  },
  {
   "cell_type": "code",
   "execution_count": null,
   "metadata": {},
   "outputs": [],
   "source": [
    "# Dönüşüm oranı : bir reklamı 100 kişi görüp 1 kişi tıkladıysa dönüşüm oranı 0.01 dir."
   ]
  },
  {
   "cell_type": "markdown",
   "metadata": {},
   "source": [
    "Örnek : Bir sitede reklam verilmiş olsun. 0.125 gibi bir dönüşüm oranı elde edilsin. Gelirler ile oran arasında büyük bir tutarsızlık var, yani örtüşmüyorlar.500 kişi reklama tıklıyor. 40 kişi alışveriş yapıyor. \n",
    "\n",
    "H0 mu=0.125\n",
    "H1 mu != 0.125"
   ]
  },
  {
   "cell_type": "code",
   "execution_count": 32,
   "metadata": {},
   "outputs": [],
   "source": [
    "from statsmodels.stats.proportion import proportions_ztest\n",
    "# oransal testini yapacağız."
   ]
  },
  {
   "cell_type": "code",
   "execution_count": 33,
   "metadata": {},
   "outputs": [
    {
     "data": {
      "text/plain": [
       "(-3.7090151628513017, 0.0002080669689845979)"
      ]
     },
     "execution_count": 33,
     "metadata": {},
     "output_type": "execute_result"
    }
   ],
   "source": [
    "count=40\n",
    "n=500\n",
    "mu=0.125\n",
    "proportions_ztest(count,n,mu)\n",
    "# pvalue değerimiz 0.05 ten küçük olduğumuz için dönüşüm oranımız 0.125 olmadığı bilgisine eriştik."
   ]
  },
  {
   "cell_type": "code",
   "execution_count": 34,
   "metadata": {},
   "outputs": [
    {
     "data": {
      "text/plain": [
       "0.08"
      ]
     },
     "execution_count": 34,
     "metadata": {},
     "output_type": "execute_result"
    }
   ],
   "source": [
    "40/500 # dönüşüm oranımız 0.08 dir."
   ]
  },
  {
   "cell_type": "markdown",
   "metadata": {},
   "source": [
    "2-) Bağımsız İki Örneklem Testi : 2 tane örneklem ortalamaları arasında ki farkı test ederek bilmediğimiz ana veri hakkında çıkarımda bulunacağız.\n",
    "\n",
    "H0: mu1=mu2 , H0: mu1<=mu2, H0:mu1>=mu2\n",
    "H1 : mu1!=mu2 , H1: mu1<mu2, H1: mu1< mu2\n",
    "\n",
    "ilk adım Normallik testi yapacağız. yani yukarıdaki gibi shapiro testi.\n",
    "2. adım varyans homjenliği testi yapılacak. Grupların varyansları birbirine benzer mi değil mi.\n",
    "3. Hipotez testi yapılacak."
   ]
  },
  {
   "cell_type": "markdown",
   "metadata": {},
   "source": [
    "Örnek: Bir test yapılıyor ve bu tahmin testi sonucunda gelir ile eski sistemin ürettiği gelir arasında herhangi bir fark var mı ona göre test yapılacak.\n",
    "\n",
    "H0 : mu1=mu2 ise yani eski sistem gelir ortalaması yeni sistem tarafından üretilen gelir ort. eşitse\n",
    "H1 : mu!= mu2 ise yani tam tersi ise.\n",
    "\n",
    "kafamıza göre 2 tane gelir tablosu oluşturalım ve sonra bakalım.\n",
    "\n",
    "H0 verilen eğitim satış oranlarını arttırmassa H0\n",
    "eğer verilen eğitim sonrasında satış oranları artarsa H1"
   ]
  },
  {
   "cell_type": "code",
   "execution_count": 81,
   "metadata": {},
   "outputs": [],
   "source": [
    "# VERİ TABLOSU OLUŞTURMAK İÇİN 1.YOL\n",
    "gelir_eski=pd.DataFrame(np.random.randint(30,80,size=30))\n",
    "gelir_yeni=pd.DataFrame(np.random.randint(30,80,size=30))\n",
    "gelir_concat=pd.concat([gelir_eski,gelir_yeni],axis=1) # tek boyutlu 2 pandas birleştirilirken axis=1 dersek sutuna göre yapar.\n",
    "gelir_concat.columns=[\"gelir_eski\",\"gelir_yeni\"]"
   ]
  },
  {
   "cell_type": "code",
   "execution_count": 82,
   "metadata": {},
   "outputs": [
    {
     "data": {
      "text/html": [
       "<div>\n",
       "<style scoped>\n",
       "    .dataframe tbody tr th:only-of-type {\n",
       "        vertical-align: middle;\n",
       "    }\n",
       "\n",
       "    .dataframe tbody tr th {\n",
       "        vertical-align: top;\n",
       "    }\n",
       "\n",
       "    .dataframe thead th {\n",
       "        text-align: right;\n",
       "    }\n",
       "</style>\n",
       "<table border=\"1\" class=\"dataframe\">\n",
       "  <thead>\n",
       "    <tr style=\"text-align: right;\">\n",
       "      <th></th>\n",
       "      <th>gelir_eski</th>\n",
       "      <th>gelir_yeni</th>\n",
       "    </tr>\n",
       "  </thead>\n",
       "  <tbody>\n",
       "    <tr>\n",
       "      <th>0</th>\n",
       "      <td>79</td>\n",
       "      <td>76</td>\n",
       "    </tr>\n",
       "    <tr>\n",
       "      <th>1</th>\n",
       "      <td>34</td>\n",
       "      <td>55</td>\n",
       "    </tr>\n",
       "    <tr>\n",
       "      <th>2</th>\n",
       "      <td>79</td>\n",
       "      <td>61</td>\n",
       "    </tr>\n",
       "    <tr>\n",
       "      <th>3</th>\n",
       "      <td>58</td>\n",
       "      <td>37</td>\n",
       "    </tr>\n",
       "    <tr>\n",
       "      <th>4</th>\n",
       "      <td>53</td>\n",
       "      <td>54</td>\n",
       "    </tr>\n",
       "  </tbody>\n",
       "</table>\n",
       "</div>"
      ],
      "text/plain": [
       "   gelir_eski  gelir_yeni\n",
       "0          79          76\n",
       "1          34          55\n",
       "2          79          61\n",
       "3          58          37\n",
       "4          53          54"
      ]
     },
     "execution_count": 82,
     "metadata": {},
     "output_type": "execute_result"
    }
   ],
   "source": [
    "gelir_concat.head()"
   ]
  },
  {
   "cell_type": "code",
   "execution_count": 73,
   "metadata": {},
   "outputs": [],
   "source": [
    "# VERİ TABLOSU OLUŞTURMAK İÇİN 2.YOL : \n",
    "# Eğer elimize veri tablosu hazır bir şekilde gelmesse csv veya txt şeklinde ise bu yolla hazır hale getiririz.\n",
    "group_eski=np.arange(len(gelir_eski))\n",
    "group_eski=pd.DataFrame(group_eski)\n",
    "group_eski[:]=\"grup_eski\"\n",
    "gelir_eski_new=pd.concat([group_eski,gelir_eski],axis=1)\n",
    "\n",
    "group_yeni=np.arange(len(gelir_yeni))\n",
    "group_yeni=pd.DataFrame(group_yeni)\n",
    "group_yeni[:]=\"grup_yeni\"\n",
    "gelir_yeni_new=pd.concat([group_yeni,gelir_yeni],axis=1)\n",
    "\n",
    "gelir_concat_new=pd.concat([gelir_eski_new,gelir_yeni_new])\n",
    "gelir_concat_new.columns=[\"grup\",\"gelir\"]"
   ]
  },
  {
   "cell_type": "code",
   "execution_count": 74,
   "metadata": {},
   "outputs": [
    {
     "data": {
      "text/html": [
       "<div>\n",
       "<style scoped>\n",
       "    .dataframe tbody tr th:only-of-type {\n",
       "        vertical-align: middle;\n",
       "    }\n",
       "\n",
       "    .dataframe tbody tr th {\n",
       "        vertical-align: top;\n",
       "    }\n",
       "\n",
       "    .dataframe thead th {\n",
       "        text-align: right;\n",
       "    }\n",
       "</style>\n",
       "<table border=\"1\" class=\"dataframe\">\n",
       "  <thead>\n",
       "    <tr style=\"text-align: right;\">\n",
       "      <th></th>\n",
       "      <th>grup</th>\n",
       "      <th>gelir</th>\n",
       "    </tr>\n",
       "  </thead>\n",
       "  <tbody>\n",
       "    <tr>\n",
       "      <th>25</th>\n",
       "      <td>grup_yeni</td>\n",
       "      <td>46</td>\n",
       "    </tr>\n",
       "    <tr>\n",
       "      <th>26</th>\n",
       "      <td>grup_yeni</td>\n",
       "      <td>45</td>\n",
       "    </tr>\n",
       "    <tr>\n",
       "      <th>27</th>\n",
       "      <td>grup_yeni</td>\n",
       "      <td>42</td>\n",
       "    </tr>\n",
       "    <tr>\n",
       "      <th>28</th>\n",
       "      <td>grup_yeni</td>\n",
       "      <td>35</td>\n",
       "    </tr>\n",
       "    <tr>\n",
       "      <th>29</th>\n",
       "      <td>grup_yeni</td>\n",
       "      <td>44</td>\n",
       "    </tr>\n",
       "  </tbody>\n",
       "</table>\n",
       "</div>"
      ],
      "text/plain": [
       "         grup  gelir\n",
       "25  grup_yeni     46\n",
       "26  grup_yeni     45\n",
       "27  grup_yeni     42\n",
       "28  grup_yeni     35\n",
       "29  grup_yeni     44"
      ]
     },
     "execution_count": 74,
     "metadata": {},
     "output_type": "execute_result"
    }
   ],
   "source": [
    "gelir_concat_new.tail()"
   ]
  },
  {
   "cell_type": "code",
   "execution_count": 75,
   "metadata": {},
   "outputs": [
    {
     "data": {
      "text/html": [
       "<div>\n",
       "<style scoped>\n",
       "    .dataframe tbody tr th:only-of-type {\n",
       "        vertical-align: middle;\n",
       "    }\n",
       "\n",
       "    .dataframe tbody tr th {\n",
       "        vertical-align: top;\n",
       "    }\n",
       "\n",
       "    .dataframe thead th {\n",
       "        text-align: right;\n",
       "    }\n",
       "</style>\n",
       "<table border=\"1\" class=\"dataframe\">\n",
       "  <thead>\n",
       "    <tr style=\"text-align: right;\">\n",
       "      <th></th>\n",
       "      <th>grup</th>\n",
       "      <th>gelir</th>\n",
       "    </tr>\n",
       "  </thead>\n",
       "  <tbody>\n",
       "    <tr>\n",
       "      <th>0</th>\n",
       "      <td>grup_eski</td>\n",
       "      <td>65</td>\n",
       "    </tr>\n",
       "    <tr>\n",
       "      <th>1</th>\n",
       "      <td>grup_eski</td>\n",
       "      <td>77</td>\n",
       "    </tr>\n",
       "    <tr>\n",
       "      <th>2</th>\n",
       "      <td>grup_eski</td>\n",
       "      <td>78</td>\n",
       "    </tr>\n",
       "    <tr>\n",
       "      <th>3</th>\n",
       "      <td>grup_eski</td>\n",
       "      <td>39</td>\n",
       "    </tr>\n",
       "    <tr>\n",
       "      <th>4</th>\n",
       "      <td>grup_eski</td>\n",
       "      <td>60</td>\n",
       "    </tr>\n",
       "  </tbody>\n",
       "</table>\n",
       "</div>"
      ],
      "text/plain": [
       "        grup  gelir\n",
       "0  grup_eski     65\n",
       "1  grup_eski     77\n",
       "2  grup_eski     78\n",
       "3  grup_eski     39\n",
       "4  grup_eski     60"
      ]
     },
     "execution_count": 75,
     "metadata": {},
     "output_type": "execute_result"
    }
   ],
   "source": [
    "gelir_concat_new.head()"
   ]
  },
  {
   "cell_type": "code",
   "execution_count": 53,
   "metadata": {},
   "outputs": [],
   "source": [
    "import seaborn as sns\n",
    "# grafiksel olarak eski gelirleri ve yeni gelirleri görmek istersek."
   ]
  },
  {
   "cell_type": "code",
   "execution_count": 77,
   "metadata": {},
   "outputs": [
    {
     "data": {
      "image/png": "[encoded data removed]",
      "text/plain": [
       "<Figure size 432x288 with 1 Axes>"
      ]
     },
     "metadata": {
      "needs_background": "light"
     },
     "output_type": "display_data"
    }
   ],
   "source": [
    "sns.boxplot(x=\"grup\",y=\"gelir\",data=gelir_concat_new);"
   ]
  },
  {
   "cell_type": "code",
   "execution_count": 78,
   "metadata": {},
   "outputs": [
    {
     "data": {
      "image/png": "[encoded data removed]",
      "text/plain": [
       "<Figure size 432x288 with 1 Axes>"
      ]
     },
     "metadata": {
      "needs_background": "light"
     },
     "output_type": "display_data"
    }
   ],
   "source": [
    "sns.barplot(x=\"grup\",y=\"gelir\",data=gelir_concat_new);"
   ]
  },
  {
   "cell_type": "code",
   "execution_count": 83,
   "metadata": {},
   "outputs": [
    {
     "data": {
      "text/plain": [
       "ShapiroResult(statistic=0.9481138586997986, pvalue=0.15046268701553345)"
      ]
     },
     "execution_count": 83,
     "metadata": {},
     "output_type": "execute_result"
    }
   ],
   "source": [
    "# normallik varsayımı için shapiro testi yapalım\n",
    "shapiro(gelir_concat[\"gelir_eski\"])\n",
    "# shapiro içine sadece 1 değişken yazabiliriz. 1. değişken için H0 varsayımı sağlanıyor."
   ]
  },
  {
   "cell_type": "code",
   "execution_count": 86,
   "metadata": {},
   "outputs": [
    {
     "data": {
      "text/plain": [
       "ShapiroResult(statistic=0.948806881904602, pvalue=0.15705248713493347)"
      ]
     },
     "execution_count": 86,
     "metadata": {},
     "output_type": "execute_result"
    }
   ],
   "source": [
    "shapiro(gelir_concat[\"gelir_yeni\"])\n",
    "# 2. değişken için H0 varsayımı sağlanıyor."
   ]
  },
  {
   "cell_type": "code",
   "execution_count": null,
   "metadata": {},
   "outputs": [],
   "source": [
    "# normallik testine göre H0 hipotezi geçerlidir diyebiliriz.\n",
    "# 1. varsayımımız normal varsayım geçerli."
   ]
  },
  {
   "cell_type": "code",
   "execution_count": 87,
   "metadata": {},
   "outputs": [
    {
     "data": {
      "text/plain": [
       "LeveneResult(statistic=0.08531735222010339, pvalue=0.7712590603049148)"
      ]
     },
     "execution_count": 87,
     "metadata": {},
     "output_type": "execute_result"
    }
   ],
   "source": [
    "# varyans homojenliği varsayımına bakacağız. H0 varyans homojendir, H1 varyans homojen değildir. \n",
    "# import scipy.stats as sts yukarıda import etmiştik.\n",
    "sts.levene(gelir_concat[\"gelir_eski\"],gelir_concat[\"gelir_yeni\"])\n",
    "# bu sonuç bize varyans homojendir değerini verdi. \n",
    "# böylece normal ve varyans homojen testlerimizi yaptık."
   ]
  },
  {
   "cell_type": "code",
   "execution_count": 88,
   "metadata": {},
   "outputs": [
    {
     "data": {
      "text/plain": [
       "Ttest_indResult(statistic=1.1208595905512204, pvalue=0.26696719589502554)"
      ]
     },
     "execution_count": 88,
     "metadata": {},
     "output_type": "execute_result"
    }
   ],
   "source": [
    "#şimdi hipotez testine başlayacağız. \n",
    "sts.ttest_ind(gelir_concat[\"gelir_eski\"],gelir_concat[\"gelir_yeni\"],equal_var=True)\n",
    "# equal_var = True varyans homojenliği var demektir.\n",
    "# pvalue değeri 0.05 ten büyüktür ve anakütle ortalamarı birbirine eşittir diyen H0 testi kabul edilir. fakat ortalamaları\n",
    "# mean diyince farklı oluyor.burda hipotez testinde bize söylediği aralarında anlamlı bir istatiksel bir fark olmadığıdır."
   ]
  },
  {
   "cell_type": "code",
   "execution_count": 93,
   "metadata": {},
   "outputs": [
    {
     "data": {
      "text/plain": [
       "MannwhitneyuResult(statistic=371.0, pvalue=0.12272966554962494)"
      ]
     },
     "execution_count": 93,
     "metadata": {},
     "output_type": "execute_result"
    }
   ],
   "source": [
    "# NoNparametrik testi :\n",
    "sts.mannwhitneyu(gelir_concat[\"gelir_eski\"],gelir_concat[\"gelir_yeni\"])\n",
    "# yine H0 testi kabul edilir. aralarında istatiksel bir fark yoktur."
   ]
  },
  {
   "cell_type": "markdown",
   "metadata": {},
   "source": [
    "3- Bağımlı iki örneklem Testi : Burda bağımsız 2 değişken yoktur. Birbiriyle bağlantılı değişkenler arasındaki hipotez testini inceler. Yine aynı yukarıda ki H0 olumlu, H1 olumsuzdur.\n",
    "\n",
    "Örneğin : Satışlarımızı arttırmak için satış departmanına bir eğitim programı yaptırıp, o departmana eğitim veriyoruz. Bu eğitim sonucunda satışların artıp artmadığına yani eğitimin sağladığı katma değer test edilmek isteniyor. \n",
    "\n",
    "H0 testi eğitim öncesi başarı performans ortalaması ile sonrası arasındaki performans arasında fark yok.\n",
    "H1 testi var."
   ]
  },
  {
   "cell_type": "code",
   "execution_count": 102,
   "metadata": {},
   "outputs": [],
   "source": [
    "before_performance=pd.DataFrame(np.random.randint(80,140,size=40))\n",
    "new_performance=pd.DataFrame(np.random.randint(80,140,size=40))\n",
    "# rastgele 2 adet eğitimden önce performans satış rakamları tanımladık.\n",
    "# aynı kişiler üzerinden bu test yapıldığı için bağımlı değikendir."
   ]
  },
  {
   "cell_type": "code",
   "execution_count": 103,
   "metadata": {},
   "outputs": [
    {
     "data": {
      "text/html": [
       "<div>\n",
       "<style scoped>\n",
       "    .dataframe tbody tr th:only-of-type {\n",
       "        vertical-align: middle;\n",
       "    }\n",
       "\n",
       "    .dataframe tbody tr th {\n",
       "        vertical-align: top;\n",
       "    }\n",
       "\n",
       "    .dataframe thead th {\n",
       "        text-align: right;\n",
       "    }\n",
       "</style>\n",
       "<table border=\"1\" class=\"dataframe\">\n",
       "  <thead>\n",
       "    <tr style=\"text-align: right;\">\n",
       "      <th></th>\n",
       "      <th>before</th>\n",
       "      <th>new</th>\n",
       "    </tr>\n",
       "  </thead>\n",
       "  <tbody>\n",
       "    <tr>\n",
       "      <th>0</th>\n",
       "      <td>108</td>\n",
       "      <td>92</td>\n",
       "    </tr>\n",
       "    <tr>\n",
       "      <th>1</th>\n",
       "      <td>115</td>\n",
       "      <td>109</td>\n",
       "    </tr>\n",
       "    <tr>\n",
       "      <th>2</th>\n",
       "      <td>92</td>\n",
       "      <td>100</td>\n",
       "    </tr>\n",
       "    <tr>\n",
       "      <th>3</th>\n",
       "      <td>114</td>\n",
       "      <td>102</td>\n",
       "    </tr>\n",
       "    <tr>\n",
       "      <th>4</th>\n",
       "      <td>106</td>\n",
       "      <td>114</td>\n",
       "    </tr>\n",
       "  </tbody>\n",
       "</table>\n",
       "</div>"
      ],
      "text/plain": [
       "   before  new\n",
       "0     108   92\n",
       "1     115  109\n",
       "2      92  100\n",
       "3     114  102\n",
       "4     106  114"
      ]
     },
     "execution_count": 103,
     "metadata": {},
     "output_type": "execute_result"
    }
   ],
   "source": [
    "sum_performance=pd.concat([before_performance,new_performance],axis=1)\n",
    "sum_performance.columns=[\"before\",\"new\"]\n",
    "sum_performance.head()"
   ]
  },
  {
   "cell_type": "code",
   "execution_count": 107,
   "metadata": {},
   "outputs": [],
   "source": [
    "# 2. yol : Grafikte daha iyi görmek için genelde bu yol kullanılır.\n",
    "bp1=np.arange(len(before_performance))\n",
    "bp1=pd.DataFrame(bp1)\n",
    "bp1[:]=\"oncesi\"\n",
    "\n",
    "np1=np.arange(len(new_performance))\n",
    "np1=pd.DataFrame(np1)\n",
    "np1[:]=\"sonrası\"\n",
    "\n",
    "bp1=pd.concat([before_performance,bp1],axis=1)\n",
    "np1=pd.concat([new_performance,np1],axis=1)\n",
    "\n",
    "sp1=pd.concat([bp1,np1])\n",
    "sp1.columns=[\"performans\",\"oncesi_sonrası\"]"
   ]
  },
  {
   "cell_type": "code",
   "execution_count": 108,
   "metadata": {},
   "outputs": [
    {
     "data": {
      "text/html": [
       "<div>\n",
       "<style scoped>\n",
       "    .dataframe tbody tr th:only-of-type {\n",
       "        vertical-align: middle;\n",
       "    }\n",
       "\n",
       "    .dataframe tbody tr th {\n",
       "        vertical-align: top;\n",
       "    }\n",
       "\n",
       "    .dataframe thead th {\n",
       "        text-align: right;\n",
       "    }\n",
       "</style>\n",
       "<table border=\"1\" class=\"dataframe\">\n",
       "  <thead>\n",
       "    <tr style=\"text-align: right;\">\n",
       "      <th></th>\n",
       "      <th>performans</th>\n",
       "      <th>oncesi_sonrası</th>\n",
       "    </tr>\n",
       "  </thead>\n",
       "  <tbody>\n",
       "    <tr>\n",
       "      <th>0</th>\n",
       "      <td>108</td>\n",
       "      <td>oncesi</td>\n",
       "    </tr>\n",
       "    <tr>\n",
       "      <th>1</th>\n",
       "      <td>115</td>\n",
       "      <td>oncesi</td>\n",
       "    </tr>\n",
       "    <tr>\n",
       "      <th>2</th>\n",
       "      <td>92</td>\n",
       "      <td>oncesi</td>\n",
       "    </tr>\n",
       "    <tr>\n",
       "      <th>3</th>\n",
       "      <td>114</td>\n",
       "      <td>oncesi</td>\n",
       "    </tr>\n",
       "    <tr>\n",
       "      <th>4</th>\n",
       "      <td>106</td>\n",
       "      <td>oncesi</td>\n",
       "    </tr>\n",
       "  </tbody>\n",
       "</table>\n",
       "</div>"
      ],
      "text/plain": [
       "   performans oncesi_sonrası\n",
       "0         108         oncesi\n",
       "1         115         oncesi\n",
       "2          92         oncesi\n",
       "3         114         oncesi\n",
       "4         106         oncesi"
      ]
     },
     "execution_count": 108,
     "metadata": {},
     "output_type": "execute_result"
    }
   ],
   "source": [
    "sp1.head()"
   ]
  },
  {
   "cell_type": "code",
   "execution_count": 109,
   "metadata": {},
   "outputs": [
    {
     "data": {
      "text/html": [
       "<div>\n",
       "<style scoped>\n",
       "    .dataframe tbody tr th:only-of-type {\n",
       "        vertical-align: middle;\n",
       "    }\n",
       "\n",
       "    .dataframe tbody tr th {\n",
       "        vertical-align: top;\n",
       "    }\n",
       "\n",
       "    .dataframe thead th {\n",
       "        text-align: right;\n",
       "    }\n",
       "</style>\n",
       "<table border=\"1\" class=\"dataframe\">\n",
       "  <thead>\n",
       "    <tr style=\"text-align: right;\">\n",
       "      <th></th>\n",
       "      <th>performans</th>\n",
       "      <th>oncesi_sonrası</th>\n",
       "    </tr>\n",
       "  </thead>\n",
       "  <tbody>\n",
       "    <tr>\n",
       "      <th>35</th>\n",
       "      <td>117</td>\n",
       "      <td>sonrası</td>\n",
       "    </tr>\n",
       "    <tr>\n",
       "      <th>36</th>\n",
       "      <td>100</td>\n",
       "      <td>sonrası</td>\n",
       "    </tr>\n",
       "    <tr>\n",
       "      <th>37</th>\n",
       "      <td>112</td>\n",
       "      <td>sonrası</td>\n",
       "    </tr>\n",
       "    <tr>\n",
       "      <th>38</th>\n",
       "      <td>122</td>\n",
       "      <td>sonrası</td>\n",
       "    </tr>\n",
       "    <tr>\n",
       "      <th>39</th>\n",
       "      <td>103</td>\n",
       "      <td>sonrası</td>\n",
       "    </tr>\n",
       "  </tbody>\n",
       "</table>\n",
       "</div>"
      ],
      "text/plain": [
       "    performans oncesi_sonrası\n",
       "35         117        sonrası\n",
       "36         100        sonrası\n",
       "37         112        sonrası\n",
       "38         122        sonrası\n",
       "39         103        sonrası"
      ]
     },
     "execution_count": 109,
     "metadata": {},
     "output_type": "execute_result"
    }
   ],
   "source": [
    "sp1.tail()"
   ]
  },
  {
   "cell_type": "code",
   "execution_count": 110,
   "metadata": {},
   "outputs": [
    {
     "data": {
      "image/png": "[encoded data removed]",
      "text/plain": [
       "<Figure size 432x288 with 1 Axes>"
      ]
     },
     "metadata": {
      "needs_background": "light"
     },
     "output_type": "display_data"
    }
   ],
   "source": [
    "sns.barplot(x=\"oncesi_sonrası\",y=\"performans\",data=sp1);\n",
    "# eğitimden önce satış performansı biraz daha fazlaymış."
   ]
  },
  {
   "cell_type": "code",
   "execution_count": 111,
   "metadata": {},
   "outputs": [
    {
     "data": {
      "text/plain": [
       "ShapiroResult(statistic=0.957389771938324, pvalue=0.13629242777824402)"
      ]
     },
     "execution_count": 111,
     "metadata": {},
     "output_type": "execute_result"
    }
   ],
   "source": [
    "# bağımlı 2 değişkenin T testi varsayımı : normal dağılım bakıyoruz.\n",
    "shapiro(sum_performance[\"before\"])"
   ]
  },
  {
   "cell_type": "code",
   "execution_count": 112,
   "metadata": {},
   "outputs": [
    {
     "data": {
      "text/plain": [
       "ShapiroResult(statistic=0.94810950756073, pvalue=0.0652935653924942)"
      ]
     },
     "execution_count": 112,
     "metadata": {},
     "output_type": "execute_result"
    }
   ],
   "source": [
    "shapiro(sum_performance[\"new\"])"
   ]
  },
  {
   "cell_type": "markdown",
   "metadata": {},
   "source": [
    "hem eğitim öncesi ve hem eğitim sonrası için H0 değişkenini reddedemiyoruz. Örneklerin dağılımı normaldir. örnek dağılımı ile istatiksel anlamda bir fark yoktur. 1. varsayımımız normal varsayım geçerli."
   ]
  },
  {
   "cell_type": "code",
   "execution_count": 114,
   "metadata": {},
   "outputs": [
    {
     "data": {
      "text/plain": [
       "LeveneResult(statistic=0.5781145259237004, pvalue=0.4493445703496989)"
      ]
     },
     "execution_count": 114,
     "metadata": {},
     "output_type": "execute_result"
    }
   ],
   "source": [
    "# 2. varsayımımıza bakalım\n",
    "sts.levene(sum_performance[\"before\"],sum_performance[\"new\"] )\n",
    "# 2. varsayımımz olan varyans homojenliğine rastlandı ve varyans homojendir denir."
   ]
  },
  {
   "cell_type": "code",
   "execution_count": 117,
   "metadata": {},
   "outputs": [
    {
     "data": {
      "text/plain": [
       "Ttest_indResult(statistic=1.208604700859741, pvalue=0.23046596842602107)"
      ]
     },
     "execution_count": 117,
     "metadata": {},
     "output_type": "execute_result"
    }
   ],
   "source": [
    "# 3. sırada Hipotez testimiz var : \n",
    "sts.ttest_ind(sum_performance[\"before\"],sum_performance[\"new\"],equal_var=True)\n",
    "# H0 geçerli olmuş yani eğitim işe yaramamış demektir. tabi biz değerleri rastgele aldık."
   ]
  },
  {
   "cell_type": "code",
   "execution_count": 118,
   "metadata": {},
   "outputs": [
    {
     "data": {
      "text/plain": [
       "WilcoxonResult(statistic=335.5, pvalue=0.316519031418793)"
      ]
     },
     "execution_count": 118,
     "metadata": {},
     "output_type": "execute_result"
    }
   ],
   "source": [
    "# 4 nanparametrik bağımlı değişken :\n",
    "sts.wilcoxon(sum_performance[\"before\"], sum_performance[\"new\"])\n",
    "# H0 yine geçerli olmuştur. yani eğitim sonunda performansa yönelik bir etkisi olmamıştır."
   ]
  },
  {
   "cell_type": "code",
   "execution_count": null,
   "metadata": {},
   "outputs": [],
   "source": [
    "# 2 TANE ÖRNEKLEM oran testi :\n",
    "# ör bir tane sitemiz olsun iki farklı renkte buton yapıyoruz, yeşil butonu 1000 kişi görüntülüyor ve 300 kişi tıklıyor,\n",
    "# kırmızı butonu 1200 kişi görüyor ve 270 kişi tıklıyor. oran testi yapalım."
   ]
  },
  {
   "cell_type": "code",
   "execution_count": 2,
   "metadata": {},
   "outputs": [],
   "source": [
    "tiklama_sayi=np.array([300,270])\n",
    "gorme_sayi=np.array([1000,1200])\n",
    "from statsmodels.stats.proportion import proportions_ztest"
   ]
  },
  {
   "cell_type": "code",
   "execution_count": 3,
   "metadata": {},
   "outputs": [
    {
     "data": {
      "text/plain": [
       "(3.997900643792491, 6.390676381718896e-05)"
      ]
     },
     "execution_count": 3,
     "metadata": {},
     "output_type": "execute_result"
    }
   ],
   "source": [
    "proportions_ztest(count=tiklama_sayi, nobs=gorme_sayi)\n",
    "# H0 hipotezi reddedilir yani web sitemizde tasarladığımız yeşil ren için verilen değerlerin dönüşüm oranları ile,\n",
    "# kırmızı renkte ki dönüşüm oranları farklıdır. fark yeşil buton lehinedir."
   ]
  },
  {
   "cell_type": "markdown",
   "metadata": {},
   "source": [
    "VARYANS ANALİZİ : iki ya da daha fazla grup arasında istatiksel olarak anlamlı bir fark olup olmadığını, bize gösteren analiz.\n",
    "Gözlemler birbirinden bağımsız olmalıdır, Normal Dağılım ve varyans Homojenliğine bakılır.\n",
    "\n",
    "Örneğin bir haber sitemiz var aynı zamanda ticaret firmalarına da reklam vermekteyiz. Biz şunu biliyoruz sitemize giren kişi ne kadar çok vakit geçirirse o kadar çok ticaret firmalarının reklamlarına tıklıyor ve bizde o kadar çok reklem alıp kazanıyoruz. Amacımız giren kişilerin sitede daha çok vakit geçirmesi. Bunun için haberleri gösterme şekli üzerine 3 yolumuz var :\n",
    "1-) Haberi olduğu gibi mi verelim\n",
    "2-) Haberi siteye giren kişiyi yönlendirecek şekilde mi verelim\n",
    "3-) Haberi siteye girecek kişinin ilgisini çekecek bir başlık altında verip tıklama tuzağı mı kuralım\n"
   ]
  },
  {
   "cell_type": "code",
   "execution_count": 8,
   "metadata": {},
   "outputs": [],
   "source": [
    "# 3 türlü verdiğimiz haberlere göre 1 milyon tane ziyaretçimizden 100 kişiyi kapsayan örneklem çekelim\n",
    "normal_haber=pd.DataFrame(np.random.randint(25,50,size=100))\n",
    "yonlendirici_haber=pd.DataFrame(np.random.randint(30,65,size=100))\n",
    "ilgi_haber=pd.DataFrame(np.random.randint(35,70,size=100))\n",
    "# rastgele geçirilen süreleri atadık."
   ]
  },
  {
   "cell_type": "code",
   "execution_count": 9,
   "metadata": {},
   "outputs": [],
   "source": [
    "df=[normal_haber,yonlendirici_haber,ilgi_haber]\n",
    "toplam_sure=pd.concat(df, axis=1)\n",
    "toplam_sure.columns=[\"normal\",\"yönlendirici\",\"ilgi\"]"
   ]
  },
  {
   "cell_type": "code",
   "execution_count": 10,
   "metadata": {},
   "outputs": [
    {
     "data": {
      "text/html": [
       "<div>\n",
       "<style scoped>\n",
       "    .dataframe tbody tr th:only-of-type {\n",
       "        vertical-align: middle;\n",
       "    }\n",
       "\n",
       "    .dataframe tbody tr th {\n",
       "        vertical-align: top;\n",
       "    }\n",
       "\n",
       "    .dataframe thead th {\n",
       "        text-align: right;\n",
       "    }\n",
       "</style>\n",
       "<table border=\"1\" class=\"dataframe\">\n",
       "  <thead>\n",
       "    <tr style=\"text-align: right;\">\n",
       "      <th></th>\n",
       "      <th>normal</th>\n",
       "      <th>yönlendirici</th>\n",
       "      <th>ilgi</th>\n",
       "    </tr>\n",
       "  </thead>\n",
       "  <tbody>\n",
       "    <tr>\n",
       "      <th>0</th>\n",
       "      <td>45</td>\n",
       "      <td>37</td>\n",
       "      <td>59</td>\n",
       "    </tr>\n",
       "    <tr>\n",
       "      <th>1</th>\n",
       "      <td>42</td>\n",
       "      <td>48</td>\n",
       "      <td>43</td>\n",
       "    </tr>\n",
       "    <tr>\n",
       "      <th>2</th>\n",
       "      <td>43</td>\n",
       "      <td>35</td>\n",
       "      <td>65</td>\n",
       "    </tr>\n",
       "    <tr>\n",
       "      <th>3</th>\n",
       "      <td>30</td>\n",
       "      <td>33</td>\n",
       "      <td>56</td>\n",
       "    </tr>\n",
       "    <tr>\n",
       "      <th>4</th>\n",
       "      <td>42</td>\n",
       "      <td>47</td>\n",
       "      <td>56</td>\n",
       "    </tr>\n",
       "  </tbody>\n",
       "</table>\n",
       "</div>"
      ],
      "text/plain": [
       "   normal  yönlendirici  ilgi\n",
       "0      45            37    59\n",
       "1      42            48    43\n",
       "2      43            35    65\n",
       "3      30            33    56\n",
       "4      42            47    56"
      ]
     },
     "execution_count": 10,
     "metadata": {},
     "output_type": "execute_result"
    }
   ],
   "source": [
    "toplam_sure.head()"
   ]
  },
  {
   "cell_type": "code",
   "execution_count": 11,
   "metadata": {},
   "outputs": [
    {
     "data": {
      "text/html": [
       "<div>\n",
       "<style scoped>\n",
       "    .dataframe tbody tr th:only-of-type {\n",
       "        vertical-align: middle;\n",
       "    }\n",
       "\n",
       "    .dataframe tbody tr th {\n",
       "        vertical-align: top;\n",
       "    }\n",
       "\n",
       "    .dataframe thead th {\n",
       "        text-align: right;\n",
       "    }\n",
       "</style>\n",
       "<table border=\"1\" class=\"dataframe\">\n",
       "  <thead>\n",
       "    <tr style=\"text-align: right;\">\n",
       "      <th></th>\n",
       "      <th>normal</th>\n",
       "      <th>yönlendirici</th>\n",
       "      <th>ilgi</th>\n",
       "    </tr>\n",
       "  </thead>\n",
       "  <tbody>\n",
       "    <tr>\n",
       "      <th>95</th>\n",
       "      <td>40</td>\n",
       "      <td>47</td>\n",
       "      <td>59</td>\n",
       "    </tr>\n",
       "    <tr>\n",
       "      <th>96</th>\n",
       "      <td>46</td>\n",
       "      <td>63</td>\n",
       "      <td>39</td>\n",
       "    </tr>\n",
       "    <tr>\n",
       "      <th>97</th>\n",
       "      <td>27</td>\n",
       "      <td>55</td>\n",
       "      <td>56</td>\n",
       "    </tr>\n",
       "    <tr>\n",
       "      <th>98</th>\n",
       "      <td>42</td>\n",
       "      <td>36</td>\n",
       "      <td>39</td>\n",
       "    </tr>\n",
       "    <tr>\n",
       "      <th>99</th>\n",
       "      <td>35</td>\n",
       "      <td>60</td>\n",
       "      <td>39</td>\n",
       "    </tr>\n",
       "  </tbody>\n",
       "</table>\n",
       "</div>"
      ],
      "text/plain": [
       "    normal  yönlendirici  ilgi\n",
       "95      40            47    59\n",
       "96      46            63    39\n",
       "97      27            55    56\n",
       "98      42            36    39\n",
       "99      35            60    39"
      ]
     },
     "execution_count": 11,
     "metadata": {},
     "output_type": "execute_result"
    }
   ],
   "source": [
    "toplam_sure.tail()"
   ]
  },
  {
   "cell_type": "code",
   "execution_count": 12,
   "metadata": {},
   "outputs": [],
   "source": [
    "# Normallik testi yapalım ilk önce :\n",
    "from scipy.stats import shapiro"
   ]
  },
  {
   "cell_type": "code",
   "execution_count": 13,
   "metadata": {},
   "outputs": [
    {
     "data": {
      "text/plain": [
       "ShapiroResult(statistic=0.9314197897911072, pvalue=5.996594700263813e-05)"
      ]
     },
     "execution_count": 13,
     "metadata": {},
     "output_type": "execute_result"
    }
   ],
   "source": [
    "shapiro(toplam_sure[\"normal\"])"
   ]
  },
  {
   "cell_type": "code",
   "execution_count": 14,
   "metadata": {},
   "outputs": [
    {
     "data": {
      "text/plain": [
       "ShapiroResult(statistic=0.9416662454605103, pvalue=0.00024397911329288036)"
      ]
     },
     "execution_count": 14,
     "metadata": {},
     "output_type": "execute_result"
    }
   ],
   "source": [
    "shapiro(toplam_sure[\"yönlendirici\"])"
   ]
  },
  {
   "cell_type": "code",
   "execution_count": 15,
   "metadata": {},
   "outputs": [
    {
     "data": {
      "text/plain": [
       "ShapiroResult(statistic=0.96048504114151, pvalue=0.004355117212980986)"
      ]
     },
     "execution_count": 15,
     "metadata": {},
     "output_type": "execute_result"
    }
   ],
   "source": [
    "shapiro(toplam_sure[\"ilgi\"])"
   ]
  },
  {
   "cell_type": "code",
   "execution_count": null,
   "metadata": {},
   "outputs": [],
   "source": [
    "# her 3 ün de H0 geçersiz yani ilgi çekici haber daha fazla süre geçiriliyor."
   ]
  },
  {
   "cell_type": "markdown",
   "metadata": {},
   "source": [
    "2. olarak Varyans homojenlik testi : "
   ]
  },
  {
   "cell_type": "code",
   "execution_count": 16,
   "metadata": {},
   "outputs": [],
   "source": [
    "import scipy.stats as sts"
   ]
  },
  {
   "cell_type": "code",
   "execution_count": 17,
   "metadata": {},
   "outputs": [
    {
     "data": {
      "text/plain": [
       "LeveneResult(statistic=8.28936295195167, pvalue=0.00031395248825778646)"
      ]
     },
     "execution_count": 17,
     "metadata": {},
     "output_type": "execute_result"
    }
   ],
   "source": [
    "sts.levene(toplam_sure[\"normal\"],toplam_sure[\"yönlendirici\"],toplam_sure[\"ilgi\"] )\n",
    "# H0 testi burda geçersiz sayabiliriz. Çünkü pvalue<0.05 çıktı. yani diğer değişkenler arasında istatiksel olarak fark vardır.\n",
    "# varyans homojenliği yoktur."
   ]
  },
  {
   "cell_type": "code",
   "execution_count": 18,
   "metadata": {},
   "outputs": [],
   "source": [
    "# 3. olarak hipotez testimizi yapalım : \n",
    "from scipy.stats import f_oneway\n",
    "# 2 den daha fazla olursa f_oneway kullanılır."
   ]
  },
  {
   "cell_type": "code",
   "execution_count": 19,
   "metadata": {},
   "outputs": [
    {
     "data": {
      "text/plain": [
       "F_onewayResult(statistic=63.9788654982889, pvalue=7.852196333433306e-24)"
      ]
     },
     "execution_count": 19,
     "metadata": {},
     "output_type": "execute_result"
    }
   ],
   "source": [
    "f_oneway(toplam_sure[\"normal\"],toplam_sure[\"yönlendirici\"],toplam_sure[\"ilgi\"])\n",
    "# H0 geçersizdir. çünkü pvalue < 0.05 çıktı."
   ]
  },
  {
   "cell_type": "code",
   "execution_count": 20,
   "metadata": {},
   "outputs": [],
   "source": [
    "# 4. olarak nanparametrik testini yapalım.\n",
    "from scipy.stats import kruskal"
   ]
  },
  {
   "cell_type": "code",
   "execution_count": 21,
   "metadata": {},
   "outputs": [
    {
     "data": {
      "text/plain": [
       "KruskalResult(statistic=87.57551768746508, pvalue=9.620950036056624e-20)"
      ]
     },
     "execution_count": 21,
     "metadata": {},
     "output_type": "execute_result"
    }
   ],
   "source": [
    "kruskal(toplam_sure[\"normal\"],toplam_sure[\"yönlendirici\"],toplam_sure[\"ilgi\"])\n",
    "# H0 reddedilir yani gruplar arasında istatiksel manada anlamlı bir farklılık vardır."
   ]
  },
  {
   "cell_type": "code",
   "execution_count": 22,
   "metadata": {},
   "outputs": [
    {
     "data": {
      "text/html": [
       "<div>\n",
       "<style scoped>\n",
       "    .dataframe tbody tr th:only-of-type {\n",
       "        vertical-align: middle;\n",
       "    }\n",
       "\n",
       "    .dataframe tbody tr th {\n",
       "        vertical-align: top;\n",
       "    }\n",
       "\n",
       "    .dataframe thead th {\n",
       "        text-align: right;\n",
       "    }\n",
       "</style>\n",
       "<table border=\"1\" class=\"dataframe\">\n",
       "  <thead>\n",
       "    <tr style=\"text-align: right;\">\n",
       "      <th></th>\n",
       "      <th>count</th>\n",
       "      <th>mean</th>\n",
       "      <th>std</th>\n",
       "      <th>min</th>\n",
       "      <th>25%</th>\n",
       "      <th>50%</th>\n",
       "      <th>75%</th>\n",
       "      <th>max</th>\n",
       "    </tr>\n",
       "  </thead>\n",
       "  <tbody>\n",
       "    <tr>\n",
       "      <th>normal</th>\n",
       "      <td>100.0</td>\n",
       "      <td>37.52</td>\n",
       "      <td>7.271752</td>\n",
       "      <td>25.0</td>\n",
       "      <td>30.00</td>\n",
       "      <td>39.0</td>\n",
       "      <td>44.0</td>\n",
       "      <td>49.0</td>\n",
       "    </tr>\n",
       "    <tr>\n",
       "      <th>yönlendirici</th>\n",
       "      <td>100.0</td>\n",
       "      <td>47.96</td>\n",
       "      <td>10.419407</td>\n",
       "      <td>30.0</td>\n",
       "      <td>39.00</td>\n",
       "      <td>48.5</td>\n",
       "      <td>57.0</td>\n",
       "      <td>64.0</td>\n",
       "    </tr>\n",
       "    <tr>\n",
       "      <th>ilgi</th>\n",
       "      <td>100.0</td>\n",
       "      <td>51.70</td>\n",
       "      <td>9.581653</td>\n",
       "      <td>35.0</td>\n",
       "      <td>43.75</td>\n",
       "      <td>52.0</td>\n",
       "      <td>59.0</td>\n",
       "      <td>69.0</td>\n",
       "    </tr>\n",
       "  </tbody>\n",
       "</table>\n",
       "</div>"
      ],
      "text/plain": [
       "              count   mean        std   min    25%   50%   75%   max\n",
       "normal        100.0  37.52   7.271752  25.0  30.00  39.0  44.0  49.0\n",
       "yönlendirici  100.0  47.96  10.419407  30.0  39.00  48.5  57.0  64.0\n",
       "ilgi          100.0  51.70   9.581653  35.0  43.75  52.0  59.0  69.0"
      ]
     },
     "execution_count": 22,
     "metadata": {},
     "output_type": "execute_result"
    }
   ],
   "source": [
    "toplam_sure.describe().T\n",
    "# görüldüğü gibi ilgi tablosunun oranı, min ve max değerleri daha yüksektir. ilgi çekici haberler yapılmalıdır."
   ]
  },
  {
   "cell_type": "markdown",
   "metadata": {},
   "source": [
    "KORELASYON ANALİZİ : "
   ]
  },
  {
   "cell_type": "markdown",
   "metadata": {},
   "source": [
    "korelasyon katsayısı : iki veya daha fazla değişken arasındaki ilişkinin durumunu inceler.\n",
    "örneğin bir öğrencinin o dersi sevmesi onun için o derste başarı elde etmesinde etkilimi.\n",
    "korelasyon katsayısı -1,1 değerleri arasında olmalıdır. 0-1 arası pozitif korelasyon, -1,0 arası negatif korelasyondur. 0 değeriyse ilşiki yoktur.\n",
    "Korelasyon katsayısı -1 ve 1 arasında değerler alır. \n",
    "\n",
    "korelasyon katsayısı = 1 ise mükemmel pozitif,\n",
    "korelasyon katsayısı = -1 ise mükemmel negatif,\n",
    "korelasyon katsayısı = 0.9 ise yüksek pozitif pozitif,\n",
    "korelasyon katsayısı = 0.8 ve 0.5 dahil aralığında ise düşük pozitif,\n",
    "korelasyon katsayısı = 0.4 ve 0 aralığında ise mükemmel düşük  pozitif, 0 ise korelasyon yok\n",
    "negatif korelasyonda da aynıdır.\n",
    "\n",
    "H0 da korelasyon yoktur, H1 de korelasyon vardır denir.\n",
    "\n",
    "Korelasyon katsayını teste sokarken sırasıyla :\n",
    "Normallik testi, eğer test sonucu H0 ise = pearson korelasyon katsayısı,  eğer test sonucu H1 ise = Spearmean korelasyon kat sayısı"
   ]
  },
  {
   "cell_type": "code",
   "execution_count": 23,
   "metadata": {},
   "outputs": [],
   "source": [
    "import seaborn as sns"
   ]
  },
  {
   "cell_type": "code",
   "execution_count": 24,
   "metadata": {},
   "outputs": [
    {
     "data": {
      "text/html": [
       "<div>\n",
       "<style scoped>\n",
       "    .dataframe tbody tr th:only-of-type {\n",
       "        vertical-align: middle;\n",
       "    }\n",
       "\n",
       "    .dataframe tbody tr th {\n",
       "        vertical-align: top;\n",
       "    }\n",
       "\n",
       "    .dataframe thead th {\n",
       "        text-align: right;\n",
       "    }\n",
       "</style>\n",
       "<table border=\"1\" class=\"dataframe\">\n",
       "  <thead>\n",
       "    <tr style=\"text-align: right;\">\n",
       "      <th></th>\n",
       "      <th>total_bill</th>\n",
       "      <th>tip</th>\n",
       "      <th>sex</th>\n",
       "      <th>smoker</th>\n",
       "      <th>day</th>\n",
       "      <th>time</th>\n",
       "      <th>size</th>\n",
       "    </tr>\n",
       "  </thead>\n",
       "  <tbody>\n",
       "    <tr>\n",
       "      <th>0</th>\n",
       "      <td>16.99</td>\n",
       "      <td>1.01</td>\n",
       "      <td>Female</td>\n",
       "      <td>No</td>\n",
       "      <td>Sun</td>\n",
       "      <td>Dinner</td>\n",
       "      <td>2</td>\n",
       "    </tr>\n",
       "    <tr>\n",
       "      <th>1</th>\n",
       "      <td>10.34</td>\n",
       "      <td>1.66</td>\n",
       "      <td>Male</td>\n",
       "      <td>No</td>\n",
       "      <td>Sun</td>\n",
       "      <td>Dinner</td>\n",
       "      <td>3</td>\n",
       "    </tr>\n",
       "    <tr>\n",
       "      <th>2</th>\n",
       "      <td>21.01</td>\n",
       "      <td>3.50</td>\n",
       "      <td>Male</td>\n",
       "      <td>No</td>\n",
       "      <td>Sun</td>\n",
       "      <td>Dinner</td>\n",
       "      <td>3</td>\n",
       "    </tr>\n",
       "    <tr>\n",
       "      <th>3</th>\n",
       "      <td>23.68</td>\n",
       "      <td>3.31</td>\n",
       "      <td>Male</td>\n",
       "      <td>No</td>\n",
       "      <td>Sun</td>\n",
       "      <td>Dinner</td>\n",
       "      <td>2</td>\n",
       "    </tr>\n",
       "    <tr>\n",
       "      <th>4</th>\n",
       "      <td>24.59</td>\n",
       "      <td>3.61</td>\n",
       "      <td>Female</td>\n",
       "      <td>No</td>\n",
       "      <td>Sun</td>\n",
       "      <td>Dinner</td>\n",
       "      <td>4</td>\n",
       "    </tr>\n",
       "  </tbody>\n",
       "</table>\n",
       "</div>"
      ],
      "text/plain": [
       "   total_bill   tip     sex smoker  day    time  size\n",
       "0       16.99  1.01  Female     No  Sun  Dinner     2\n",
       "1       10.34  1.66    Male     No  Sun  Dinner     3\n",
       "2       21.01  3.50    Male     No  Sun  Dinner     3\n",
       "3       23.68  3.31    Male     No  Sun  Dinner     2\n",
       "4       24.59  3.61  Female     No  Sun  Dinner     4"
      ]
     },
     "execution_count": 24,
     "metadata": {},
     "output_type": "execute_result"
    }
   ],
   "source": [
    "df=sns.load_dataset(\"tips\")\n",
    "df.head()"
   ]
  },
  {
   "cell_type": "code",
   "execution_count": 28,
   "metadata": {},
   "outputs": [
    {
     "name": "stdout",
     "output_type": "stream",
     "text": [
      "4096.1900000000005\n",
      "4827.77\n"
     ]
    }
   ],
   "source": [
    "# total_bill içinde bahşiş ve kdv oranı da dahildir. Biz toplam hesaptan bahşişleri çıkarırsak elimizde sadece hesap kalır.\n",
    "print((df[\"total_bill\"]-df[\"tip\"]).sum()) # toplamlarına bakalım\n",
    "print(df[\"total_bill\"].sum())\n",
    "# arada 731.579 tl lik bir fark var. toplamları için ama."
   ]
  },
  {
   "cell_type": "code",
   "execution_count": 31,
   "metadata": {},
   "outputs": [
    {
     "data": {
      "image/png": "[encoded data removed]",
      "text/plain": [
       "<Figure size 432x288 with 1 Axes>"
      ]
     },
     "metadata": {
      "needs_background": "light"
     },
     "output_type": "display_data"
    }
   ],
   "source": [
    "# grafik olarak arada ki ilişkiye bakalım \n",
    "sns.scatterplot(x=\"total_bill\",y=\"tip\",data=df);\n",
    "# hesap arttıkça bahşiş te artmış."
   ]
  },
  {
   "cell_type": "code",
   "execution_count": 32,
   "metadata": {},
   "outputs": [
    {
     "data": {
      "text/plain": [
       "ShapiroResult(statistic=0.9197188019752502, pvalue=3.3245434183371003e-10)"
      ]
     },
     "execution_count": 32,
     "metadata": {},
     "output_type": "execute_result"
    }
   ],
   "source": [
    "# korelasyon için normallik analizi :\n",
    "shapiro(df[\"total_bill\"])"
   ]
  },
  {
   "cell_type": "code",
   "execution_count": 33,
   "metadata": {},
   "outputs": [
    {
     "data": {
      "text/plain": [
       "ShapiroResult(statistic=0.897811233997345, pvalue=8.20057563521992e-12)"
      ]
     },
     "execution_count": 33,
     "metadata": {},
     "output_type": "execute_result"
    }
   ],
   "source": [
    "shapiro(df[\"tip\"])"
   ]
  },
  {
   "cell_type": "markdown",
   "metadata": {},
   "source": [
    "ikisi içinde pvalue değerleri 0.05 ten küçüktür. H0 hipotezi geçersizdir. yani H1 de ki gibi aralarında istatiksel mana da ilişki vardı. ayrıca H1 de ki gibi korelasyon değeri 0 değildir."
   ]
  },
  {
   "cell_type": "code",
   "execution_count": 36,
   "metadata": {},
   "outputs": [],
   "source": [
    "# korelasyon katsayısı için Hipotez testi :"
   ]
  },
  {
   "cell_type": "code",
   "execution_count": 37,
   "metadata": {},
   "outputs": [
    {
     "data": {
      "text/html": [
       "<div>\n",
       "<style scoped>\n",
       "    .dataframe tbody tr th:only-of-type {\n",
       "        vertical-align: middle;\n",
       "    }\n",
       "\n",
       "    .dataframe tbody tr th {\n",
       "        vertical-align: top;\n",
       "    }\n",
       "\n",
       "    .dataframe thead th {\n",
       "        text-align: right;\n",
       "    }\n",
       "</style>\n",
       "<table border=\"1\" class=\"dataframe\">\n",
       "  <thead>\n",
       "    <tr style=\"text-align: right;\">\n",
       "      <th></th>\n",
       "      <th>total_bill</th>\n",
       "      <th>tip</th>\n",
       "    </tr>\n",
       "  </thead>\n",
       "  <tbody>\n",
       "    <tr>\n",
       "      <th>total_bill</th>\n",
       "      <td>1.000000</td>\n",
       "      <td>0.675734</td>\n",
       "    </tr>\n",
       "    <tr>\n",
       "      <th>tip</th>\n",
       "      <td>0.675734</td>\n",
       "      <td>1.000000</td>\n",
       "    </tr>\n",
       "  </tbody>\n",
       "</table>\n",
       "</div>"
      ],
      "text/plain": [
       "            total_bill       tip\n",
       "total_bill    1.000000  0.675734\n",
       "tip           0.675734  1.000000"
      ]
     },
     "execution_count": 37,
     "metadata": {},
     "output_type": "execute_result"
    }
   ],
   "source": [
    "# 1-) Korelasyon katsayısı bulma :\n",
    "df[[\"total_bill\",\"tip\"]].corr()"
   ]
  },
  {
   "cell_type": "code",
   "execution_count": 40,
   "metadata": {},
   "outputs": [
    {
     "name": "stdout",
     "output_type": "stream",
     "text": [
      "0.6757341092113647\n",
      "0.6757341092113646\n"
     ]
    }
   ],
   "source": [
    "# 2.yol sadece ikisinin korelasyon kat sayısını görmek istersek:\n",
    "print(df[\"tip\"].corr(df[\"total_bill\"]))\n",
    "print(df[\"total_bill\"].corr(df[\"tip\"]))\n",
    "# 2 side aynıdır. "
   ]
  },
  {
   "cell_type": "code",
   "execution_count": 41,
   "metadata": {},
   "outputs": [
    {
     "data": {
      "text/plain": [
       "0.6789681219001009"
      ]
     },
     "execution_count": 41,
     "metadata": {},
     "output_type": "execute_result"
    }
   ],
   "source": [
    "# 2-) Korelasyon anlamlılığının testi : \n",
    "# yukarıda yaptığımız shapiro normallik testinde H0 geçersiz çıkmıştı. o zaman spearman korelasyon katsayısını bulalım.\n",
    "df[\"total_bill\"].corr(df[\"tip\"], method=\"spearman\")\n",
    "# Eğer H0 doğrulansaydı pearson diyecektik."
   ]
  },
  {
   "cell_type": "markdown",
   "metadata": {},
   "source": [
    "Değişkenler arasında pozitif yönlü orta şiddette bir ilişki var. demektir.\n",
    "şimdi corr katsayımızın anlamlığını test edelim."
   ]
  },
  {
   "cell_type": "code",
   "execution_count": 42,
   "metadata": {},
   "outputs": [],
   "source": [
    "from scipy.stats import pearsonr"
   ]
  },
  {
   "cell_type": "code",
   "execution_count": 47,
   "metadata": {},
   "outputs": [
    {
     "name": "stdout",
     "output_type": "stream",
     "text": [
      "korelasyon kat sayı değeri = 0.6757341092113647\n",
      "pvalue değeri = 6.6924706468630016e-34\n",
      "Bulduğumuz değer H0 hipotezini geçersiz kılar\n",
      "ayrıca aralarında ilişki vardır.\n"
     ]
    }
   ],
   "source": [
    "korelasyon_kat_sayi , pvalue = pearsonr(df[\"total_bill\"],df[\"tip\"])\n",
    "print(f\"korelasyon kat sayı değeri = {korelasyon_kat_sayi}\")\n",
    "print(f\"pvalue değeri = {pvalue}\")\n",
    "if pvalue<0.05:\n",
    "    print(\"Bulduğumuz değer H0 hipotezini geçersiz kılar\")\n",
    "    print(\"ayrıca aralarında ilişki vardır.\")\n",
    "elif pvalue==0.05 or pvalue>0.05:\n",
    "    print(\"H0 hipotezi doğrudur, aralarında korelasyon katsayısı olarak ilişki yoktur.\")"
   ]
  },
  {
   "cell_type": "code",
   "execution_count": 45,
   "metadata": {},
   "outputs": [],
   "source": [
    "# 3-) Nonparametrik Korelasyon testi : \n",
    "from scipy.stats import stats"
   ]
  },
  {
   "cell_type": "code",
   "execution_count": 48,
   "metadata": {},
   "outputs": [
    {
     "name": "stdout",
     "output_type": "stream",
     "text": [
      "korelasyon kat sayı değeri = 0.6789681219001009\n",
      "pvalue değeri = 2.501158440923619e-34\n",
      "Bulduğumuz değer H0 hipotezini geçersiz kılar\n",
      "ayrıca aralarında ilişki vardır.\n"
     ]
    }
   ],
   "source": [
    "korelasyon_kat_sayi , pvalue = stats.spearmanr(df[\"total_bill\"],df[\"tip\"])\n",
    "print(f\"korelasyon kat sayı değeri = {korelasyon_kat_sayi}\")\n",
    "print(f\"pvalue değeri = {pvalue}\")\n",
    "if pvalue<0.05:\n",
    "    print(\"Bulduğumuz değer H0 hipotezini geçersiz kılar\")\n",
    "    print(\"ayrıca aralarında ilişki vardır.\")\n",
    "elif pvalue==0.05 or pvalue>0.05:\n",
    "    print(\"H0 hipotezi doğrudur, aralarında korelasyon katsayısı olarak ilişki yoktur.\")"
   ]
  },
  {
   "cell_type": "code",
   "execution_count": 49,
   "metadata": {},
   "outputs": [
    {
     "data": {
      "text/plain": [
       "KendalltauResult(correlation=0.517180972142381, pvalue=2.4455728480214792e-32)"
      ]
     },
     "execution_count": 49,
     "metadata": {},
     "output_type": "execute_result"
    }
   ],
   "source": [
    "# birde bu testin sağlaması da yapılabilir. \n",
    "stats.kendalltau(df[\"total_bill\"],df[\"tip\"])\n",
    "# bu işlemde correlation yani korelasyon katsayısı daha düşük çıktı.\n",
    "# bize yaptığımız işlemin doğruluğunu gösterdi."
   ]
  },
  {
   "cell_type": "markdown",
   "metadata": {},
   "source": []
  },
  {
   "cell_type": "code",
   "execution_count": null,
   "metadata": {},
   "outputs": [],
   "source": []
  },
  {
   "cell_type": "code",
   "execution_count": null,
   "metadata": {},
   "outputs": [],
   "source": []
  },
  {
   "cell_type": "code",
   "execution_count": null,
   "metadata": {},
   "outputs": [],
   "source": []
  },
  {
   "cell_type": "code",
   "execution_count": null,
   "metadata": {},
   "outputs": [],
   "source": []
  },
  {
   "cell_type": "code",
   "execution_count": null,
   "metadata": {},
   "outputs": [],
   "source": []
  },
  {
   "cell_type": "code",
   "execution_count": null,
   "metadata": {},
   "outputs": [],
   "source": []
  },
  {
   "cell_type": "code",
   "execution_count": null,
   "metadata": {},
   "outputs": [],
   "source": []
  },
  {
   "cell_type": "code",
   "execution_count": null,
   "metadata": {},
   "outputs": [],
   "source": []
  }
 ],
 "metadata": {
  "kernelspec": {
   "display_name": "Python 3",
   "language": "python",
   "name": "python3"
  },
  "language_info": {
   "codemirror_mode": {
    "name": "ipython",
    "version": 3
   },
   "file_extension": ".py",
   "mimetype": "text/x-python",
   "name": "python",
   "nbconvert_exporter": "python",
   "pygments_lexer": "ipython3",
   "version": "3.8.5"
  }
 },
 "nbformat": 4,
 "nbformat_minor": 4
}
