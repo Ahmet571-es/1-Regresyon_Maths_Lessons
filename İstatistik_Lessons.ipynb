{
 "cells": [
  {
   "cell_type": "code",
   "execution_count": 1,
   "metadata": {},
   "outputs": [],
   "source": [
    "import numpy as np\n",
    "import pandas as pd\n",
    "from math import factorial"
   ]
  },
  {
   "cell_type": "code",
   "execution_count": null,
   "metadata": {},
   "outputs": [],
   "source": [
    "# Örneğin, bir sınava ait sonuç seti 10, 8, 10, 8, 8 ve 4 olsun.\n",
    "    # 1-) Aritmetik ortalama: \n",
    "    # 10+8+10+8+8+4 = 48\n",
    "    # 48/6=8 8 aritmetik ortalamadır. 6 adet sayı olduğu için 6 ya böldük.\n",
    "    # python da mean() ile hesaplanır.\n",
    "    \n",
    "    # 2-) Varyansı Bulma : \n",
    "    # aritmetik ortalama = 8 tüm sayılardan 8 'i teker teker çıkaracağız. \n",
    "    #ilk önce: 10-8, 8-8, 10-8, 8-8, 8-8, 4-8,\n",
    "    # sonrasında sonuçların karelerini al ve alınan karelerin toplamını kaç adet sayı varsa onun 1 eksiğine bölerek varyansı buluruz.\n",
    "    # 2**2 + 0**2 + 2**2 + 0**2 + 0**2 + -4**2 = 24. 6 adet sayı var. 6-1=5. 24/5 = 4,8 varyans değerdir.\n",
    "    # pythonda var() ile hesaplanır.\n",
    "    \n",
    "    # 3-) Standart sapma hesaplama : \n",
    "    # varyans değerin karekökü standart sapmayı verir.\n",
    "    # 4.8 in karekökü 2.19 dur. Standat sapma 2.19 dur.\n",
    "    # pythonda std() ile hesaplanır.\n"
   ]
  },
  {
   "cell_type": "code",
   "execution_count": 3,
   "metadata": {},
   "outputs": [],
   "source": [
    "# Örneklem Modelleme : "
   ]
  },
  {
   "cell_type": "code",
   "execution_count": 2,
   "metadata": {},
   "outputs": [],
   "source": [
    "# Elimizde bir ana veri olsun. Biz bu ana veriden örneklem çekelim."
   ]
  },
  {
   "cell_type": "code",
   "execution_count": 2,
   "metadata": {},
   "outputs": [],
   "source": [
    "# aynı değerler gelmemesi için seed() fonksiyonunu kullanalım.\n",
    "populasyon=np.random.randint(10,80,size=100000)"
   ]
  },
  {
   "cell_type": "code",
   "execution_count": 3,
   "metadata": {},
   "outputs": [],
   "source": [
    "np.random.seed(115)\n",
    "# seed koymamızın sebebi her seferinde farklı örneklem çekmesi için."
   ]
  },
  {
   "cell_type": "code",
   "execution_count": 4,
   "metadata": {},
   "outputs": [
    {
     "data": {
      "text/plain": [
       "45.67"
      ]
     },
     "execution_count": 4,
     "metadata": {},
     "output_type": "execute_result"
    }
   ],
   "source": [
    "orneklem1=np.random.choice(a=populasyon, size=100)\n",
    "orneklem1.mean()"
   ]
  },
  {
   "cell_type": "code",
   "execution_count": 5,
   "metadata": {},
   "outputs": [
    {
     "data": {
      "text/plain": [
       "44.36181"
      ]
     },
     "execution_count": 5,
     "metadata": {},
     "output_type": "execute_result"
    }
   ],
   "source": [
    "populasyon.mean()"
   ]
  },
  {
   "cell_type": "code",
   "execution_count": null,
   "metadata": {},
   "outputs": [],
   "source": [
    "# orneklem1 ve populasyon arasında 0.8605499999999964 değerlik bir fark var."
   ]
  },
  {
   "cell_type": "code",
   "execution_count": 8,
   "metadata": {},
   "outputs": [
    {
     "data": {
      "text/plain": [
       "0.8605499999999964"
      ]
     },
     "execution_count": 8,
     "metadata": {},
     "output_type": "execute_result"
    }
   ],
   "source": [
    "44.46055-43.6"
   ]
  },
  {
   "cell_type": "code",
   "execution_count": 13,
   "metadata": {},
   "outputs": [],
   "source": [
    "orneklem1=np.random.choice(a=populasyon, size=100)\n",
    "orneklem2=np.random.choice(a=populasyon, size=100)\n",
    "orneklem3=np.random.choice(a=populasyon, size=100)\n",
    "orneklem4=np.random.choice(a=populasyon, size=100)\n",
    "orneklem5=np.random.choice(a=populasyon, size=100)\n",
    "orneklem6=np.random.choice(a=populasyon, size=100)\n",
    "orneklem7=np.random.choice(a=populasyon, size=100)\n",
    "orneklem8=np.random.choice(a=populasyon, size=100)\n",
    "orneklem9=np.random.choice(a=populasyon, size=100)\n",
    "orneklem10=np.random.choice(a=populasyon, size=100)"
   ]
  },
  {
   "cell_type": "code",
   "execution_count": 14,
   "metadata": {},
   "outputs": [
    {
     "data": {
      "text/plain": [
       "43.772"
      ]
     },
     "execution_count": 14,
     "metadata": {},
     "output_type": "execute_result"
    }
   ],
   "source": [
    "(orneklem1.mean()+ orneklem2.mean()+orneklem3.mean()+orneklem4.mean()+orneklem5.mean()+orneklem6.mean()+orneklem7.mean()+\n",
    "orneklem8.mean()+orneklem9.mean()+orneklem10.mean())/10"
   ]
  },
  {
   "cell_type": "code",
   "execution_count": 11,
   "metadata": {},
   "outputs": [
    {
     "data": {
      "text/plain": [
       "44.46055"
      ]
     },
     "execution_count": 11,
     "metadata": {},
     "output_type": "execute_result"
    }
   ],
   "source": [
    "populasyon.mean()"
   ]
  },
  {
   "cell_type": "code",
   "execution_count": 15,
   "metadata": {},
   "outputs": [
    {
     "data": {
      "text/plain": [
       "0.6885499999999993"
      ]
     },
     "execution_count": 15,
     "metadata": {},
     "output_type": "execute_result"
    }
   ],
   "source": [
    "44.46055-43.772\n",
    "# örneklem sayısı arttıkça ana veri oranı ile örneklem verilerinin oranları birbirlerine yaklaşırlar."
   ]
  },
  {
   "cell_type": "code",
   "execution_count": 16,
   "metadata": {},
   "outputs": [],
   "source": [
    "# Betimsel İstatistikler:"
   ]
  },
  {
   "cell_type": "code",
   "execution_count": 17,
   "metadata": {},
   "outputs": [],
   "source": [
    "# a) kovaryans iki değişken arasında ki ilişkinin değişkenlik ölçüsüdür. iki değişkenini arasındaki değişen ilişkiye bakar.\n",
    "# beraber değişimlerini inceler.\n",
    "# kovaryans değeri 0 ise bu değişkenler arasında ilişki yoktur.\n",
    "# cov > 0 ise ilişki pozitif yönlüdür.\n",
    "# cov<0 ise ilişki negatif yönlüdür."
   ]
  },
  {
   "cell_type": "code",
   "execution_count": 19,
   "metadata": {},
   "outputs": [],
   "source": [
    "# Örnek Kovaryans uygulaması : "
   ]
  },
  {
   "cell_type": "code",
   "execution_count": 24,
   "metadata": {},
   "outputs": [
    {
     "data": {
      "text/html": [
       "<div>\n",
       "<style scoped>\n",
       "    .dataframe tbody tr th:only-of-type {\n",
       "        vertical-align: middle;\n",
       "    }\n",
       "\n",
       "    .dataframe tbody tr th {\n",
       "        vertical-align: top;\n",
       "    }\n",
       "\n",
       "    .dataframe thead th {\n",
       "        text-align: right;\n",
       "    }\n",
       "</style>\n",
       "<table border=\"1\" class=\"dataframe\">\n",
       "  <thead>\n",
       "    <tr style=\"text-align: right;\">\n",
       "      <th></th>\n",
       "      <th>deg1</th>\n",
       "      <th>deg2</th>\n",
       "    </tr>\n",
       "  </thead>\n",
       "  <tbody>\n",
       "    <tr>\n",
       "      <th>0</th>\n",
       "      <td>4</td>\n",
       "      <td>21</td>\n",
       "    </tr>\n",
       "    <tr>\n",
       "      <th>1</th>\n",
       "      <td>29</td>\n",
       "      <td>29</td>\n",
       "    </tr>\n",
       "    <tr>\n",
       "      <th>2</th>\n",
       "      <td>2</td>\n",
       "      <td>16</td>\n",
       "    </tr>\n",
       "    <tr>\n",
       "      <th>3</th>\n",
       "      <td>29</td>\n",
       "      <td>26</td>\n",
       "    </tr>\n",
       "    <tr>\n",
       "      <th>4</th>\n",
       "      <td>29</td>\n",
       "      <td>5</td>\n",
       "    </tr>\n",
       "  </tbody>\n",
       "</table>\n",
       "</div>"
      ],
      "text/plain": [
       "   deg1  deg2\n",
       "0     4    21\n",
       "1    29    29\n",
       "2     2    16\n",
       "3    29    26\n",
       "4    29     5"
      ]
     },
     "execution_count": 24,
     "metadata": {},
     "output_type": "execute_result"
    }
   ],
   "source": [
    "df=pd.DataFrame(np.random.randint(2,30,size=(5,2)), columns=[\"deg1\",\"deg2\"])\n",
    "df"
   ]
  },
  {
   "cell_type": "code",
   "execution_count": null,
   "metadata": {},
   "outputs": [],
   "source": []
  },
  {
   "cell_type": "code",
   "execution_count": 22,
   "metadata": {},
   "outputs": [],
   "source": [
    "# kovaryans nasıl hesaplanır : "
   ]
  },
  {
   "cell_type": "code",
   "execution_count": 30,
   "metadata": {},
   "outputs": [
    {
     "data": {
      "text/plain": [
       "18.6"
      ]
     },
     "execution_count": 30,
     "metadata": {},
     "output_type": "execute_result"
    }
   ],
   "source": [
    "# deg1 ortalaması alınır.\n",
    "df[\"deg1\"].mean()"
   ]
  },
  {
   "cell_type": "code",
   "execution_count": 31,
   "metadata": {},
   "outputs": [
    {
     "data": {
      "text/plain": [
       "19.4"
      ]
     },
     "execution_count": 31,
     "metadata": {},
     "output_type": "execute_result"
    }
   ],
   "source": [
    "# deg2 ortalaması alınır.\n",
    "df[\"deg2\"].mean()"
   ]
  },
  {
   "cell_type": "markdown",
   "metadata": {},
   "source": [
    " deg1 deki tüm değerlerden ortalamayı teker teker çıkaracağız.\n",
    "df[\"deg1\"]\n",
    "4-18.6\n",
    "29-18.6\n",
    "2-18.6\n",
    "29-18.6\n",
    "29-18.6"
   ]
  },
  {
   "cell_type": "code",
   "execution_count": 58,
   "metadata": {},
   "outputs": [
    {
     "data": {
      "text/plain": [
       "0   -14.6\n",
       "1    10.4\n",
       "2   -16.6\n",
       "3    10.4\n",
       "4    10.4\n",
       "Name: deg1, dtype: float64"
      ]
     },
     "execution_count": 58,
     "metadata": {},
     "output_type": "execute_result"
    }
   ],
   "source": [
    "a=df[\"deg1\"]-(df[\"deg1\"].mean())\n",
    "a"
   ]
  },
  {
   "cell_type": "markdown",
   "metadata": {},
   "source": [
    " deg2 deki tüm değerlerden ortalamayı teker teker çıkaracağız.\n",
    "df[\"deg1\"]\n",
    "4-18.6\n",
    "29-18.6\n",
    "2-18.6\n",
    "29-18.6\n",
    "29-18.6"
   ]
  },
  {
   "cell_type": "code",
   "execution_count": 61,
   "metadata": {},
   "outputs": [
    {
     "data": {
      "text/plain": [
       "0     1.6\n",
       "1     9.6\n",
       "2    -3.4\n",
       "3     6.6\n",
       "4   -14.4\n",
       "Name: deg2, dtype: float64"
      ]
     },
     "execution_count": 61,
     "metadata": {},
     "output_type": "execute_result"
    }
   ],
   "source": [
    "b=df[\"deg2\"]-(df[\"deg2\"].mean())\n",
    "b"
   ]
  },
  {
   "cell_type": "code",
   "execution_count": 62,
   "metadata": {},
   "outputs": [
    {
     "data": {
      "text/plain": [
       "0    -23.36\n",
       "1     99.84\n",
       "2     56.44\n",
       "3     68.64\n",
       "4   -149.76\n",
       "Name: deg2, dtype: float64"
      ]
     },
     "execution_count": 62,
     "metadata": {},
     "output_type": "execute_result"
    }
   ],
   "source": [
    "# sonrasında index sırasına göre çarpalım.\n",
    "c=a*b\n",
    "c"
   ]
  },
  {
   "cell_type": "code",
   "execution_count": 86,
   "metadata": {},
   "outputs": [],
   "source": [
    "# bunu yaptıktan sonra c nin toplamını alıp 5 eleman olduğu için 5 e bölelim\n",
    "kovaryans=(c.sum())/5"
   ]
  },
  {
   "cell_type": "code",
   "execution_count": 87,
   "metadata": {},
   "outputs": [
    {
     "data": {
      "text/plain": [
       "10.359999999999996"
      ]
     },
     "execution_count": 87,
     "metadata": {},
     "output_type": "execute_result"
    }
   ],
   "source": [
    "kovaryans\n",
    "# bu değişkenler arasında aynı yönde bir ilişki var.\n",
    "# kovaryans değeri :"
   ]
  },
  {
   "cell_type": "code",
   "execution_count": null,
   "metadata": {},
   "outputs": [],
   "source": [
    "# korelasyon katsayısı : iki veya daha fazla değişken arasındaki ilişkinin durumunu inceler.\n",
    "# örneğin bir öğrencinin o dersi sevmesi onun için o derste başarı elde etmesinde etkilimi.\n",
    "# korelasyon katsayısı -1,1 değerleri arasında olmalıdır.\n",
    "# 0-1 arası pozitif korelasyon, -1,0 arası negatif korelasyondur. 0 değeriyse ilşiki yoktur."
   ]
  },
  {
   "cell_type": "code",
   "execution_count": null,
   "metadata": {},
   "outputs": [],
   "source": [
    "# korelasyon katsayısı nasıl hesaplanır. \n",
    "# ilk önce değişkenlerin ortalamaları alınır. "
   ]
  },
  {
   "cell_type": "code",
   "execution_count": null,
   "metadata": {},
   "outputs": [],
   "source": [
    "# yine her bir değerinden ortalamayı çıkaracağız."
   ]
  },
  {
   "cell_type": "code",
   "execution_count": 73,
   "metadata": {},
   "outputs": [
    {
     "data": {
      "text/plain": [
       "0   -14.6\n",
       "1    10.4\n",
       "2   -16.6\n",
       "3    10.4\n",
       "4    10.4\n",
       "Name: deg1, dtype: float64"
      ]
     },
     "execution_count": 73,
     "metadata": {},
     "output_type": "execute_result"
    }
   ],
   "source": [
    "x=df[\"deg1\"]-(df[\"deg1\"].mean())\n",
    "x"
   ]
  },
  {
   "cell_type": "code",
   "execution_count": 74,
   "metadata": {},
   "outputs": [
    {
     "data": {
      "text/plain": [
       "0     1.6\n",
       "1     9.6\n",
       "2    -3.4\n",
       "3     6.6\n",
       "4   -14.4\n",
       "Name: deg2, dtype: float64"
      ]
     },
     "execution_count": 74,
     "metadata": {},
     "output_type": "execute_result"
    }
   ],
   "source": [
    "y=df[\"deg2\"]-(df[\"deg2\"].mean())\n",
    "y"
   ]
  },
  {
   "cell_type": "code",
   "execution_count": null,
   "metadata": {},
   "outputs": [],
   "source": [
    "# sonrasında her bir değerin karelerini alacağız."
   ]
  },
  {
   "cell_type": "code",
   "execution_count": 75,
   "metadata": {},
   "outputs": [
    {
     "data": {
      "text/plain": [
       "0    213.16\n",
       "1    108.16\n",
       "2    275.56\n",
       "3    108.16\n",
       "4    108.16\n",
       "Name: deg1, dtype: float64"
      ]
     },
     "execution_count": 75,
     "metadata": {},
     "output_type": "execute_result"
    }
   ],
   "source": [
    "x_kare=x**2\n",
    "x_kare"
   ]
  },
  {
   "cell_type": "code",
   "execution_count": 76,
   "metadata": {},
   "outputs": [
    {
     "data": {
      "text/plain": [
       "0      2.56\n",
       "1     92.16\n",
       "2     11.56\n",
       "3     43.56\n",
       "4    207.36\n",
       "Name: deg2, dtype: float64"
      ]
     },
     "execution_count": 76,
     "metadata": {},
     "output_type": "execute_result"
    }
   ],
   "source": [
    "y_kare=y**2\n",
    "y_kare"
   ]
  },
  {
   "cell_type": "code",
   "execution_count": 77,
   "metadata": {},
   "outputs": [],
   "source": [
    "# bir de bize bu iki ifadelerin yani kovaryans ta yaptığımız gibi çarpımları lazım."
   ]
  },
  {
   "cell_type": "code",
   "execution_count": 78,
   "metadata": {},
   "outputs": [
    {
     "data": {
      "text/plain": [
       "0    -23.36\n",
       "1     99.84\n",
       "2     56.44\n",
       "3     68.64\n",
       "4   -149.76\n",
       "dtype: float64"
      ]
     },
     "execution_count": 78,
     "metadata": {},
     "output_type": "execute_result"
    }
   ],
   "source": [
    "carpım=x*y\n",
    "carpım"
   ]
  },
  {
   "cell_type": "code",
   "execution_count": 79,
   "metadata": {},
   "outputs": [
    {
     "data": {
      "text/plain": [
       "51.79999999999998"
      ]
     },
     "execution_count": 79,
     "metadata": {},
     "output_type": "execute_result"
    }
   ],
   "source": [
    "carpım=carpım.sum()\n",
    "carpım"
   ]
  },
  {
   "cell_type": "code",
   "execution_count": 80,
   "metadata": {},
   "outputs": [
    {
     "data": {
      "text/plain": [
       "813.2"
      ]
     },
     "execution_count": 80,
     "metadata": {},
     "output_type": "execute_result"
    }
   ],
   "source": [
    "x_kare=x_kare.sum()\n",
    "x_kare"
   ]
  },
  {
   "cell_type": "code",
   "execution_count": 81,
   "metadata": {},
   "outputs": [
    {
     "data": {
      "text/plain": [
       "357.2"
      ]
     },
     "execution_count": 81,
     "metadata": {},
     "output_type": "execute_result"
    }
   ],
   "source": [
    "y_kare=y_kare.sum()\n",
    "y_kare"
   ]
  },
  {
   "cell_type": "code",
   "execution_count": 82,
   "metadata": {},
   "outputs": [
    {
     "data": {
      "text/plain": [
       "0.09611149875430443"
      ]
     },
     "execution_count": 82,
     "metadata": {},
     "output_type": "execute_result"
    }
   ],
   "source": [
    "# sonrasında carpımı karelerin çarpımlarının kareköklerine böleceğiz.\n",
    "korelasyon=carpım/((x_kare*y_kare)**0.5)\n",
    "korelasyon"
   ]
  },
  {
   "cell_type": "code",
   "execution_count": null,
   "metadata": {},
   "outputs": [],
   "source": [
    "# burda değişken tabloları arasında pozitif yönlü bir korelasyon var."
   ]
  },
  {
   "cell_type": "code",
   "execution_count": 2,
   "metadata": {},
   "outputs": [],
   "source": [
    "import seaborn as sns"
   ]
  },
  {
   "cell_type": "code",
   "execution_count": 89,
   "metadata": {},
   "outputs": [
    {
     "data": {
      "text/html": [
       "<div>\n",
       "<style scoped>\n",
       "    .dataframe tbody tr th:only-of-type {\n",
       "        vertical-align: middle;\n",
       "    }\n",
       "\n",
       "    .dataframe tbody tr th {\n",
       "        vertical-align: top;\n",
       "    }\n",
       "\n",
       "    .dataframe thead th {\n",
       "        text-align: right;\n",
       "    }\n",
       "</style>\n",
       "<table border=\"1\" class=\"dataframe\">\n",
       "  <thead>\n",
       "    <tr style=\"text-align: right;\">\n",
       "      <th></th>\n",
       "      <th>total_bill</th>\n",
       "      <th>tip</th>\n",
       "      <th>sex</th>\n",
       "      <th>smoker</th>\n",
       "      <th>day</th>\n",
       "      <th>time</th>\n",
       "      <th>size</th>\n",
       "    </tr>\n",
       "  </thead>\n",
       "  <tbody>\n",
       "    <tr>\n",
       "      <th>0</th>\n",
       "      <td>16.99</td>\n",
       "      <td>1.01</td>\n",
       "      <td>Female</td>\n",
       "      <td>No</td>\n",
       "      <td>Sun</td>\n",
       "      <td>Dinner</td>\n",
       "      <td>2</td>\n",
       "    </tr>\n",
       "    <tr>\n",
       "      <th>1</th>\n",
       "      <td>10.34</td>\n",
       "      <td>1.66</td>\n",
       "      <td>Male</td>\n",
       "      <td>No</td>\n",
       "      <td>Sun</td>\n",
       "      <td>Dinner</td>\n",
       "      <td>3</td>\n",
       "    </tr>\n",
       "    <tr>\n",
       "      <th>2</th>\n",
       "      <td>21.01</td>\n",
       "      <td>3.50</td>\n",
       "      <td>Male</td>\n",
       "      <td>No</td>\n",
       "      <td>Sun</td>\n",
       "      <td>Dinner</td>\n",
       "      <td>3</td>\n",
       "    </tr>\n",
       "    <tr>\n",
       "      <th>3</th>\n",
       "      <td>23.68</td>\n",
       "      <td>3.31</td>\n",
       "      <td>Male</td>\n",
       "      <td>No</td>\n",
       "      <td>Sun</td>\n",
       "      <td>Dinner</td>\n",
       "      <td>2</td>\n",
       "    </tr>\n",
       "    <tr>\n",
       "      <th>4</th>\n",
       "      <td>24.59</td>\n",
       "      <td>3.61</td>\n",
       "      <td>Female</td>\n",
       "      <td>No</td>\n",
       "      <td>Sun</td>\n",
       "      <td>Dinner</td>\n",
       "      <td>4</td>\n",
       "    </tr>\n",
       "  </tbody>\n",
       "</table>\n",
       "</div>"
      ],
      "text/plain": [
       "   total_bill   tip     sex smoker  day    time  size\n",
       "0       16.99  1.01  Female     No  Sun  Dinner     2\n",
       "1       10.34  1.66    Male     No  Sun  Dinner     3\n",
       "2       21.01  3.50    Male     No  Sun  Dinner     3\n",
       "3       23.68  3.31    Male     No  Sun  Dinner     2\n",
       "4       24.59  3.61  Female     No  Sun  Dinner     4"
      ]
     },
     "execution_count": 89,
     "metadata": {},
     "output_type": "execute_result"
    }
   ],
   "source": [
    "df=sns.load_dataset(\"tips\")\n",
    "df.head()"
   ]
  },
  {
   "cell_type": "code",
   "execution_count": null,
   "metadata": {},
   "outputs": [],
   "source": [
    "# burda ben ödenen ücret ile verilen bahşiş arasındaki ilişkiyi incelemek istiyorum."
   ]
  },
  {
   "cell_type": "code",
   "execution_count": 90,
   "metadata": {},
   "outputs": [
    {
     "data": {
      "text/html": [
       "<div>\n",
       "<style scoped>\n",
       "    .dataframe tbody tr th:only-of-type {\n",
       "        vertical-align: middle;\n",
       "    }\n",
       "\n",
       "    .dataframe tbody tr th {\n",
       "        vertical-align: top;\n",
       "    }\n",
       "\n",
       "    .dataframe thead th {\n",
       "        text-align: right;\n",
       "    }\n",
       "</style>\n",
       "<table border=\"1\" class=\"dataframe\">\n",
       "  <thead>\n",
       "    <tr style=\"text-align: right;\">\n",
       "      <th></th>\n",
       "      <th>total_bill</th>\n",
       "      <th>tip</th>\n",
       "    </tr>\n",
       "  </thead>\n",
       "  <tbody>\n",
       "    <tr>\n",
       "      <th>total_bill</th>\n",
       "      <td>79.252939</td>\n",
       "      <td>8.323502</td>\n",
       "    </tr>\n",
       "    <tr>\n",
       "      <th>tip</th>\n",
       "      <td>8.323502</td>\n",
       "      <td>1.914455</td>\n",
       "    </tr>\n",
       "  </tbody>\n",
       "</table>\n",
       "</div>"
      ],
      "text/plain": [
       "            total_bill       tip\n",
       "total_bill   79.252939  8.323502\n",
       "tip           8.323502  1.914455"
      ]
     },
     "execution_count": 90,
     "metadata": {},
     "output_type": "execute_result"
    }
   ],
   "source": [
    "df[[\"total_bill\",\"tip\"]].cov()\n",
    "# 2 si arasında ki kovaryans değeri 8.323502 dir.\n",
    "# total_bill kovaryans değeri = 79.252939\n",
    "# tip kovaryans değeri = 1.914455 dir."
   ]
  },
  {
   "cell_type": "code",
   "execution_count": 94,
   "metadata": {},
   "outputs": [
    {
     "data": {
      "text/html": [
       "<div>\n",
       "<style scoped>\n",
       "    .dataframe tbody tr th:only-of-type {\n",
       "        vertical-align: middle;\n",
       "    }\n",
       "\n",
       "    .dataframe tbody tr th {\n",
       "        vertical-align: top;\n",
       "    }\n",
       "\n",
       "    .dataframe thead th {\n",
       "        text-align: right;\n",
       "    }\n",
       "</style>\n",
       "<table border=\"1\" class=\"dataframe\">\n",
       "  <thead>\n",
       "    <tr style=\"text-align: right;\">\n",
       "      <th></th>\n",
       "      <th>total_bill</th>\n",
       "      <th>tip</th>\n",
       "    </tr>\n",
       "  </thead>\n",
       "  <tbody>\n",
       "    <tr>\n",
       "      <th>total_bill</th>\n",
       "      <td>1.000000</td>\n",
       "      <td>0.675734</td>\n",
       "    </tr>\n",
       "    <tr>\n",
       "      <th>tip</th>\n",
       "      <td>0.675734</td>\n",
       "      <td>1.000000</td>\n",
       "    </tr>\n",
       "  </tbody>\n",
       "</table>\n",
       "</div>"
      ],
      "text/plain": [
       "            total_bill       tip\n",
       "total_bill    1.000000  0.675734\n",
       "tip           0.675734  1.000000"
      ]
     },
     "execution_count": 94,
     "metadata": {},
     "output_type": "execute_result"
    }
   ],
   "source": [
    "df[[\"total_bill\",\"tip\"]].corr()\n",
    "# 2 sinin korelasyon kat sayısı 0.675734 dir. aralarında pozitif yönlü bir artış vardır."
   ]
  },
  {
   "cell_type": "code",
   "execution_count": 110,
   "metadata": {},
   "outputs": [
    {
     "data": {
      "text/plain": [
       "187.84"
      ]
     },
     "execution_count": 110,
     "metadata": {},
     "output_type": "execute_result"
    }
   ],
   "source": [
    "# Güven aralıkları :\n",
    "# örneğin bir web sitesinde geçirilen sürenin güven aralığı nedir? \n",
    "# ilk adım : n= kişi sayısı, ort=ortalama, std=standart sapma.\n",
    "# z tablo değeri olarak 1.96 alınır.\n",
    "# güven aralık hesaplaması 1.96-2.57 arasındadır.\n",
    "# n=100, ort=180, std=40\n",
    "180+1.96*4\n",
    "# 187 saniye çıktı.\n",
    "# çıkan sonuç 172-188 arasında ise %95 lik bir başarı var demektir."
   ]
  },
  {
   "cell_type": "code",
   "execution_count": null,
   "metadata": {},
   "outputs": [],
   "source": [
    "# Örnek uygulama : bir ürün ile ilgili olarak bir fiyat belirlenecek. Alıcılara bu ürüne ne kadar ödersiniz diye \n",
    "# soruluyor. Bu cevaplara göre bir ürün fiyat skalası belirlenmek isteniyor."
   ]
  },
  {
   "cell_type": "code",
   "execution_count": 6,
   "metadata": {},
   "outputs": [],
   "source": [
    "fiyat=np.random.randint(70,100,size=1000)"
   ]
  },
  {
   "cell_type": "code",
   "execution_count": null,
   "metadata": {},
   "outputs": [],
   "source": [
    "# güven aralığını bulmak için %95-%100 lük değer arasını bulmamız gerekmektedir."
   ]
  },
  {
   "cell_type": "code",
   "execution_count": 4,
   "metadata": {},
   "outputs": [],
   "source": [
    "import statsmodels.stats.api as sms"
   ]
  },
  {
   "cell_type": "code",
   "execution_count": 7,
   "metadata": {},
   "outputs": [
    {
     "data": {
      "text/plain": [
       "(83.7641944186918, 84.82180558130821)"
      ]
     },
     "execution_count": 7,
     "metadata": {},
     "output_type": "execute_result"
    }
   ],
   "source": [
    "sms.DescrStatsW(fiyat).tconfint_mean()\n",
    "# fiyatların en fazla verildiği değer aralığını getirir.\n",
    "# insanların %95 i bu aralıkta fiyat veririm demişler."
   ]
  },
  {
   "cell_type": "code",
   "execution_count": 114,
   "metadata": {},
   "outputs": [
    {
     "data": {
      "text/plain": [
       "84.242"
      ]
     },
     "execution_count": 114,
     "metadata": {},
     "output_type": "execute_result"
    }
   ],
   "source": [
    "# 2. yol:\n",
    "# aralıktaki değeri görmek istersek : \n",
    "fiyat.mean()"
   ]
  },
  {
   "cell_type": "code",
   "execution_count": 115,
   "metadata": {},
   "outputs": [
    {
     "data": {
      "text/plain": [
       "8.603571119017962"
      ]
     },
     "execution_count": 115,
     "metadata": {},
     "output_type": "execute_result"
    }
   ],
   "source": [
    "fiyat.std()"
   ]
  },
  {
   "cell_type": "code",
   "execution_count": 116,
   "metadata": {},
   "outputs": [
    {
     "data": {
      "text/plain": [
       "84.77525486264787"
      ]
     },
     "execution_count": 116,
     "metadata": {},
     "output_type": "execute_result"
    }
   ],
   "source": [
    "84.242+1.96*(8.603571119017962/(1000**0.5))"
   ]
  },
  {
   "cell_type": "markdown",
   "metadata": {},
   "source": [
    " OLASILIK DAĞILIMLARI :"
   ]
  },
  {
   "cell_type": "code",
   "execution_count": 8,
   "metadata": {},
   "outputs": [],
   "source": [
    "# Binom(Bernoulli Dağılımı) : \n",
    "# bir olayda sadece 2 olası sonuç varsa buna Bernoulli deneyi denir.\n",
    "# bir para atarsınız yazı veya tura gelir. sonucunda 2 tane değer dönebilir.\n",
    "# eğer ki n defa bernoulli gerçekleştirilirse buna binom dağılımı denir."
   ]
  },
  {
   "cell_type": "code",
   "execution_count": 10,
   "metadata": {},
   "outputs": [
    {
     "data": {
      "text/plain": [
       "0.2734375"
      ]
     },
     "execution_count": 10,
     "metadata": {},
     "output_type": "execute_result"
    }
   ],
   "source": [
    "# soru : Bir para 7 kez atılıyor. 3 kez yazı gelme olasılığı nedir?\n",
    "# bize burda yazı gelme olasılığını sorduğu için başarı durumuna yazı diyelim\n",
    "yazı=1/2\n",
    "tura=1/2\n",
    "# tek atışta yzı gelme olasılığı 1/2 dir.\n",
    "# tek atışta tura gelme olaslığı 1/2 dir.\n",
    "# formülü : 7 nin 3 lü kombinasyonu * yazı**3 * tura**(7-3)\n",
    "((7*6*5)/(3*2*1))*(yazı**3)*(tura**4)"
   ]
  },
  {
   "cell_type": "code",
   "execution_count": 13,
   "metadata": {},
   "outputs": [],
   "source": [
    "# python ile yapalım :\n",
    "from scipy.stats import bernoulli\n",
    "from scipy.stats import binom"
   ]
  },
  {
   "cell_type": "code",
   "execution_count": 14,
   "metadata": {},
   "outputs": [
    {
     "name": "stdout",
     "output_type": "stream",
     "text": [
      "0.27343750000000017\n"
     ]
    }
   ],
   "source": [
    "# yukarıda ki soruyu yapalım.\n",
    "p=1/2 # tek seferde yazı gelme olasılığını yazdık. \n",
    "n=7 # 7 kere parayı atacağımız için 7 yazdık. \n",
    "rv=binom(n,p) # rv değişkeni oluşturup binom fonksiyonu içine adet sayısı ve gelme olasılığını yazdık.\n",
    "print(rv.pmf(3)) # rv.pmf(3) diyerek 3 kerede kaç kez yazı gelme olasılığı olduğunu hesapladı."
   ]
  },
  {
   "cell_type": "code",
   "execution_count": 15,
   "metadata": {},
   "outputs": [],
   "source": [
    "# 10 tane hasta var. "
   ]
  },
  {
   "cell_type": "code",
   "execution_count": 16,
   "metadata": {},
   "outputs": [
    {
     "data": {
      "text/plain": [
       "0.04394531249999999"
      ]
     },
     "execution_count": 16,
     "metadata": {},
     "output_type": "execute_result"
    }
   ],
   "source": [
    "# Bunlardan 2 tanesinin iyileşme olasılığı nedir?\n",
    "p=1/2\n",
    "n=10\n",
    "rv=binom(n,p)\n",
    "hasta_iki=rv.pmf(2)\n",
    "hasta_iki"
   ]
  },
  {
   "cell_type": "code",
   "execution_count": 17,
   "metadata": {},
   "outputs": [
    {
     "data": {
      "text/plain": [
       "0.20507812500000022"
      ]
     },
     "execution_count": 17,
     "metadata": {},
     "output_type": "execute_result"
    }
   ],
   "source": [
    "# Bunlardan 6 tanesinin iyileşme olasılığı nedir?\n",
    "p=1/2\n",
    "n=10\n",
    "rv=binom(n,p)\n",
    "hasta_altı=rv.pmf(6)\n",
    "hasta_altı"
   ]
  },
  {
   "cell_type": "code",
   "execution_count": 20,
   "metadata": {},
   "outputs": [
    {
     "name": "stdout",
     "output_type": "stream",
     "text": [
      "Hiç kimsenin iyileşme olasılığı =0.0009765625\n",
      "1 tane hastanın iyileşme olasılığı=0.00976562500000001\n",
      "2 tane hastanın iyileşme olasılığı=0.04394531249999999\n",
      "en fazla 2 hastanın iyileşme olasılığı = 0.0546875\n"
     ]
    }
   ],
   "source": [
    "# en fazla 2 tanesinin iyileşme olasılığı nedir?\n",
    "p=1/2\n",
    "n=10\n",
    "rv=binom(n,p)\n",
    "hasta1=rv.pmf(0)\n",
    "hasta2=rv.pmf(1)\n",
    "hasta3=rv.pmf(2)\n",
    "print(f\"Hiç kimsenin iyileşme olasılığı ={hasta1}\")\n",
    "print(f\"1 tane hastanın iyileşme olasılığı={hasta2}\") \n",
    "print(f\"2 tane hastanın iyileşme olasılığı={hasta3}\")\n",
    "print(f\"en fazla 2 hastanın iyileşme olasılığı = {hasta1+hasta2+hasta3}\")"
   ]
  },
  {
   "cell_type": "code",
   "execution_count": 62,
   "metadata": {},
   "outputs": [
    {
     "name": "stdout",
     "output_type": "stream",
     "text": [
      "en az 3 hastanın iyileşme olasılığı = 0.9453125\n"
     ]
    }
   ],
   "source": [
    "# en az 3 kişinin iyileşme olasılığı nedir? \n",
    "# tamammının iyileşme olasılığından en fazla 2 kişinin iyileşme olasılığını çıkarırsak, en az 3 kişinin iyileşme\n",
    "# olasılığını buluruz.\n",
    "# 1 tüm olasılıkların toplamıdır. en az 3 dediği için 1 den en fazla 2 hastanın iyileşme olasılığını çıkarırsak buluruz.\n",
    "hasta_enaz = 1- hasta1-hasta2-hasta3\n",
    "print(f\"en az 3 hastanın iyileşme olasılığı = {hasta_enaz}\")"
   ]
  },
  {
   "cell_type": "markdown",
   "metadata": {},
   "source": [
    "Poisson Dağılımı :\n",
    "Gözlem sayısının çok yüksek, gerçekleşme olasılığının çok düşük olduğu olasılık durumlarıdır.\n",
    "Ör : 10 bin kelimelik bir kitapta hatalı kelime sayısı, kredi kartında yapılan çekim işlemlerinde yaşanan sahtekarlıklar, uçağın rotar sayıları, abd ye ait savaş jetinin düşmesi vb.."
   ]
  },
  {
   "cell_type": "markdown",
   "metadata": {},
   "source": [
    " Hatalı ilan girişleri olasılıkları hesaplayalım. \n",
    " 1 yıl süresince ölçüm yapılıyor. yapılan girişlerde ortalama hata sayısı 0.1, \n",
    " hiç hata olamaması oranı\n",
    " 3 hata olması oranı\n",
    " 5 hata olması oranı"
   ]
  },
  {
   "cell_type": "code",
   "execution_count": 40,
   "metadata": {},
   "outputs": [
    {
     "data": {
      "text/plain": [
       "0.0905113559096793"
      ]
     },
     "execution_count": 40,
     "metadata": {},
     "output_type": "execute_result"
    }
   ],
   "source": [
    "lambda_ort=0.1 # ortalama hata sayısı\n",
    "e=2.71 # euler sabittir. 2.71 değerindedir.\n",
    "hata_sayısı= 0 # hiç hata yapmassak.\n",
    "\n",
    "((0.1**1) * (2.71**-0.1))/factorial(0)\n",
    "# formülü : ((ortalama** hata sayısı) * (euler** negatif değerde hata oranı)) / istenilen hata sayısının faktöriyeli"
   ]
  },
  {
   "cell_type": "code",
   "execution_count": 41,
   "metadata": {},
   "outputs": [
    {
     "data": {
      "text/plain": [
       "0.00015085225984946552"
      ]
     },
     "execution_count": 41,
     "metadata": {},
     "output_type": "execute_result"
    }
   ],
   "source": [
    "lambda_ort=0.1\n",
    "e=2.71\n",
    "hata_sayısı=3\n",
    "((0.1**3) *(2.71**-0.1))/factorial(3)"
   ]
  },
  {
   "cell_type": "code",
   "execution_count": 46,
   "metadata": {},
   "outputs": [
    {
     "data": {
      "text/plain": [
       "7.542612992473277e-08"
      ]
     },
     "execution_count": 46,
     "metadata": {},
     "output_type": "execute_result"
    }
   ],
   "source": [
    "lambda_ort=0.1\n",
    "hata_sayısı=5\n",
    "e=2.71\n",
    "((0.1**5)*(2.71**-0.1))/factorial(5)"
   ]
  },
  {
   "cell_type": "code",
   "execution_count": 47,
   "metadata": {},
   "outputs": [],
   "source": [
    "from scipy.stats import poisson"
   ]
  },
  {
   "cell_type": "code",
   "execution_count": 48,
   "metadata": {},
   "outputs": [
    {
     "name": "stdout",
     "output_type": "stream",
     "text": [
      "0.9048374180359595\n"
     ]
    }
   ],
   "source": [
    "rv= poisson(mu=lambda_ort) # hata oranını yazdık. mu = hata oranı\n",
    "print(rv.pmf(k=0)) # k= istenilen hata sayısı"
   ]
  },
  {
   "cell_type": "code",
   "execution_count": 49,
   "metadata": {},
   "outputs": [
    {
     "name": "stdout",
     "output_type": "stream",
     "text": [
      "0.00015080623633932676\n"
     ]
    }
   ],
   "source": [
    "rv=poisson(mu=lambda_ort)\n",
    "print(rv.pmf(k=3))"
   ]
  },
  {
   "cell_type": "code",
   "execution_count": 50,
   "metadata": {},
   "outputs": [
    {
     "name": "stdout",
     "output_type": "stream",
     "text": [
      "7.54031181696634e-08\n"
     ]
    }
   ],
   "source": [
    "rv=poisson(mu=lambda_ort)\n",
    "print(rv.pmf(k=5))"
   ]
  },
  {
   "cell_type": "code",
   "execution_count": 51,
   "metadata": {},
   "outputs": [],
   "source": [
    "# Örnek : Bir kavşakta 4 aylık sürede yaşanan kaza ortalaması 6 dır.\n",
    "# a) 4 ayda 7 kez kaza olma olasılığı\n",
    "# b) 6 ayda 5 kaza olma olasılığı\n",
    "# c) 1 yılda 2 den fazla kaza olma olasılığı\n",
    "# d) 8 ayda en çok 2 kaza olma olasılığı"
   ]
  },
  {
   "cell_type": "code",
   "execution_count": 52,
   "metadata": {},
   "outputs": [
    {
     "name": "stdout",
     "output_type": "stream",
     "text": [
      "0.1376769780411257\n"
     ]
    }
   ],
   "source": [
    "# a)\n",
    "rv=poisson(mu=6)\n",
    "print(rv.pmf(k=7))"
   ]
  },
  {
   "cell_type": "code",
   "execution_count": 59,
   "metadata": {},
   "outputs": [
    {
     "name": "stdout",
     "output_type": "stream",
     "text": [
      "0.06072687934595293\n"
     ]
    }
   ],
   "source": [
    "# b) \n",
    "# 4 ay için lambda değeri 6 dır. ama soruda bize 6 ay içinde diyor.\n",
    "# 4 ayda 6 kere oluyorsa 6 ay da kaç kez olur doğru orantı\n",
    "lambda_ort=int((6*6)/4)\n",
    "rv=poisson(mu=lambda_ort)\n",
    "print(rv.pmf(k=5))"
   ]
  },
  {
   "cell_type": "code",
   "execution_count": 63,
   "metadata": {},
   "outputs": [
    {
     "name": "stdout",
     "output_type": "stream",
     "text": [
      "0.9999972433736662\n"
     ]
    }
   ],
   "source": [
    "# c)\n",
    "# 4 ayda kaza ortalaması 6 ise 12 ayda kaçtır doğru orantı\n",
    "lambda_ort=int((12*6)/4)\n",
    "# 2 den fazla kaza dediği için tüm 2 den büyük değerler için ayrı ayrı hesap yapamayız. tüm olasılık her zaman 1 dir.\n",
    "# 1 den en fazla 2 kaza yapma olasılığını çıkarırsak buluruz.\n",
    "rv1=poisson(mu=lambda_ort)\n",
    "rv1=rv1.pmf(k=0)\n",
    "rv2=poisson(mu= lambda_ort)\n",
    "rv2=rv2.pmf(k=1)\n",
    "rv3=poisson(mu= lambda_ort)\n",
    "rv3=rv3.pmf(k=2)\n",
    "print(1-(rv1+rv2+rv3))"
   ]
  },
  {
   "cell_type": "markdown",
   "metadata": {},
   "source": [
    " NORMAL DAĞILIM : "
   ]
  },
  {
   "cell_type": "code",
   "execution_count": null,
   "metadata": {},
   "outputs": [],
   "source": [
    "# En önemli olasılık dağılımı normal dağılımdır. Normal adğıldığı bilinen sürekli rassal değişkenler \n",
    "# için olasılık hesabında kullanılır. Sürekli olan bir olay üzerinden yapacağımız bir olasılık hesabıdır.\n",
    "# Normal ortalama ile stnadart sapmayı topladığımız zaman olasılığın normal dağılımda rassal bir \n",
    "# şeklide artacağını hesap ederiz."
   ]
  },
  {
   "cell_type": "code",
   "execution_count": null,
   "metadata": {},
   "outputs": [],
   "source": [
    "# Ör : Bir toplantı öncesinde gelecek ay ile ilgili satışların belirli değerlerde gerçekleşmesi olasılığı belirlenmek istenir.\n",
    "# Aylık ortalama satışımız 80 tl. standart sapmamız 2.5 tl diyelim. \n",
    "# satışlarımız her ay düzenli olarak artmaktadır.\n",
    "# Aylık 90 tl den fazla satış yapma olasılığımız nedir? \n",
    "# Burda satışlarımız düzenli olarak artmaktadır cümlesi bunun bir normal dağılım olduğunu gösterir.\n",
    "# O zaman 80+2.5=82.5 tl. yani bu değer bizim standart sapmayı eklediğimizde ortalama elde edeceğimiz değere yakın olur.\n",
    "# 90 tl üzerinde satış yapma olasılığımız düşer. 80-82.5 arası yapma olasılığımız yüksektir."
   ]
  },
  {
   "cell_type": "code",
   "execution_count": null,
   "metadata": {},
   "outputs": [],
   "source": [
    "# Fomulu : (1/(standart_sapma * (2* 3.14**0.5)) * ((2.71**(0.5*((istenen_değer-ortalama)/standart_sapma)"
   ]
  },
  {
   "cell_type": "code",
   "execution_count": 6,
   "metadata": {},
   "outputs": [],
   "source": [
    "from scipy.stats import norm"
   ]
  },
  {
   "cell_type": "code",
   "execution_count": 7,
   "metadata": {},
   "outputs": [
    {
     "data": {
      "text/plain": [
       "0.02275013194817921"
      ]
     },
     "execution_count": 7,
     "metadata": {},
     "output_type": "execute_result"
    }
   ],
   "source": [
    "# 90 dan fazla olma olasılığı \n",
    "1-norm.cdf(90,80,5)"
   ]
  },
  {
   "cell_type": "code",
   "execution_count": 8,
   "metadata": {},
   "outputs": [
    {
     "data": {
      "text/plain": [
       "0.9772498680518208"
      ]
     },
     "execution_count": 8,
     "metadata": {},
     "output_type": "execute_result"
    }
   ],
   "source": [
    "# 70 den fazla olma olasılığı\n",
    "1-norm.cdf(70,80,5)"
   ]
  },
  {
   "cell_type": "code",
   "execution_count": 9,
   "metadata": {},
   "outputs": [
    {
     "data": {
      "text/plain": [
       "0.08075665923377107"
      ]
     },
     "execution_count": 9,
     "metadata": {},
     "output_type": "execute_result"
    }
   ],
   "source": [
    "# 73 den az olması\n",
    "norm.cdf(73,80,5)"
   ]
  },
  {
   "cell_type": "code",
   "execution_count": 10,
   "metadata": {},
   "outputs": [
    {
     "data": {
      "text/plain": [
       "0.13590512198327787"
      ]
     },
     "execution_count": 10,
     "metadata": {},
     "output_type": "execute_result"
    }
   ],
   "source": [
    "# 85 ile 90 arasında olması : \n",
    "norm.cdf(90,80,5)-norm.cdf(85,80,5)"
   ]
  },
  {
   "cell_type": "code",
   "execution_count": null,
   "metadata": {},
   "outputs": [],
   "source": []
  },
  {
   "cell_type": "code",
   "execution_count": null,
   "metadata": {},
   "outputs": [],
   "source": []
  },
  {
   "cell_type": "code",
   "execution_count": null,
   "metadata": {},
   "outputs": [],
   "source": []
  }
 ],
 "metadata": {
  "kernelspec": {
   "display_name": "Python 3",
   "language": "python",
   "name": "python3"
  },
  "language_info": {
   "codemirror_mode": {
    "name": "ipython",
    "version": 3
   },
   "file_extension": ".py",
   "mimetype": "text/x-python",
   "name": "python",
   "nbconvert_exporter": "python",
   "pygments_lexer": "ipython3",
   "version": "3.8.5"
  }
 },
 "nbformat": 4,
 "nbformat_minor": 4
}
